{
 "cells": [
  {
   "cell_type": "code",
   "execution_count": 1,
   "id": "bd8cf59f",
   "metadata": {},
   "outputs": [
    {
     "name": "stderr",
     "output_type": "stream",
     "text": [
      "[nltk_data] Downloading package stopwords to\n",
      "[nltk_data]     C:\\Users\\madhu\\AppData\\Roaming\\nltk_data...\n",
      "[nltk_data]   Package stopwords is already up-to-date!\n",
      "[nltk_data] Downloading package wordnet to\n",
      "[nltk_data]     C:\\Users\\madhu\\AppData\\Roaming\\nltk_data...\n",
      "[nltk_data]   Package wordnet is already up-to-date!\n"
     ]
    }
   ],
   "source": [
    "import sklearn\n",
    "import matplotlib.pyplot as plt\n",
    "%matplotlib inline\n",
    "import pandas\n",
    "from sklearn.model_selection import train_test_split\n",
    "import numpy\n",
    "\n",
    "import numpy as np #Linear Algebra\n",
    "import pandas as pd #Data processing, CSV file I/O (e.g. pd.read_csv)\n",
    "import matplotlib.pyplot as plt\n",
    "from mlxtend.plotting import plot_confusion_matrix\n",
    "\n",
    "from sklearn.linear_model import LogisticRegression\n",
    "from sklearn.neighbors import KNeighborsClassifier\n",
    "from sklearn.svm import SVC\n",
    "from sklearn.tree import DecisionTreeClassifier\n",
    "from sklearn.ensemble import RandomForestClassifier, GradientBoostingClassifier\n",
    "from sklearn.naive_bayes import GaussianNB\n",
    "from sklearn.metrics import accuracy_score,confusion_matrix, f1_score\n",
    "\n",
    "import numpy as np\n",
    "import pandas as pd\n",
    "import re\n",
    "import nltk\n",
    "nltk.download('stopwords')\n",
    "nltk.download('wordnet')\n",
    "from nltk.corpus import stopwords\n",
    "from nltk.stem.porter import PorterStemmer\n",
    "from nltk.stem import WordNetLemmatizer\n",
    "import matplotlib.pyplot as plt\n",
    "import seaborn as sns\n",
    "import itertools\n",
    "import collections\n",
    "import matplotlib\n",
    "\n",
    "from PIL import Image\n",
    "from wordcloud import WordCloud, STOPWORDS, ImageColorGenerator\n",
    " \n",
    "import string\n",
    "import warnings \n",
    "warnings.filterwarnings(\"ignore\", category=DeprecationWarning)\n",
    "\n",
    "%matplotlib inline\n",
    "\n",
    "from textblob import TextBlob\n",
    "\n",
    "#Input data files are available in the \"../input/\" directory.\n",
    "#For example, running this (by clicking run or pressing Shift+Enter) will list the files in the input directory\n",
    "\n",
    "import os"
   ]
  },
  {
   "cell_type": "code",
   "execution_count": 2,
   "id": "22b506e1",
   "metadata": {},
   "outputs": [],
   "source": [
    "#To print mulitple statements in single command \n",
    "from IPython.core.interactiveshell import InteractiveShell\n",
    "InteractiveShell.ast_node_interactivity=\"all\""
   ]
  },
  {
   "cell_type": "code",
   "execution_count": 3,
   "id": "a615697a",
   "metadata": {},
   "outputs": [
    {
     "name": "stdout",
     "output_type": "stream",
     "text": [
      "<class 'pandas.core.frame.DataFrame'>\n",
      "RangeIndex: 3074 entries, 0 to 3073\n",
      "Data columns (total 4 columns):\n",
      " #   Column           Non-Null Count  Dtype \n",
      "---  ------           --------------  ----- \n",
      " 0   bank_name        3074 non-null   object\n",
      " 1   bank_name_short  3074 non-null   object\n",
      " 2   card_category    3074 non-null   object\n",
      " 3   reviews          3074 non-null   object\n",
      "dtypes: object(4)\n",
      "memory usage: 96.2+ KB\n"
     ]
    },
    {
     "data": {
      "text/plain": [
       "(3074, 4)"
      ]
     },
     "execution_count": 3,
     "metadata": {},
     "output_type": "execute_result"
    }
   ],
   "source": [
    "df_web = pd.read_csv('C:\\\\Reva\\\\BA06\\\\2nd Year\\\\capstone_project\\\\credit card recommadation\\\\dataset\\\\reviews_credit_card_data.csv')\n",
    "df_web.info()\n",
    "df_web.shape"
   ]
  },
  {
   "cell_type": "code",
   "execution_count": 4,
   "id": "5412b712",
   "metadata": {},
   "outputs": [
    {
     "name": "stdout",
     "output_type": "stream",
     "text": [
      "<class 'pandas.core.frame.DataFrame'>\n",
      "RangeIndex: 3196 entries, 0 to 3195\n",
      "Data columns (total 10 columns):\n",
      " #   Column         Non-Null Count  Dtype  \n",
      "---  ------         --------------  -----  \n",
      " 0   ttext          3195 non-null   object \n",
      " 1   date           3195 non-null   object \n",
      " 2   isretweet      3195 non-null   object \n",
      " 3   retweetcount   3195 non-null   float64\n",
      " 4   favoritecount  3195 non-null   float64\n",
      " 5   score          3195 non-null   float64\n",
      " 6   product        3195 non-null   object \n",
      " 7   region         3195 non-null   object \n",
      " 8   country        3195 non-null   object \n",
      " 9   duplicate      3195 non-null   object \n",
      "dtypes: float64(3), object(7)\n",
      "memory usage: 249.8+ KB\n"
     ]
    },
    {
     "data": {
      "text/plain": [
       "(3196, 10)"
      ]
     },
     "execution_count": 4,
     "metadata": {},
     "output_type": "execute_result"
    }
   ],
   "source": [
    "df_tweet = pd.read_csv('C:\\\\Reva\\\\BA06\\\\2nd Year\\\\capstone_project\\\\credit card recommadation\\\\dataset\\\\twitterdata\\\\twitterfiles\\\\twitterfiles.csv')\n",
    "df_tweet.info()\n",
    "df_tweet.shape"
   ]
  },
  {
   "cell_type": "code",
   "execution_count": 5,
   "id": "99010522",
   "metadata": {},
   "outputs": [
    {
     "data": {
      "text/html": [
       "<div>\n",
       "<style scoped>\n",
       "    .dataframe tbody tr th:only-of-type {\n",
       "        vertical-align: middle;\n",
       "    }\n",
       "\n",
       "    .dataframe tbody tr th {\n",
       "        vertical-align: top;\n",
       "    }\n",
       "\n",
       "    .dataframe thead th {\n",
       "        text-align: right;\n",
       "    }\n",
       "</style>\n",
       "<table border=\"1\" class=\"dataframe\">\n",
       "  <thead>\n",
       "    <tr style=\"text-align: right;\">\n",
       "      <th></th>\n",
       "      <th>ttext</th>\n",
       "      <th>date</th>\n",
       "      <th>isretweet</th>\n",
       "      <th>retweetcount</th>\n",
       "      <th>favoritecount</th>\n",
       "      <th>score</th>\n",
       "      <th>product</th>\n",
       "      <th>region</th>\n",
       "      <th>country</th>\n",
       "      <th>duplicate</th>\n",
       "    </tr>\n",
       "  </thead>\n",
       "  <tbody>\n",
       "    <tr>\n",
       "      <th>0</th>\n",
       "      <td>OnePlus 9RT in stock</td>\n",
       "      <td>19-01-2022 02:04</td>\n",
       "      <td>False</td>\n",
       "      <td>0.0</td>\n",
       "      <td>0.0</td>\n",
       "      <td>0.0</td>\n",
       "      <td>SBI</td>\n",
       "      <td>Delhi</td>\n",
       "      <td>India</td>\n",
       "      <td>False</td>\n",
       "    </tr>\n",
       "    <tr>\n",
       "      <th>1</th>\n",
       "      <td>@AxisBankSupport i haven't applied for Flipkar...</td>\n",
       "      <td>19-01-2022 02:44</td>\n",
       "      <td>False</td>\n",
       "      <td>0.0</td>\n",
       "      <td>0.0</td>\n",
       "      <td>0.0</td>\n",
       "      <td>Axis</td>\n",
       "      <td>Delhi</td>\n",
       "      <td>India</td>\n",
       "      <td>False</td>\n",
       "    </tr>\n",
       "    <tr>\n",
       "      <th>2</th>\n",
       "      <td>@HDFC_Bank My loan application and credit card...</td>\n",
       "      <td>19-01-2022 03:34</td>\n",
       "      <td>False</td>\n",
       "      <td>0.0</td>\n",
       "      <td>0.0</td>\n",
       "      <td>0.0</td>\n",
       "      <td>hdfc</td>\n",
       "      <td>Delhi</td>\n",
       "      <td>India</td>\n",
       "      <td>False</td>\n",
       "    </tr>\n",
       "    <tr>\n",
       "      <th>3</th>\n",
       "      <td>Hey @AxisBank , i didn't received my credit ca...</td>\n",
       "      <td>19-01-2022 03:53</td>\n",
       "      <td>False</td>\n",
       "      <td>0.0</td>\n",
       "      <td>1.0</td>\n",
       "      <td>-1.0</td>\n",
       "      <td>Axis</td>\n",
       "      <td>Delhi</td>\n",
       "      <td>India</td>\n",
       "      <td>False</td>\n",
       "    </tr>\n",
       "    <tr>\n",
       "      <th>4</th>\n",
       "      <td>@TechnoFino \\r\\nBro I find a term in my hdfc m...</td>\n",
       "      <td>19-01-2022 04:03</td>\n",
       "      <td>False</td>\n",
       "      <td>0.0</td>\n",
       "      <td>0.0</td>\n",
       "      <td>0.0</td>\n",
       "      <td>hdfc</td>\n",
       "      <td>Delhi</td>\n",
       "      <td>India</td>\n",
       "      <td>False</td>\n",
       "    </tr>\n",
       "  </tbody>\n",
       "</table>\n",
       "</div>"
      ],
      "text/plain": [
       "                                               ttext              date  \\\n",
       "0                              OnePlus 9RT in stock   19-01-2022 02:04   \n",
       "1  @AxisBankSupport i haven't applied for Flipkar...  19-01-2022 02:44   \n",
       "2  @HDFC_Bank My loan application and credit card...  19-01-2022 03:34   \n",
       "3  Hey @AxisBank , i didn't received my credit ca...  19-01-2022 03:53   \n",
       "4  @TechnoFino \\r\\nBro I find a term in my hdfc m...  19-01-2022 04:03   \n",
       "\n",
       "  isretweet  retweetcount  favoritecount  score product region country  \\\n",
       "0     False           0.0            0.0    0.0     SBI  Delhi   India   \n",
       "1     False           0.0            0.0    0.0    Axis  Delhi   India   \n",
       "2     False           0.0            0.0    0.0    hdfc  Delhi   India   \n",
       "3     False           0.0            1.0   -1.0    Axis  Delhi   India   \n",
       "4     False           0.0            0.0    0.0    hdfc  Delhi   India   \n",
       "\n",
       "  duplicate  \n",
       "0     False  \n",
       "1     False  \n",
       "2     False  \n",
       "3     False  \n",
       "4     False  "
      ]
     },
     "execution_count": 5,
     "metadata": {},
     "output_type": "execute_result"
    }
   ],
   "source": [
    "df_tweet.head()"
   ]
  },
  {
   "cell_type": "code",
   "execution_count": 6,
   "id": "8688214a",
   "metadata": {},
   "outputs": [],
   "source": [
    "frames = [df_web['reviews'], df_tweet['ttext']]\n",
    "frame = pd.concat(frames, ignore_index=True)\n",
    "df = frame.to_frame()\n",
    "df = df.rename(columns={0:\"comment\"})"
   ]
  },
  {
   "cell_type": "code",
   "execution_count": 7,
   "id": "448dae3d",
   "metadata": {},
   "outputs": [
    {
     "data": {
      "text/html": [
       "<div>\n",
       "<style scoped>\n",
       "    .dataframe tbody tr th:only-of-type {\n",
       "        vertical-align: middle;\n",
       "    }\n",
       "\n",
       "    .dataframe tbody tr th {\n",
       "        vertical-align: top;\n",
       "    }\n",
       "\n",
       "    .dataframe thead th {\n",
       "        text-align: right;\n",
       "    }\n",
       "</style>\n",
       "<table border=\"1\" class=\"dataframe\">\n",
       "  <thead>\n",
       "    <tr style=\"text-align: right;\">\n",
       "      <th></th>\n",
       "      <th>comment</th>\n",
       "    </tr>\n",
       "  </thead>\n",
       "  <tbody>\n",
       "    <tr>\n",
       "      <th>0</th>\n",
       "      <td>On my first stay with the Trident Group, I was...</td>\n",
       "    </tr>\n",
       "    <tr>\n",
       "      <th>1</th>\n",
       "      <td>From shopping at the supermarkets to watching ...</td>\n",
       "    </tr>\n",
       "    <tr>\n",
       "      <th>2</th>\n",
       "      <td>Have been using this card for over 2 years now...</td>\n",
       "    </tr>\n",
       "    <tr>\n",
       "      <th>3</th>\n",
       "      <td>This card is indeed the one that offers the mo...</td>\n",
       "    </tr>\n",
       "    <tr>\n",
       "      <th>4</th>\n",
       "      <td>The Valueback deals on fuels are the perfect b...</td>\n",
       "    </tr>\n",
       "    <tr>\n",
       "      <th>...</th>\n",
       "      <td>...</td>\n",
       "    </tr>\n",
       "    <tr>\n",
       "      <th>6265</th>\n",
       "      <td>@SBICard_Connect I have to surrender my sbi cr...</td>\n",
       "    </tr>\n",
       "    <tr>\n",
       "      <th>6266</th>\n",
       "      <td>@SBICard_Connect 3. SBI Credit Card PULSE\\r\\n\\...</td>\n",
       "    </tr>\n",
       "    <tr>\n",
       "      <th>6267</th>\n",
       "      <td>@SBICard_Connect 3. SBI Credit Card PULSE \\r\\n...</td>\n",
       "    </tr>\n",
       "    <tr>\n",
       "      <th>6268</th>\n",
       "      <td>@mehulmpt I use SBI credit card for all intern...</td>\n",
       "    </tr>\n",
       "    <tr>\n",
       "      <th>6269</th>\n",
       "      <td>NaN</td>\n",
       "    </tr>\n",
       "  </tbody>\n",
       "</table>\n",
       "<p>6270 rows × 1 columns</p>\n",
       "</div>"
      ],
      "text/plain": [
       "                                                comment\n",
       "0     On my first stay with the Trident Group, I was...\n",
       "1     From shopping at the supermarkets to watching ...\n",
       "2     Have been using this card for over 2 years now...\n",
       "3     This card is indeed the one that offers the mo...\n",
       "4     The Valueback deals on fuels are the perfect b...\n",
       "...                                                 ...\n",
       "6265  @SBICard_Connect I have to surrender my sbi cr...\n",
       "6266  @SBICard_Connect 3. SBI Credit Card PULSE\\r\\n\\...\n",
       "6267  @SBICard_Connect 3. SBI Credit Card PULSE \\r\\n...\n",
       "6268  @mehulmpt I use SBI credit card for all intern...\n",
       "6269                                                NaN\n",
       "\n",
       "[6270 rows x 1 columns]"
      ]
     },
     "execution_count": 7,
     "metadata": {},
     "output_type": "execute_result"
    }
   ],
   "source": [
    "#type(data)\n",
    "df"
   ]
  },
  {
   "cell_type": "code",
   "execution_count": 8,
   "id": "9d846530",
   "metadata": {},
   "outputs": [
    {
     "data": {
      "text/html": [
       "<div>\n",
       "<style scoped>\n",
       "    .dataframe tbody tr th:only-of-type {\n",
       "        vertical-align: middle;\n",
       "    }\n",
       "\n",
       "    .dataframe tbody tr th {\n",
       "        vertical-align: top;\n",
       "    }\n",
       "\n",
       "    .dataframe thead th {\n",
       "        text-align: right;\n",
       "    }\n",
       "</style>\n",
       "<table border=\"1\" class=\"dataframe\">\n",
       "  <thead>\n",
       "    <tr style=\"text-align: right;\">\n",
       "      <th></th>\n",
       "      <th>comment</th>\n",
       "    </tr>\n",
       "  </thead>\n",
       "  <tbody>\n",
       "    <tr>\n",
       "      <th>0</th>\n",
       "      <td>On my first stay with the Trident Group, I was...</td>\n",
       "    </tr>\n",
       "    <tr>\n",
       "      <th>1</th>\n",
       "      <td>From shopping at the supermarkets to watching ...</td>\n",
       "    </tr>\n",
       "    <tr>\n",
       "      <th>2</th>\n",
       "      <td>Have been using this card for over 2 years now...</td>\n",
       "    </tr>\n",
       "    <tr>\n",
       "      <th>3</th>\n",
       "      <td>This card is indeed the one that offers the mo...</td>\n",
       "    </tr>\n",
       "    <tr>\n",
       "      <th>4</th>\n",
       "      <td>The Valueback deals on fuels are the perfect b...</td>\n",
       "    </tr>\n",
       "  </tbody>\n",
       "</table>\n",
       "</div>"
      ],
      "text/plain": [
       "                                             comment\n",
       "0  On my first stay with the Trident Group, I was...\n",
       "1  From shopping at the supermarkets to watching ...\n",
       "2  Have been using this card for over 2 years now...\n",
       "3  This card is indeed the one that offers the mo...\n",
       "4  The Valueback deals on fuels are the perfect b..."
      ]
     },
     "execution_count": 8,
     "metadata": {},
     "output_type": "execute_result"
    },
    {
     "name": "stdout",
     "output_type": "stream",
     "text": [
      "<class 'pandas.core.frame.DataFrame'>\n",
      "RangeIndex: 6270 entries, 0 to 6269\n",
      "Data columns (total 1 columns):\n",
      " #   Column   Non-Null Count  Dtype \n",
      "---  ------   --------------  ----- \n",
      " 0   comment  6269 non-null   object\n",
      "dtypes: object(1)\n",
      "memory usage: 49.1+ KB\n"
     ]
    }
   ],
   "source": [
    "df.head()\n",
    "df.info()"
   ]
  },
  {
   "cell_type": "code",
   "execution_count": 9,
   "id": "1f571aed",
   "metadata": {},
   "outputs": [
    {
     "name": "stderr",
     "output_type": "stream",
     "text": [
      "[nltk_data] Downloading package stopwords to\n",
      "[nltk_data]     C:\\Users\\madhu\\AppData\\Roaming\\nltk_data...\n",
      "[nltk_data]   Package stopwords is already up-to-date!\n"
     ]
    },
    {
     "data": {
      "text/plain": [
       "True"
      ]
     },
     "execution_count": 9,
     "metadata": {},
     "output_type": "execute_result"
    },
    {
     "name": "stderr",
     "output_type": "stream",
     "text": [
      "[nltk_data] Downloading package wordnet to\n",
      "[nltk_data]     C:\\Users\\madhu\\AppData\\Roaming\\nltk_data...\n",
      "[nltk_data]   Package wordnet is already up-to-date!\n"
     ]
    },
    {
     "data": {
      "text/plain": [
       "True"
      ]
     },
     "execution_count": 9,
     "metadata": {},
     "output_type": "execute_result"
    }
   ],
   "source": [
    "import nltk\n",
    "nltk.download('stopwords')\n",
    "nltk.download('wordnet')\n",
    "from nltk.stem.porter import PorterStemmer\n",
    "from nltk.stem import WordNetLemmatizer\n",
    "from nltk.corpus import stopwords\n",
    "from textblob import TextBlob"
   ]
  },
  {
   "cell_type": "code",
   "execution_count": 10,
   "id": "e57e6f9d",
   "metadata": {},
   "outputs": [],
   "source": [
    "# Spell correct using text blob for the first 1000 records\n",
    "from textblob import TextBlob\n",
    "dfs = df['comment'][:5].apply(lambda x: str(TextBlob(x).correct()))"
   ]
  },
  {
   "cell_type": "code",
   "execution_count": 11,
   "id": "f31279e2",
   "metadata": {},
   "outputs": [
    {
     "data": {
      "text/plain": [
       "0    In my first stay with the Evident Group, I was...\n",
       "1    From shopping at the supermarket to watching m...\n",
       "2    Have been using this card for over 2 years now...\n",
       "3    His card is indeed the one that offers the mos...\n",
       "4    The Valueback deals on feels are the perfect b...\n",
       "Name: comment, dtype: object"
      ]
     },
     "execution_count": 11,
     "metadata": {},
     "output_type": "execute_result"
    }
   ],
   "source": [
    "dfs"
   ]
  },
  {
   "cell_type": "code",
   "execution_count": 12,
   "id": "f1cf51bc",
   "metadata": {},
   "outputs": [],
   "source": [
    "corpus = [] # form an empty list called corpus\n",
    "ps = PorterStemmer() # for stemming the words to original form, for example - \"running to run\"\n",
    "stop_words = set(stopwords.words('english')) # remove words such as will, I, and, at etc.\n",
    "for i in range(0, 5144): # iterate through the list of all 5144 comments\n",
    "  # remove handles (@), numbers, urls, emojis and any other special characters to have only text\n",
    "  data_clean = re.sub(\"(@[A-Za-z0-9]+)|([^0-9A-Za-z \\t])|(\\w+:\\/\\/\\S+)|[0-9]\", '',str(df.comment[i]))\n",
    "  # convert all words to lower case\n",
    "  data_clean = data_clean.lower()\n",
    "  # split sentences into words\n",
    "  data_clean = data_clean.split()\n",
    "  # remove English stop words\n",
    "  data_clean = [x for x in data_clean if not x in stop_words]\n",
    "  # stem words to the base form\n",
    "  data_clean = [ps.stem(x) for x in data_clean]\n",
    "  # join words to form the original sentences\n",
    "  data_clean = \" \".join(data_clean)\n",
    "  # append to the list to get all Comments in one place\n",
    "  corpus.append(data_clean)\n",
    "#print(corpus)"
   ]
  },
  {
   "cell_type": "code",
   "execution_count": 13,
   "id": "6f97e537",
   "metadata": {},
   "outputs": [
    {
     "name": "stdout",
     "output_type": "stream",
     "text": [
      "<class 'pandas.core.frame.DataFrame'>\n",
      "Int64Index: 2316 entries, 0 to 5140\n",
      "Data columns (total 3 columns):\n",
      " #   Column         Non-Null Count  Dtype  \n",
      "---  ------         --------------  -----  \n",
      " 0   Polarity       2316 non-null   float64\n",
      " 1   UserComments   2316 non-null   object \n",
      " 2   Polarity_type  2316 non-null   object \n",
      "dtypes: float64(1), object(2)\n",
      "memory usage: 72.4+ KB\n"
     ]
    },
    {
     "data": {
      "text/plain": [
       "(2316, 3)"
      ]
     },
     "execution_count": 13,
     "metadata": {},
     "output_type": "execute_result"
    }
   ],
   "source": [
    "dflex = pd.read_excel('C:\\\\Reva\\\\BA06\\\\2nd Year\\\\capstone_project\\\\credit card recommadation\\\\dataset\\\\export_User_Comments_Polarity_Category.xlsx')\n",
    "dflex = dflex[dflex['Polarity_type'] != 'Neutral']\n",
    "dflex.info()\n",
    "dflex.shape"
   ]
  },
  {
   "cell_type": "markdown",
   "id": "5dbe37e2",
   "metadata": {},
   "source": [
    "# POS Tagging"
   ]
  },
  {
   "cell_type": "code",
   "execution_count": 14,
   "id": "5eb800bf",
   "metadata": {},
   "outputs": [
    {
     "name": "stderr",
     "output_type": "stream",
     "text": [
      "[nltk_data] Downloading package punkt to\n",
      "[nltk_data]     C:\\Users\\madhu\\AppData\\Roaming\\nltk_data...\n",
      "[nltk_data]   Package punkt is already up-to-date!\n"
     ]
    },
    {
     "data": {
      "text/plain": [
       "True"
      ]
     },
     "execution_count": 14,
     "metadata": {},
     "output_type": "execute_result"
    },
    {
     "name": "stderr",
     "output_type": "stream",
     "text": [
      "[nltk_data] Downloading package averaged_perceptron_tagger to\n",
      "[nltk_data]     C:\\Users\\madhu\\AppData\\Roaming\\nltk_data...\n",
      "[nltk_data]   Package averaged_perceptron_tagger is already up-to-\n",
      "[nltk_data]       date!\n"
     ]
    },
    {
     "data": {
      "text/plain": [
       "True"
      ]
     },
     "execution_count": 14,
     "metadata": {},
     "output_type": "execute_result"
    }
   ],
   "source": [
    "import os\n",
    "import numpy as np\n",
    "\n",
    "import pandas as pd\n",
    "from tqdm import tqdm\n",
    "tqdm.pandas()\n",
    "\n",
    "from nltk import word_tokenize, pos_tag\n",
    "from collections import Counter\n",
    "\n",
    "nltk.download('punkt')\n",
    "nltk.download('averaged_perceptron_tagger')\n",
    "\n",
    "import matplotlib.pyplot as plt\n",
    "import seaborn as sns\n",
    "\n",
    "import warnings\n",
    "warnings.filterwarnings('ignore')\n",
    "\n"
   ]
  },
  {
   "cell_type": "code",
   "execution_count": 15,
   "id": "7937f261",
   "metadata": {},
   "outputs": [
    {
     "data": {
      "application/vnd.jupyter.widget-view+json": {
       "model_id": "a899c327fd0a4650a0219db6b5ed6b69",
       "version_major": 2,
       "version_minor": 0
      },
      "text/plain": [
       "0it [00:00, ?it/s]"
      ]
     },
     "metadata": {},
     "output_type": "display_data"
    },
    {
     "data": {
      "application/vnd.jupyter.widget-view+json": {
       "model_id": "157c863bb8ac4221a28e81b16845066e",
       "version_major": 2,
       "version_minor": 0
      },
      "text/plain": [
       "  0%|          | 0/2316 [00:00<?, ?it/s]"
      ]
     },
     "metadata": {},
     "output_type": "display_data"
    }
   ],
   "source": [
    "from tqdm import tqdm, tqdm_notebook\n",
    "tqdm_notebook().pandas()\n",
    "pos_tags = dflex['Polarity_type'].progress_apply(lambda x: pos_tag(word_tokenize(str(x))))\n",
    "targets = dflex['Polarity_type']"
   ]
  },
  {
   "cell_type": "code",
   "execution_count": 16,
   "id": "f8a09006",
   "metadata": {},
   "outputs": [
    {
     "name": "stdout",
     "output_type": "stream",
     "text": [
      "[('Negative', 'JJ')]\n"
     ]
    }
   ],
   "source": [
    "print(pos_tags[100])"
   ]
  },
  {
   "cell_type": "code",
   "execution_count": 17,
   "id": "ed2a3d4b",
   "metadata": {},
   "outputs": [],
   "source": [
    "tags = []\n",
    "for i, tag in enumerate(pos_tags):\n",
    "    pos_tags[i] = list(map(list, tag))\n",
    "    tags.append(np.array(pos_tags[i])[:,0])\n",
    "flat_tags = np.concatenate([tag for tag in tags])"
   ]
  },
  {
   "cell_type": "code",
   "execution_count": 18,
   "id": "ba9a8802",
   "metadata": {},
   "outputs": [],
   "source": [
    "counts = [dict(Counter(tag)) for tag in tags]"
   ]
  },
  {
   "cell_type": "code",
   "execution_count": 19,
   "id": "ec0db33e",
   "metadata": {},
   "outputs": [],
   "source": [
    "DATA_LEN = 1804874\n",
    "SAMPLE_SIZE = 9546\n",
    "all_tags = set(flat_tags)\n",
    "df = pd.DataFrame(np.zeros((SAMPLE_SIZE, 1)))\n",
    "df.columns = ['comment']\n",
    "df.count_dict = counts\n",
    "df.target = targets"
   ]
  },
  {
   "cell_type": "markdown",
   "id": "c57f43dd",
   "metadata": {},
   "source": [
    "# Bag Of Words"
   ]
  },
  {
   "cell_type": "code",
   "execution_count": 20,
   "id": "26b662dd",
   "metadata": {},
   "outputs": [],
   "source": [
    "bagofwords=[]\n",
    "for i in range (0,2316):\n",
    "    words = corpus[i].split()\n",
    "    bagofwords.append(words)"
   ]
  },
  {
   "cell_type": "code",
   "execution_count": 21,
   "id": "932a41cd",
   "metadata": {},
   "outputs": [
    {
     "data": {
      "text/plain": [
       "['hdfc',\n",
       " 'credit',\n",
       " 'card',\n",
       " 'avail',\n",
       " 'onlin',\n",
       " 'use',\n",
       " 'card',\n",
       " 'past',\n",
       " 'year',\n",
       " 'free',\n",
       " 'card',\n",
       " 'money',\n",
       " 'back',\n",
       " 'card',\n",
       " 'shop',\n",
       " 'get',\n",
       " 'discount',\n",
       " 'pretti',\n",
       " 'good',\n",
       " 'movi',\n",
       " 'ticket',\n",
       " 'offer',\n",
       " 'custom',\n",
       " 'servic',\n",
       " 'also',\n",
       " 'good',\n",
       " 'get',\n",
       " 'proper',\n",
       " 'respons',\n",
       " 'need',\n",
       " 'assist',\n",
       " 'everyth',\n",
       " 'good',\n",
       " 'far',\n",
       " 'face',\n",
       " 'difficulti']"
      ]
     },
     "execution_count": 21,
     "metadata": {},
     "output_type": "execute_result"
    }
   ],
   "source": [
    "bagofwords[2315]"
   ]
  },
  {
   "cell_type": "code",
   "execution_count": 22,
   "id": "70ebdc5e",
   "metadata": {},
   "outputs": [
    {
     "name": "stdout",
     "output_type": "stream",
     "text": [
      "['first', 'stay', 'trident', 'group', 'reward', 'bonu', 'point', 'shop', 'supermarket', 'watch', 'movi', 'spend', 'sbi', 'card', 'reward', 'use', 'card', 'year', 'benefit', 'reward', 'good', 'card', 'inde', 'one', 'offer', 'reward', 'fuel', 'save', 'benefit', 'card', 'holder', 'valueback', 'deal', 'fuel', 'perfect', 'benefit', 'card', 'util', 'reward', 'accru', 'sbi', 'card', 'util', 'bill', 'payment', 'groceri', 'shop', 'reward', 'everi', 'inr', 'spent', 'get', 'reward', 'point', 'made', 'use', 'reward', 'point', 'air', 'mile', 'shop', 'citi', 'bank', 'partner', 'tini', 'reward', 'redempt', 'fee', 'reward', 'good', 'got', 'reward', 'worth', 'sbi', 'exceed', 'spend', 'lac', 'like', 'amaz', 'reward', 'card', 'sbi', 'credit', 'card', 'get', 'membership', 'reward', 'point', 'everi', 'inr', 'spend', 'sinc', 'year', 'use', 'citi', 'bank', 'reward', 'credit', 'card', 'life', 'time', 'free', 'card', 'given', 'credit', 'limit', 'rs', 'use', 'card', 'shop', 'purpos', 'get', 'credit', 'card', 'statement', 'email', 'bank', 'provid', 'good', 'servic', 'rate', 'interest', 'high', 'citi', 'provid', 'annual', 'fee', 'chargeabl', 'card', 'k', 'much', 'high', 'compar', 'bank', 'provid', 'life', 'time', 'free', 'card', 'chanc', 'mani', 'peopl', 'appli', 'waiver', 'use', 'card', 'start', 'shop', 'restaur', 'fuel', 'purpos', 'credit', 'limit', 'k', 'initi', 'told', 'elig', 'l', 'l', 'interest', 'rate', 'high', 'emi', 'convers', 'applic', 'charg', 'high', 'happi', 'aspect', 'card', 'except', 'didnt', 'give', 'enough', 'fuel', 'reward', 'use', 'icici', 'credit', 'card', 'almost', 'last', 'year', 'im', 'get', 'good', 'reward', 'point', 'dine', 'partner', 'restaur', 'shop', 'partner', 'shop', 'im', 'get', 'cashback', 'avail', 'emi', 'convers', 'facil', 'charg', 'depend', 'tenur', 'period', 'select', 'charg', 'less', 'spend', 'icici', 'credit', 'card', 'get', 'reward', 'point', 'per', 'inr', 'spent', 'travel', 'reward', 'plan', 'icici', 'rubyx', 'card', 'best', 'credit', 'card', 'truli', 'best', 'come', 'mileston', 'reward', 'save', 'reward', 'earn', 'rate', 'card', 'fairli', 'decent', 'use', 'reward', 'point', 'shop', 'catalogu', 'amex', 'happi', 'content', 'massiv', 'array', 'reward', 'get', 'spend', 'done', 'card', 'get', 'mileston', 'bonu', 'membership', 'reward', 'point', 'redeem', 'travel', 'voucher', 'worth', 'rs', 'reward', 'point', 'accru', 'card', 'use', 'shop', 'gift', 'sbi', 'catalogu', 'standard', 'charter', 'bank', 'provid', 'annual', 'fee', 'chargeabl', 'card', 'appli', 'direct', 'bank', 'one', 'year', 'back', 'waiver', 'option', 'spend', 'certain', 'amount', 'usag', 'credit', 'limit', 'l', 'initi', 'got', 'l', 'enhanc', 'well', 'prefer', 'cash', 'limit', 'use', 'card', 'dine', 'shop', 'onlin', 'purchas', 'base', 'usag', 'get', 'reward', 'point', 'reward', 'point', 'hold', 'great', 'valu', 'use', 'cashback', 'like', 'reward', 'dine', 'shop', 'sbi', 'perfectli', 'reward', 'credit', 'card', 'simpli', 'love', 'great', 'except', 'expens', 'like', 'fuel', 'insur', 'util', 'cash', 'transact', 'get', 'reward', 'point', 'per', 'inr', 'spend', 'year', 'use', 'sbi', 'simpli', 'save', 'card', 'perfect', 'card', 'good', 'benefit', 'reward', 'perfect', 'lifestyl', 'card', 'bag', 'fascin', 'benefit', 'glad', 'could', 'easili', 'redeem', 'reward', 'number', 'option', 'three', 'differ', 'varieti', 'avail', 'reward', 'opt', 'travel', 'one', 'sbi', 'waiv', 'fuel', 'surcharg', 'fee', 'best', 'bank', 'ever', 'dont', 'bear', 'fuel', 'cost', 'card', 'got', 'waiver', 'fuel', 'cost', 'simpli', 'save', 'card', 'bring', 'x', 'reward', 'point', 'groceri', 'shop', 'hdfc', 'bank', 'offer', 'diner', 'club', 'credit', 'card', 'use', 'card', 'month', 'annual', 'charg', 'card', 'rs', 'fee', 'waiver', 'bank', 'offer', 'credit', 'limit', 'rs', 'l', 'get', 'credit', 'card', 'statement', 'soft', 'copi', 'ever', 'shop', 'get', 'alert', 'messag', 'spend', 'inr', 'first', 'day', 'fetch', 'activ', 'bonu', 'reward', 'use', 'icici', 'bank', 'platinum', 'credit', 'card', 'year', 'given', 'good', 'credit', 'rs', 'l', 'life', 'time', 'free', 'card', 'mostli', 'use', 'card', 'shop', 'groceri', 'fill', 'fuel', 'reward', 'point', 'convert', 'big', 'bazaar', 'card', 'emi', 'facil', 'give', 'good', 'servic', 'annual', 'spend', 'lac', 'got', 'bonu', 'reward', 'point', 'redeem', 'reward', 'point', 'made', 'use', 'get', 'gift', 'reward', 'catalogu', 'sbi', 'happi', 'satiat', 'save', 'good', 'degre', 'form', 'reward', 'cashback', 'benefit', 'card', 'shop', 'groceri', 'get', 'x', 'reward', 'sbi', 'card', 'like', 'phenomen', 'varieti', 'reward', 'benefit', 'card', 'recommend', 'sbi', 'card', 'anyon', 'everyon', 'struggl', 'high', 'fuel', 'cost', 'icici', 'bank', 'amazon', 'pay', 'credit', 'card', 'card', 'get', 'cashback', 'shop', 'amazon', 'websit', 'amazon', 'get', 'cashback', 'websit', 'reward', 'point', 'equal', 'rs', 'use', 'card', 'almost', 'year', 'connect', 'call', 'centr', 'peopl', 'quit', 'tough', 'use', 'citi', 'bank', 'reward', 'card', 'year', 'life', 'time', 'free', 'card', 'credit', 'limit', 'suffici', 'card', 'reward', 'benefit', 'convert', 'reward', 'cash', 'back', 'mostli', 'use', 'shop', 'travel', 'fuel', 'sbi', 'annual', 'fee', 'chargeabl', 'rupe', 'waiver', 'option', 'spend', 'one', 'lakh', 'within', 'year', 'receiv', 'call', 'time', 'process', 'smooth', 'charg', 'card', 'protect', 'plan', 'intim', 'earlier', 'amount', 'deduct', 'amount', 'rupe', 'credit', 'limit', 'low', 'initi', 'told', 'around', 'l', 'receiv', 'k', 'use', 'card', 'shop', 'emi', 'convers', 'applic', 'happi', 'receiv', 'x', 'reward', 'spend', 'done', 'dine', 'redeem', 'reward', 'point', 'got', 'free', 'gift', 'voucher', 'lifestyl', 'brand', 'accumul', 'reward', 'point', 'later', 'use', 'shop', 'reward', 'catalog', 'sbi', 'use', 'sbi', 'credit', 'card', 'three', 'month', 'reward', 'point', 'offer', 'card', 'use', 'card', 'onlin', 'shop', 'fuel', 'surcharg', 'groceriesth', 'credit', 'limit', 'card', 'suffici', 'like', 'card', 'life', 'time', 'free', 'card', 'good', 'use', 'use', 'citi', 'bank', 'reward', 'credit', 'card', 'past', 'year', 'got', 'card', 'along', 'salari', 'account', 'life', 'time', 'free', 'card', 'custom', 'servic', 'respons', 'good', 'use', 'card', 'purpos', 'get', 'movi', 'ticket', 'friday', 'could', 'easili', 'redeem', 'reward', 'point', 'singapor', 'airlin', 'kri', 'flyer', 'use', 'hush', 'puppi', 'voucher', 'got', 'welcom', 'gift', 'shop', 'new', 'pair', 'shoe', 'got', 'credit', 'limit', 'l', 'sbi', 'card', 'hold', 'card', 'month', 'appli', 'onlin', 'prefer', 'emi', 'convers', 'simpli', 'save', 'card', 'drawback', 'custom', 'servic', 'reachabl', 'whenev', 'contact', 'receiv', 'card', 'week', 'verif', 'done', 'good', 'servic', 'use', 'shop', 'far', 'got', 'reward', 'point', 'alreadi', 'redeem', 'accord', 'good', 'card', 'famili', 'member', 'happi', 'reward', 'sbi', 'bring', 'way', 'card', 'valid', 'period', 'reward', 'point', 'earn', 'credit', 'card', 'year', 'date', 'accumul', 'per', 'inr', 'spent', 'dine', 'card', 'get', 'reward', 'point', 'super', 'happi', 'hsbc', 'let', 'redeem', 'reward', 'gift', 'voucher', 'hdfc', 'bank', 'offer', 'titanium', 'time', 'credit', 'card', 'use', 'card', 'yearsther', 'annual', 'fee', 'given', 'good', 'credit', 'limit', 'use', 'shop', 'get', 'reward', 'point', 'emi', 'facil', 'avail', 'card', 'get', 'credit', 'card', 'statement', 'email', 'sinc', 'year', 'use', 'credit', 'card', 'sbi', 'pay', 'rs', 'annual', 'fee', 'never', 'waiver', 'option', 'bank', 'excel', 'custom', 'servic', 'app', 'good', 'credit', 'limit', 'fine', 'got', 'rs', 'l', 'base', 'card', 'transact', 'got', 'loan', 'offer', 'use', 'card', 'fuel', 'purpos', 'buy', 'home', 'applianc', 'shop', 'save', 'good', 'form', 'reward', 'sbi', 'card', 'content', 'associ', 'amex', 'alway', 'reward', 'shop', 'onlin', 'offlin', 'extrem', 'conveni', 'card', 'cannot', 'complain', 'vast', 'degre', 'benefit', 'reward', 'card', 'sbi', 'brought', 'way', 'everi', 'inr', 'spend', 'irctc', 'card', 'get', 'reward', 'point', 'get', 'reward', 'point', 'everi', 'inr', 'spent', 'card', 'card', 'multipl', 'reward', 'redempt', 'option', 'love', 'made', 'use', 'accru', 'reward', 'point', 'get', 'fuel', 'refil', 'bpcl', 'sbi', 'card', 'taken', 'almost', 'year', 'ago', 'simpli', 'save', 'credit', 'card', 'card', 'im', 'get', 'reward', 'point', 'got', 'bulk', 'point', 'convert', 'money', 'benefit', 'card', 'interest', 'rate', 'also', 'compar', 'card', 'low', 'make', 'bill', 'payment', 'credit', 'cardsemi', 'convers', 'facil', 'also', 'avail', 'card', 'love', 'incred', 'benefit', 'offer', 'simplic', 'reward', 'avail', 'card', 'redeem', 'reward', 'point', 'got', 'nice', 'backpack', 'mom', 'get', 'good', 'ffp', 'mile', 'reward', 'spend', 'done', 'frequent', 'flyer', 'program', 'ffp', 'perfect', 'travel', 'card', 'fine', 'choic', 'deal', 'reward', 'got', 'surcharg', 'waiver', 'fuel', 'transact', 'done', 'card', 'instantli', 'redeem', 'credit', 'card', 'reward', 'point', 'web', 'portal', 'yatracom', 'sbi', 'offer', 'good', 'credit', 'limit', 'credit', 'card', 'annual', 'charg', 'sure', 'document', 'simpl', 'upload', 'onin', 'receiv', 'within', 'day', 'simpli', 'save', 'simpli', 'save', 'card', 'reward', 'convert', 'cash', 'back', 'mostli', 'use', 'shop', 'fuel', 'purpos', 'domest', 'spend', 'get', 'reward', 'point', 'per', 'inr', 'mastercard', 'icici', 'card', 'premium', 'card', 'sbi', 'come', 'extens', 'varieti', 'reward', 'offer', 'best', 'one', 'ever', 'seen', 'reward', 'system', 'credit', 'card', 'far', 'best', 'everi', 'inr', 'spend', 'card', 'item', 'pertain', 'dine', 'movi', 'shop', 'get', 'reward', 'point', 'got', 'surcharg', 'waiver', 'fuel', 'refil', 'done', 'sbi', 'simpli', 'save', 'card', 'amaz', 'impress', 'scheme', 'reward', 'cashback', 'mileston', 'point', 'offer', 'sbi', 'department', 'store', 'groceri', 'movi', 'even', 'dine', 'sbi', 'elit', 'card', 'get', 'x', 'reward', 'pretti', 'satiat', 'good', 'rang', 'dine', 'groceri', 'department', 'store', 'reward', 'come', 'way', 'sbi', 'card', 'week', 'sinc', 'use', 'card', 'withdrew', 'cash', 'got', 'cashback', 'inr', 'hdfc', 'diner', 'black', 'credit', 'card', 'load', 'unparallel', 'benefit', 'featur', 'travel', 'lifestyl', 'protect', 'best', 'industri', 'reward', 'redempt', 'use', 'hdfc', 'bank', 'credit', 'card', 'offer', 'bankthi', 'life', 'time', 'free', 'card', 'platinum', 'credit', 'limit', 'suffici', 'fuel', 'benefit', 'wherein', 'get', 'cash', 'back', 'offer', 'use', 'credit', 'card', 'past', 'year', 'ad', 'servic', 'smooth', 'satisfi', 'glad', 'got', 'inr', 'cashback', 'mmt', 'payment', 'join', 'fee', 'though', 'say', 'irctc', 'definit', 'offer', 'deal', 'item', 'like', 'dine', 'golf', 'movi', 'shop', 'get', 'shop', 'travel', 'voucher', 'worth', 'inr', 'card', 'like', 'fine', 'varieti', 'benefit', 'reward', 'get', 'card', 'perfect', 'card', 'everi', 'sens', 'low', 'cost', 'extrem', 'reward', 'util', 'bill', 'enjoy', 'save', 'x', 'reward', 'everi', 'inr', 'spent', 'redempt', 'reward', 'inr', 'charg', 'like', 'fascin', 'low', 'cost', 'card', 'huge', 'array', 'reward', 'love', 'reward', 'perfect', 'sbi', 'card', 'recommend', 'redeem', 'reward', 'point', 'credit', 'outstand', 'bill', 'sbi', 'best', 'redeem', 'sbi', 'reward', 'point', 'shop', 'catalogu', 'everi', 'inr', 'spent', 'birthday', 'get', 'reward', 'point', 'card', 'perfect', 'credit', 'card', 'fetch', 'incred', 'fascin', 'reward', 'flight', 'hotel', 'book', 'sbi', 'could', 'make', 'shop', 'reward', 'spend', 'get', 'x', 'reward', 'point', 'happi', 'varieti', 'altern', 'amex', 'provid', 'redempt', 'reward', 'use', 'sbi', 'card', 'onlin', 'shop', 'got', 'discount', 'love', 'could', 'redeem', 'reward', 'point', 'payment', 'util', 'bill', 'get', 'x', 'reward', 'fuel', 'purchas', 'done', 'bpcl', 'citi', 'bank', 'premier', 'mile', 'reward', 'card', 'fetch', 'reward', 'shop', 'sbi', 'offer', 'tata', 'credit', 'card', 'use', 'year', 'free', 'card', 'given', 'suffici', 'credit', 'limit', 'rs', 'use', 'shop', 'purpos', 'mostli', 'emi', 'option', 'avail', 'bank', 'good', 'app', 'servic', 'good', 'get', 'discount', 'tata', 'product', 'like', 'star', 'bazaar', 'croma', 'appli', 'card', 'channel', 'redeem', 'sbi', 'reward', 'point', 'shop', 'catalogu', 'reward', 'dont', 'expir', 'year', 'date', 'month', 'use', 'sbi', 'simpli', 'save', 'card', 'cant', 'believ', 'benefit', 'cashback', 'reward', 'everyth', 'happi', 'card', 'bring', 'acceler', 'reward', 'spend', 'lac', 'surcharg', 'cost', 'complet', 'waiv', 'payment', 'fuel', 'cost', 'sbi', 'elit', 'card', 'perfect', 'card', 'use', 'sinc', 'year', 'great', 'benefit', 'shop', 'dine', 'movi', 'department', 'store', 'get', 'discount', 'cashback', 'intern', 'flight', 'book', 'done', 'card', 'reason', 'fee', 'inr', 'charg', 'redempt', 'reward', 'known', 'experienc', 'card', 'follow', 'india', 'largest', 'reward', 'programm', 'havent', 'use', 'reward', 'past', 'year', 'go', 'redeem', 'soon', 'shop', 'good', 'way', 'redeem', 'reward', 'card', 'glad', 'found', 'card', 'perfectli', 'reward', 'low', 'cost', 'card', 'like', 'mani', 'scheme', 'benefit', 'sand', 'reward', 'come', 'way', 'card', 'though', 'minimum', 'reward', 'inr', 'necessari', 'redempt', 'valu', 'reward', 'amaz', 'card', 'welcom', 'bonu', 'brought', 'cashback', 'inr', 'perfectli', 'amaz', 'vivid', 'array', 'benefit', 'reward', 'applic', 'card', 'happi', 'impress', 'reward', 'structur', 'credit', 'card', 'pretti', 'satiat', 'reward', 'cashback', 'come', 'way', 'card', 'got', 'welcom', 'gift', 'reward', 'point', 'card', 'could', 'use', 'reward', 'airmil', 'make', 'flight', 'book', 'love', 'reward', 'sbi', 'term', 'fuel', 'cost', 'research', 'reward', 'rate', 'found', 'card', 'reward', 'earn', 'rate', 'perfect', 'got', 'bring', 'reward', 'rate', 'sbi', 'offer', 'credit', 'card', 'conveni', 'shoppingonlin', 'payment', 'balanc', 'recharg', 'card', 'good', 'reward', 'point', 'awar', 'credit', 'limit', 'sinc', 'check', 'itth', 'bank', 'send', 'card', 'statement', 'timeth', 'servic', 'bank', 'goodi', 'satisfi', 'card', 'surcharg', 'cost', 'applic', 'fuel', 'waiv', 'sbi', 'grant', 'reward', 'point', 'welcom', 'fee', 'payment', 'bank', 'agent', 'call', 'told', 'appli', 'credit', 'card', 'sbi', 'use', 'card', 'two', 'month', 'happi', 'credit', 'limit', 'expect', 'credit', 'limit', 'l', 'card', 'reward', 'point', 'offer', 'avail', 'card', 'would', 'like', 'give', 'suggest', 'bank', 'give', 'transact', 'facil', 'credit', 'card', 'like', 'debit', 'card', 'happi', 'fascin', 'multitud', 'cashback', 'reward', 'believ', 'great', 'card', 'benefit', 'reward', 'get', 'bounti', 'year', 'sinc', 'use', 'card', 'get', 'amaz', 'reward', 'almost', 'spend', 'card', 'sbi', 'get', 'reward', 'point', 'inr', 'spent', 'hold', 'citi', 'card', 'past', 'year', 'appli', 'bank', 'credit', 'limit', 'suffici', 'initi', 'given', 'l', 'increas', 'l', 'cash', 'limit', 'k', 'emi', 'convers', 'applic', 'use', 'k', 'year', 'need', 'pay', 'annual', 'fee', 'charg', 'rupe', 'use', 'onlin', 'transact', 'ever', 'offer', 'provid', 'good', 'get', 'reward', 'point', 'reward', 'card', 'redeem', 'welcom', 'reward', 'get', 'fuel', 'refil', 'bpcl', 'petrol', 'pump', 'shop', 'department', 'store', 'fetch', 'x', 'reward', 'point', 'appli', 'sbi', 'bharath', 'petrol', 'credit', 'card', 'directli', 'bank', 'mostli', 'use', 'card', 'fuel', 'surcharg', 'waiver', 'get', 'discount', 'onlin', 'shop', 'actual', 'app', 'pretti', 'good', 'make', 'payment', 'app', 'last', 'month', 'ago', 'increas', 'credit', 'limit', 'rs', 'l', 'kind', 'reward', 'get', 'card', 'make', 'everi', 'expens', 'worth', 'spend', 'inr', 'first', 'month', 'card', 'issu', 'got', 'cashback', 'card', 'credit', 'limit', 'less', 'citi', 'sinc', 'hold', 'exist', 'card', 'good', 'limit', 'one', 'lakh', 'card', 'given', 'k', 'cash', 'limit', 'less', 'k', 'bank', 'account', 'transfer', 'amount', 'take', 'time', 'credit', 'amount', 'life', 'time', 'free', 'card', 'use', 'recharg', 'fuel', 'groceri', 'use', 'hdfc', 'card', 'year', 'got', 'offer', 'direct', 'bank', 'life', 'time', 'free', 'card', 'credit', 'limit', 'k', 'rais', 'k', 'enhanc', 'thrice', 'gst', 'charg', 'high', 'applic', 'transact', 'emi', 'convers', 'applic', 'nomin', 'charg', 'use', 'card', 'shop', 'fuel', 'get', 'reward', 'point', 'cash', 'back', 'benefit', 'appli', 'sbi', 'credit', 'card', 'got', 'within', 'two', 'week', 'card', 'deliv', 'time', 'pin', 'gener', 'easi', 'got', 'credit', 'limit', 'use', 'week', 'check', 'reward', 'pointsth', 'charg', 'card', 'quit', 'high', 'bank', 'inform', 'paid', 'rupe', 'get', 'voucher', 'receiv', 'voucher', 'yet', 'super', 'glad', 'fine', 'mix', 'reward', 'cashback', 'mileston', 'bonus', 'come', 'way', 'card', 'pretti', 'happi', 'reward', 'scheme', 'cashback', 'get', 'card', 'abl', 'accumul', 'reward', 'point', 'acceler', 'pace', 'credit', 'goe', 'sbi', 'fuel', 'waiver', 'excel', 'benefit', 'hsbc', 'card', 'custom', 'account', 'hdfc', 'easi', 'login', 'account', 'time', 'need', 'login', 'mobil', 'app', 'access', 'appli', 'card', 'via', 'onlin', 'hold', 'card', 'past', 'month', 'annual', 'fee', 'chargeabl', 'rupe', 'waiver', 'option', 'spend', 'k', 'within', 'year', 'credit', 'limit', 'l', 'use', 'onlin', 'shop', 'fuel', 'purchas', 'base', 'usag', 'get', 'cash', 'back', 'money', 'back', 'card', 'jet', 'airway', 'american', 'express', 'platinum', 'credit', 'card', 'get', 'amaz', 'travel', 'reward', 'small', 'fee', 'redempt', 'reward', 'inr', 'sbi', 'offer', 'annual', 'fee', 'chargeabl', 'rupe', 'waiver', 'option', 'appli', 'via', 'onlin', 'got', 'call', 'time', 'process', 'done', 'smooth', 'receiv', 'card', 'month', 'credit', 'limit', 'low', 'k', 'expect', 'k', 'emi', 'convers', 'applic', 'use', 'onlin', 'shop', 'get', 'reward', 'point', 'cash', 'back', 'use', 'icici', 'bank', 'platinum', 'credit', 'card', 'year', 'given', 'good', 'credit', 'rs', 'l', 'life', 'time', 'free', 'card', 'mostli', 'use', 'card', 'shop', 'groceri', 'fill', 'fuel', 'reward', 'point', 'convert', 'big', 'bazaar', 'card', 'emi', 'facil', 'give', 'good', 'servic', 'month', 'use', 'sbi', 'elit', 'card', 'high', 'valu', 'rewardbas', 'card', 'love', 'reward', 'system', 'hsbc', 'pretti', 'satiat', 'like', 'reason', 'fee', 'inr', 'paid', 'redeem', 'reward', 'point', 'accumul', 'card', 'first', 'cash', 'withdraw', 'got', 'inr', 'cashback', 'enjoy', 'humong', 'rang', 'mileston', 'bonu', 'membership', 'reward', 'point', 'card', 'onlin', 'shop', 'done', 'card', 'got', 'fine', 'lifestyl', 'benefit', 'applic', 'scb', 'credit', 'card', 'reward', 'credit', 'card', 'sinc', 'hold', 'citi', 'bank', 'card', 'much', 'benefit', 'like', 'reward', 'point', 'discount', 'redeem', 'point', 'indian', 'oil', 'petrol', 'free', 'card', 'given', 'suffici', 'credit', 'limit', 'rs', 'l', 'emi', 'option', 'avail', 'mostli', 'use', 'shop', 'fuel', 'purpos', 'quarterli', 'get', 'airport', 'loung', 'access', 'domest', 'intern', 'honestli', 'got', 'know', 'fine', 'varieti', 'reward', 'sbi', 'elit', 'card', 'simpli', 'opt', 'chosen', 'sbi', 'credit', 'card', 'sinc', 'got', 'offerth', 'credit', 'limit', 'good', 'chargeabl', 'card', 'movi', 'benefit', 'well', 'fuel', 'offer', 'discount', 'shop', 'usefulther', 'difficulti', 'face', 'far', 'use', 'credit', 'card', 'happi', 'fuel', 'overal', 'save', 'amplifi', 'card', 'like', 'credit', 'card', 'bring', 'multitud', 'reward', 'offer', 'cashback', 'way', 'sbi', 'credit', 'card', 'offer', 'reward', 'point', 'redeem', 'yet', 'domest', 'card', 'credit', 'limit', 'much', 'satisfi', 'per', 'need', 'got', 'statement', 'time', 'use', 'card', 'person', 'purposesth', 'card', 'user', 'friendli', 'pretti', 'happi', 'decent', 'scheme', 'reward', 'fine', 'varieti', 'benefit', 'get', 'sbi', 'credit', 'card', 'offer', 'vast', 'multitud', 'deal', 'offer', 'cashback', 'super', 'happi', 'get', 'reward', 'everi', 'spend', 'card', 'use', 'sbi', 'credit', 'card', 'sinc', 'like', 'shop', 'travel', 'benefit', 'lot', 'reward', 'rate', 'unsatisfactori', 'high', 'annual', 'fee', 'expect', 'credit', 'card', 'offer', 'decent', 'reward', 'custom', 'care', 'servic', 'also', 'good', 'overal', 'good', 'couldnt', 'gotten', 'complet', 'reward', 'card', 'one', 'opt', 'convert', 'reward', 'point', 'cash', 'get', 'statement', 'credit', 'best', 'apart', 'redeem', 'reward', 'point', 'outlet', 'merchant', 'join', 'fee', 'pay', 'sbi', 'card', 'though', 'slightli', 'higher', 'side', 'reward', 'make', 'worth', 'price', 'low', 'cost', 'card', 'fine', 'number', 'reward', 'benefit', 'credit', 'limit', 'provid', 'icici', 'bank', 'suffici', 'use', 'one', 'year', 'hold', 'card', 'provid', 'annual', 'fee', 'chargeabl', 'k', 'given', 'option', 'wavier', 'need', 'spend', 'k', 'monthli', 'swipe', 'card', 'shop', 'fuel', 'purpos', 'got', 'reward', 'point', 'perfect', 'card', 'numer', 'fuel', 'save', 'fuel', 'come', 'cheaper', 'sinc', 'surcharg', 'cost', 'waiv', 'card', 'pretti', 'content', 'benefit', 'reward', 'card', 'sbi', 'everi', 'reward', 'point', 'equival', 'inr', 'perfect', 'scheme', 'use', 'reward', 'point', 'accru', 'card', 'shop', 'gift', 'catalogu', 'sbi', 'reason', 'alway', 'like', 'sbi', 'fascin', 'varieti', 'deal', 'valu', 'back', 'offer', 'reward', 'offer', 'got', 'discount', 'shop', 'done', 'flipkart', 'reward', 'catalogu', 'sbi', 'amaz', 'bring', 'fine', 'varieti', 'reward', 'benefit', 'card', 'fetch', 'good', 'birthday', 'benefit', 'spend', 'inr', 'get', 'reward', 'point', 'whenev', 'make', 'shop', 'department', 'store', 'get', 'x', 'reward', 'save', 'fuel', 'cost', 'sinc', 'dont', 'bear', 'surcharg', 'element', 'petrol', 'cost', 'use', 'reward', 'point', 'card', 'get', 'statement', 'credit', 'excel', 'credit', 'card', 'given', 'citi', 'bank', 'doubt', 'get', 'reward', 'point', 'limit', 'suffici', 'given', 'satisfi', 'credit', 'limit', 'use', 'onlin', 'shop', 'bill', 'payment', 'annual', 'charg', 'applic', 'card', 'appli', 'hsbc', 'bank', 'credit', 'card', 'onlin', 'hold', 'card', 'month', 'basic', 'free', 'card', 'happi', 'limit', 'reward', 'point', 'dint', 'check', 'thing', 'also', 'get', 'discount', 'groceri', 'buy', 'movi', 'ticket', 'free', 'card', 'much', 'benefit', 'recommend', 'credit', 'card', 'anyon', 'need', 'complet', 'reward', 'shop', 'experi', 'issu', 'go', 'citi', 'bank', 'indian', 'oil', 'platinum', 'credit', 'card', 'purchas', 'fuel', 'indian', 'oil', 'bunk', 'abl', 'make', 'transact', 'purchas', 'rs', 'k', 'year', 'get', 'option', 'zero', 'annual', 'fee', 'credit', 'limit', 'servic', 'good', 'super', 'satiat', 'fine', 'mix', 'benefit', 'reward', 'get', 'card', 'redeem', 'reward', 'fuel', 'also', 'redeem', 'merchant', 'outlet', 'everi', 'spend', 'done', 'limit', 'lac', 'year', 'card', 'get', 'reward', 'point', 'reward', 'benefit', 'program', 'credit', 'card', 'far', 'best', 'like', 'credit', 'card', 'bring', 'multitud', 'reward', 'offer', 'cashback', 'way', 'use', 'accumul', 'reward', 'point', 'shop', 'bag', 'mom', 'benefit', 'fuel', 'save', 'card', 'provid', 'best', 'plan', 'good', 'chosen', 'sbi', 'credit', 'card', 'said', 'wont', 'get', 'fuel', 'sur', 'charg', 'waiver', 'use', 'card', 'buy', 'petrol', 'rs', 'irctc', 'websit', 'book', 'ticket', 'give', 'cashback', 'card', 'protect', 'plan', 'get', 'replac', 'immedi', 'lost', 'card', 'gave', 'limit', 'rs', 'annual', 'fee', 'rs', 'gst', 'charg', 'waiver', 'option', 'would', 'fine', 'payment', 'annual', 'fee', 'get', 'welcom', 'reward', 'point', 'get', 'valu', 'back', 'fuel', 'payment', 'done', 'bpcl', 'card', 'spend', 'k', 'done', 'first', 'month', 'card', 'get', 'cashback', 'credit', 'card', 'fetch', 'welcom', 'reward', 'worth', 'inr', 'insan', 'happi', 'reward', 'point', 'sbi', 'simpli', 'save', 'card', 'bring', 'array', 'benefit', 'use', 'citi', 'bank', 'credit', 'card', 'much', 'mostli', 'use', 'shop', 'chosen', 'card', 'sinc', 'got', 'offer', 'credit', 'limit', 'less', 'rs', 'pay', 'credit', 'card', 'bill', 'onlin', 'get', 'otp', 'transact', 'face', 'issu', 'use', 'credit', 'card', 'reward', 'earn', 'rate', 'amex', 'card', 'superior', 'card', 'dont', 'think', 'reward', 'scheme', 'elsewher', 'perfectli', 'balanc', 'credit', 'card', 'sbi', 'card', 'get', 'x', 'reward', 'fuel', 'transact', 'look', 'major', 'fuel', 'spend', 'great', 'pick', 'redeem', 'reward', 'point', 'accru', 'make', 'hotel', 'airlin', 'book', 'yatracom', 'made', 'mmt', 'book', 'use', 'accru', 'reward', 'point', 'card', 'everi', 'inr', 'spent', 'regular', 'item', 'get', 'reward', 'point', 'glad', 'save', 'fuel', 'cost', 'sbi', 'bpcl', 'card', 'fuel', 'cost', 'cheaper', 'sinc', 'surcharg', 'valu', 'waiv', 'massiv', 'varieti', 'reward', 'come', 'way', 'card', 'happi', 'offer', 'credit', 'card', 'offer', 'hdfc', 'bank', 'good', 'get', 'reward', 'point', 'benefit', 'limit', 'also', 'expect', 'rs', 'custom', 'support', 'respons', 'prompt', 'help', 'use', 'card', 'purpos', 'got', 'much', 'onlin', 'offer', 'henc', 'chosen', 'sbi', 'credit', 'card', 'credit', 'limit', 'good', 'whatev', 'inform', 'got', 'yearli', 'chargeabl', 'credit', 'card', 'need', 'pay', 'rs', 'fuel', 'benefit', 'get', 'cash', 'back', 'offer', 'well', 'reward', 'point', 'sbi', 'appli', 'bpcl', 'normal', 'credit', 'card', 'provid', 'cashback', 'purchas', 'said', 'litr', 'petrol', 'free', 'year', 'read', 'paper', 'fill', 'petrol', 'rs', 'get', 'reward', 'point', 'said', 'charg', 'rs', 'charg', 'card', 'protect', 'plan', 'rs', 'inform', 'earlier', 'charg', 'annual', 'fee', 'rs', 'check', 'tri', 'call', 'centr', 'peopl', 'call', 'get', 'connect', 'maintain', 'transpar', 'get', 'lot', 'reward', 'flight', 'hotel', 'book', 'done', 'card', 'got', 'pantaloon', 'voucher', 'sbi', 'store', 'welcom', 'reward', 'use', 'shop', 'spring', 'collect', 'redeem', 'accru', 'reward', 'point', 'shop', 'gift', 'catalogu', 'sbi', 'success', 'sign', 'hdfc', 'diner', 'card', 'got', 'good', 'reward', 'point', 'best', 'credit', 'card', 'fetch', 'good', 'discount', 'lifestyl', 'categori', 'spend', 'movi', 'department', 'store', 'dine', 'etc', 'earn', 'amount', 'cashback', 'card', 'sbi', 'perfect', 'peopl', 'like', 'sinc', 'make', 'lot', 'busi', 'travel', 'across', 'globe', 'reward', 'benefit', 'loung', 'benefit', 'card', 'great', 'perfect', 'card', 'holder', 'need', 'exclus', 'offer', 'fuel', 'purchas', 'like', 'reward', 'sbi', 'bpcl', 'card', 'especi', 'petrol', 'pump', 'use', 'hdfc', 'credit', 'card', 'almost', 'year', 'freedom', 'credit', 'card', 'henc', 'give', 'voucher', 'rs', 'overal', 'spend', 'exce', 'rs', 'redeem', 'voucher', 'retail', 'onlin', 'place', 'use', 'flipkart', 'websit', 'convert', 'reward', 'point', 'cash', 'use', 'card', 'birthday', 'get', 'reward', 'point', 'use', 'payzap', 'app', 'get', 'reward', 'point', 'retail', 'spend', 'get', 'reward', 'point', 'per', 'inr', 'spent', 'card', 'couldnt', 'believ', 'could', 'get', 'vast', 'array', 'reward', 'benefit', 'card', 'sbi', 'simpli', 'save', 'card', 'great', 'card', 'sinc', 'one', 'give', 'addit', 'reward', 'point', 'movi', 'groceri', 'dine', 'spend', 'done', 'telecom', 'hotel', 'dine', 'get', 'reward', 'point', 'chosen', 'annual', 'fee', 'chargeabl', 'card', 'sbi', 'around', 'rupe', 'also', 'option', 'waiver', 'credit', 'limit', 'k', 'good', 'card', 'use', 'provid', 'free', 'airport', 'loung', 'access', 'time', 'yearli', 'basi', 'receiv', 'card', 'within', 'day', 'use', 'card', 'fuel', 'shop', 'purpos', 'get', 'good', 'offer', 'happi', 'facil', 'compar', 'bank', 'alway', 'like', 'vistara', 'flight', 'found', 'excit', 'array', 'reward', 'club', 'vistara', 'membership', 'jump', 'offer', 'sbi', 'amaz', 'reward', 'use', 'reward', 'point', 'pay', 'util', 'bill', 'regalia', 'credit', 'card', 'hdfc', 'bank', 'im', 'get', 'discount', 'variou', 'websit', 'shop', 'provid', 'airport', 'loung', 'access', 'facil', 'upto', 'time', 'year', 'intern', 'access', 'domest', 'access', 'face', 'issu', 'card', 'enhanc', 'limit', 'regular', 'basi', 'redeem', 'reward', 'point', 'accru', 'redempt', 'option', 'intern', 'transact', 'make', 'icici', 'card', 'get', 'reward', 'point', 'everi', 'inr', 'spent', 'paid', 'renew', 'credit', 'card', 'best', 'one', 'fuel', 'save', 'use', 'sbi', 'elit', 'card', 'shop', 'department', 'store', 'got', 'good', 'valu', 'reward', 'icici', 'bank', 'provid', 'good', 'credit', 'card', 'lot', 'offer', 'travel', 'fuel', 'surcharg', 'buy', 'one', 'get', 'one', 'free', 'movi', 'ticket', 'everi', 'month', 'along', 'mani', 'reward', 'point', 'also', 'life', 'time', 'free', 'cardth', 'card', 'conveni', 'use', 'credit', 'card', 'payment', 'bank', 'sbi', 'provid', 'annual', 'ffee', 'chargeabl', 'plu', 'gst', 'waiver', 'option', 'card', 'receiv', 'call', 'time', 'process', 'smooth', 'receiv', 'card', 'day', 'credit', 'limit', 'low', 'k', 'expect', 'sinc', 'exist', 'limit', 'high', 'bank', 'given', 'low', 'limit', 'cash', 'limit', 'k', 'use', 'card', 'regularli', 'fuel', 'purpos', 'waiver', 'surcharg', 'avail', 'easi', 'redeem', 'reward', 'fuel', 'happi', 'weekday', 'recharg', 'reward', 'got', 'glad', 'opt', 'card', 'pretti', 'low', 'cost', 'reward', 'get', 'amaz', 'discount', 'shop', 'credit', 'card', 'satiat', 'impress', 'benefit', 'wherein', 'earn', 'reward', 'airmil', 'spend', 'glad', 'card', 'got', 'discount', 'electron', 'shop', 'flipkart', 'nd', 'year', 'card', 'bring', 'amazingli', 'fascin', 'reward', 'scheme', 'made', 'use', 'reward', 'point', 'use', 'statement', 'credit', 'like', 'sbi', 'card', 'multitud', 'offer', 'cashback', 'bring', 'way', 'redeem', 'reward', 'point', 'year', 'get', 'good', 'statement', 'credit', 'save', 'x', 'groceri', 'shop', 'done', 'sbi', 'card', 'hold', 'indian', 'oil', 'credit', 'card', 'citi', 'bank', 'past', 'year', 'awar', 'either', 'life', 'time', 'free', 'annual', 'fee', 'card', 'credit', 'limit', 'k', 'suffici', 'use', 'taken', 'emi', 'convers', 'initi', 'charg', 'high', 'didnt', 'prefer', 'gener', 'got', 'benefit', 'fuel', 'purpos', 'like', 'get', 'point', 'rupe', 'surcharg', 'waiver', 'avail', 'pay', 'inr', 'redempt', 'accru', 'reward', 'partner', 'portal', 'like', 'zomato', 'big', 'basket', 'get', 'good', 'reward', 'point', 'per', 'inr', 'spend', 'got', 'free', 'voucher', 'brand', 'like', 'hush', 'puppi', 'yatra', 'lifestyl', 'payment', 'welcom', 'fee', 'fuel', 'transact', 'done', 'card', 'save', 'inr', 'card', 'amaz', 'lifestyl', 'travel', 'reward', 'come', 'way', 'card', 'happi', 'satiat', 'gigant', 'benefit', 'reward', 'system', 'card', 'everi', 'reward', 'point', 'earn', 'indian', 'oil', 'citi', 'bank', 'card', 'redeem', 'fuel', 'refil', 'hdfc', 'provid', 'credit', 'limit', 'k', 'hold', 'card', 'month', 'got', 'offer', 'pre', 'approv', 'direct', 'bank', 'receiv', 'card', 'within', 'day', 'life', 'time', 'free', 'card', 'money', 'back', 'card', 'cash', 'limit', 'k', 'emi', 'convers', 'applic', 'nomin', 'charg', 'use', 'card', 'shop', 'get', 'discount', 'big', 'bazaar', 'got', 'movi', 'ticket', 'offer', 'one', 'plu', 'one', 'free', 'pvr', 'shop', 'duti', 'free', 'store', 'incred', 'reward', 'bring', 'save', 'cashback', 'good', 'benefit', 'card', 'help', 'acquir', 'incred', 'cashback', 'reward', 'shop', 'supermarket', 'watch', 'movi', 'spend', 'sbi', 'card', 'reward', 'got', 'amazon', 'voucher', 'payment', 'join', 'fee', 'use', 'shop', 'speaker', 'love', 'mani', 'reward', 'bonus', 'cashback', 'get', 'sbi', 'card', 'sbi', 'could', 'make', 'shop', 'reward', 'spend', 'get', 'x', 'reward', 'point', 'perfect', 'card', 'sbi', 'amplifi', 'fuel', 'save', 'hold', 'indian', 'oil', 'platinum', 'card', 'citi', 'bank', 'fill', 'fuel', 'indian', 'oil', 'station', 'get', 'reward', 'point', 'need', 'check', 'statement', 'annual', 'fee', 'use', 'card', 'almost', 'year', 'dont', 'receiv', 'call', 'regard', 'promot', 'offer', 'give', 'remind', 'call', 'payment', 'due', 'date', 'far', 'reward', 'card', 'come', 'massiv', 'fuel', 'save', 'balanc', 'transfer', 'flexi', 'pay', 'scheme', 'reward', 'prioriti', 'pass', 'membership', 'everyth', 'perfect', 'card', 'initi', 'transact', 'inr', 'spent', 'sbi', 'grant', 'reward', 'point', 'shop', 'department', 'store', 'get', 'amaz', 'x', 'reward', 'sbi', 'use', 'sbi', 'prime', 'card', 'annual', 'fee', 'chargeabl', 'rupe', 'plu', 'gst', 'year', 'back', 'appli', 'card', 'via', 'bank', 'use', 'card', 'onlin', 'shop', 'got', 'good', 'discount', 'spend', 'card', 'mobil', 'bill', 'payment', 'tata', 'sky', 'payment', 'waiver', 'option', 'fee', 'movi', 'ticket', 'offer', 'one', 'plu', 'one', 'free', 'bookmyshow', 'free', 'airport', 'loung', 'access', 'avail', 'yearli', 'time', 'last', 'financi', 'year', 'save', 'inr', 'fuel', 'cost', 'card', 'reward', 'redempt', 'valu', 'card', 'far', 'best', 'super', 'satiat', 'relianc', 'trend', 'shop', 'done', 'card', 'fetch', 'good', 'reward', 'point', 'glad', 'sbi', 'reward', 'domest', 'intern', 'travel', 'cannot', 'believ', 'sbi', 'reward', 'happi', 'content', 'fuel', 'refil', 'valu', 'inr', 'get', 'surcharg', 'waiver', 'shop', 'n', 'smile', 'catalogu', 'sbi', 'divers', 'redeem', 'reward', 'point', 'perfect', 'card', 'peopl', 'heavi', 'fuel', 'cost', 'first', 'cash', 'withdraw', 'atm', 'got', 'cashback', 'inr', 'spend', 'lac', 'got', 'x', 'reward', 'far', 'reward', 'card', 'ever', 'use', 'payment', 'join', 'fee', 'inr', 'card', 'got', 'excit', 'reward', 'card', 'love', 'sbi', 'card', 'bring', 'fine', 'varieti', 'offer', 'reward', 'hdfc', 'bank', 'offer', 'platinum', 'money', 'back', 'credit', 'card', 'sinc', 'salari', 'account', 'got', 'offer', 'life', 'time', 'free', 'card', 'given', 'good', 'credit', 'limit', 'use', 'card', 'purpos', 'like', 'travel', 'book', 'shop', 'bill', 'payment', 'emi', 'option', 'well', 'fuel', 'refil', 'done', 'valu', 'inr', 'inr', 'got', 'good', 'surcharg', 'waiver', 'reward', 'point', 'accru', 'card', 'use', 'shop', 'gift', 'sbi', 'catalogu', 'spend', 'railway', 'ticket', 'irctc', 'get', 'valueback', 'reward', 'cost', 'rp', 'inr', 'use', 'sbi', 'card', 'month', 'got', 'offer', 'bank', 'directli', 'free', 'card', 'given', 'suffici', 'credit', 'limit', 'mostli', 'use', 'shop', 'groceri', 'super', 'market', 'purchas', 'card', 'lot', 'reward', 'point', 'moreov', 'give', 'buy', 'get', 'movi', 'ticket', 'benefit', 'plu', 'get', 'kfc', 'voucher', 'never', 'seen', 'complet', 'card', 'term', 'benefit', 'reward', 'point', 'perfect', 'card', 'sbi', 'massiv', 'degre', 'fuel', 'save', 'spend', 'done', 'first', 'day', 'card', 'issuanc', 'get', 'cashback', 'spend', 'done', 'card', 'get', 'reward', 'point', 'applic', 'surcharg', 'fuel', 'cost', 'exempt', 'payment', 'done', 'card', 'truli', 'great', 'card', 'scheme', 'amazingli', 'fascin', 'benefit', 'reward', 'best', 'annual', 'spend', 'lac', 'sbi', 'card', 'got', 'around', 'k', 'reward', 'point', 'sbi', 'salari', 'account', 'bank', 'close', 'opt', 'credit', 'card', 'even', 'saw', 'featur', 'card', 'get', 'gift', 'voucher', 'lot', 'benefit', 'avail', 'card', 'give', 'cashback', 'petrol', 'like', 'get', 'fuel', 'sur', 'charg', 'waiver', 'time', 'given', 'credit', 'limit', 'fine', 'use', 'card', 'across', 'globe', 'henc', 'use', 'peopl', 'travel', 'countri', 'great', 'valu', 'reward', 'base', 'card', 'bring', 'incred', 'save', 'get', 'fab', 'lifestyl', 'reward', 'card', 'best', 'satiat', 'kind', 'reward', 'come', 'spend', 'done', 'card', 'china', 'shop', 'book', 'card', 'say', 'absolut', 'assur', 'scb', 'ultim', 'card', 'best', 'reward', 'point', 'valu', 'redeem', 'reward', 'merchant', 'make', 'hot', 'pick', 'card', 'extrem', 'reward', 'come', 'dine', 'get', 'reward', 'point', 'everi', 'inr', 'spent', 'groceri', 'shop', 'done', 'card', 'got', 'x', 'reward', 'redeem', 'sbi', 'reward', 'bpcl', 'catalogu', 'use', 'icici', 'bank', 'coral', 'credit', 'card', 'year', 'free', 'card', 'get', 'reward', 'point', 'cash', 'back', 'offer', 'offer', 'buy', 'one', 'get', 'one', 'movi', 'ticket', 'given', 'good', 'credit', 'limit', 'apart', 'interest', 'low', 'icici', 'app', 'excel', 'friendli', 'user', 'tele', 'call', 'good', 'get', 'remind', 'wife', 'use', 'shop', 'big', 'basket', 'got', 'discount', 'also', 'happi', 'aspect', 'card', 'except', 'didnt', 'give', 'enough', 'fuel', 'reward', 'sbi', 'perfect', 'reward', 'benefit', 'best', 'dine', 'offer', 'groceri', 'shop', 'card', 'simpli', 'best', 'perfect', 'fuel', 'card', 'perfect', 'fuel', 'save', 'like', 'card', 'possibl', 'best', 'reward', 'reward', 'plan', 'birthday', 'spend', 'got', 'reward', 'point', 'per', 'inr', 'spent', 'content', 'benefit', 'voucher', 'travel', 'reward', 'cashback', 'get', 'card', 'feel', 'reward', 'card', 'ever', 'bring', 'back', 'mega', 'save', 'per', 'spend', 'use', 'flexi', 'pay', 'scheme', 'sbi', 'reward', 'suprem', 'happi', 'impress', 'fine', 'varieti', 'reward', 'scheme', 'offer', 'sbi', 'best', 'part', 'redeem', 'membership', 'reward', 'point', 'pay', 'card', 'charg', 'spend', 'sbi', 'card', 'get', 'reward', 'point', 'everi', 'inr', 'spent', 'paid', 'inr', 'reward', 'redempt', 'sbi', 'card', 'icici', 'best', 'life', 'time', 'free', 'card', 'use', 'card', 'past', 'month', 'sinc', 'friend', 'suggest', 'appli', 'directli', 'bank', 'platinum', 'card', 'credit', 'limit', 'good', 'k', 'emi', 'convers', 'avail', 'charg', 'yet', 'done', 'monthli', 'use', 'card', 'restaur', 'fuel', 'shop', 'get', 'cash', 'back', 'reward', 'point', 'discount', 'also', 'avail', 'content', 'benefit', 'voucher', 'travel', 'reward', 'cashback', 'get', 'card', 'dont', 'think', 'bank', 'possibl', 'capabl', 'deliv', 'fine', 'varieti', 'reward', 'low', 'cost', 'great', 'benefici', 'scheme', 'credit', 'card', 'fine', 'varieti', 'reward', 'like', 'sbi', 'get', 'good', 'deal', 'offer', 'shop', 'onlin', 'offlin', 'card', 'made', 'shop', 'department', 'store', 'worthwhil', 'x', 'reward', 'benefit', 'get', 'reward', 'point', 'spend', 'done', 'sbi', 'card', 'best', 'card', 'peopl', 'enjoy', 'shop', 'onlin', 'offlin', 'everi', 'day', 'associ', 'card', 'perfectli', 'reward', 'love', 'major', 'travel', 'lifestyl', 'benefit', 'avail', 'card', 'sbi', 'elit', 'card', 'fab', 'choic', 'fine', 'varieti', 'offer', 'type', 'need', 'like', 'shop', 'travel', 'dine', 'though', 'card', 'sbi', 'seem', 'slightli', 'costli', 'kind', 'reward', 'brought', 'way', 'complet', 'made', 'everi', 'penni', 'spent', 'perfect', 'card', 'amaz', 'discount', 'deal', 'groceri', 'shop', 'absolut', 'admir', 'divers', 'natur', 'reward', 'movi', 'discount', 'travel', 'voucher', 'loung', 'privileg', 'reward', 'point', 'groceri', 'department', 'store', 'deal', 'mani', 'reason', 'love', 'card', 'like', 'perfect', 'reward', 'credit', 'card', 'good', 'spend', 'done', 'supermarket', 'get', 'reward', 'point', 'per', 'spend', 'inr', 'first', 'day', 'spend', 'sbi', 'card', 'got', 'bonu', 'reward', 'point', 'glad', 'use', 'sbi', 'card', 'low', 'cost', 'reward', 'sbi', 'card', 'got', 'incred', 'voucher', 'shop', 'brand', 'like', 'lifestyl', 'valu', 'particularli', 'impress', 'vast', 'varieti', 'cashback', 'movi', 'dinner', 'get', 'sbi', 'card', 'annual', 'fee', 'inr', 'definit', 'high', 'reward', 'benefit', 'make', 'genuin', 'feel', 'reward', 'satiat', 'use', 'credit', 'card', 'amaz', 'chosen', 'reward', 'plan', 'alway', 'earn', 'x', 'reward', 'point', 'spend', 'redeem', 'reward', 'point', 'fuel', 'lifestyl', 'dine', 'travel', 'everi', 'reward', 'point', 'earn', 'sbi', 'card', 'amount', 'inr', 'get', 'x', 'reward', 'fuel', 'purchas', 'done', 'bpcl', 'intern', 'flight', 'book', 'done', 'mmt', 'pretti', 'reward', 'cannot', 'believ', 'sbi', 'gener', 'choic', 'reward', 'sbi', 'grant', 'elit', 'reward', 'equival', 'x', 'department', 'store', 'groceri', 'dine', 'spend', 'mani', 'sbi', 'partner', 'restaur', 'whenev', 'go', 'dine', 'get', 'x', 'reward', 'travel', 'regularli', 'vehicl', 'natur', 'fuel', 'expens', 'huge', 'glad', 'could', 'cut', 'card', 'cashback', 'deal', 'card', 'best', 'love', 'sbi', 'offer', 'fbb', 'style', 'credit', 'card', 'use', 'card', 'year', 'annual', 'charg', 'card', 'rs', 'also', 'amount', 'get', 'waiv', 'shop', 'purpos', 'use', 'card', 'mostli', 'also', 'emi', 'option', 'card', 'freedom', 'surcharg', 'cost', 'applic', 'fuel', 'transact', 'done', 'card', 'got', 'activ', 'bonu', 'reward', 'point', 'worth', 'rs', 'payment', 'join', 'fee', 'get', 'reward', 'realli', 'acceler', 'pace', 'sbi', 'simpli', 'save', 'card', 'everi', 'fuel', 'spend', 'get', 'x', 'reward', 'everi', 'inr', 'spend', 'spend', 'lac', 'get', 'x', 'reward', 'card', 'happi', 'could', 'save', 'much', 'groceri', 'shop', 'done', 'sbi', 'simpli', 'save', 'card', 'like', 'vast', 'varieti', 'save', 'card', 'brought', 'way', 'term', 'reward', 'cashback', 'shop', 'onlin', 'offlin', 'easili', 'make', 'use', 'card', 'use', 'hdfc', 'bank', 'coral', 'black', 'credit', 'card', 'quit', 'long', 'time', 'base', 'upon', 'annual', 'spend', 'amount', 'get', 'waiv', 'emi', 'option', 'avail', 'get', 'reward', 'point', 'credit', 'card', 'statement', 'receiv', 'soft', 'copi', 'custom', 'servic', 'fine', 'super', 'satiat', 'receiv', 'reward', 'bonu', 'lac', 'spend', 'credit', 'card', 'reward', 'cashback', 'mileston', 'benefit', 'privileg', 'benefit', 'membership', 'benefit', 'mani', 'attract', 'featur', 'card', 'credit', 'card', 'everi', 'reward', 'point', 'hold', 'valu', 'inr', 'good', 'everi', 'inr', 'spend', 'dine', 'sbi', 'partner', 'restaur', 'save', 'x', 'reward', 'sbi', 'card', 'get', 'x', 'reward', 'fuel', 'transact', 'card', 'ever', 'prove', 'reward', 'term', 'deal', 'reward', 'convert', 'airmil', 'air', 'mile', 'convers', 'jet', 'airway', 'singapor', 'airlin', 'benefici', 'hdfc', 'bank', 'offer', 'life', 'time', 'free', 'card', 'applic', 'excel', 'given', 'less', 'credit', 'limit', 'rs', 'k', 'request', 'increas', 'credit', 'limit', 'increas', 'use', 'card', 'travel', 'food', 'order', 'onlin', 'shop', 'get', 'cash', 'back', 'offer', 'groceri', 'shop', 'sbi', 'elit', 'card', 'get', 'x', 'reward', 'definit', 'great', 'card', 'fetch', 'massiv', 'reward', 'mileston', 'spend', 'lac', 'week', 'made', 'transact', 'got', 'welcom', 'reward', 'spend', 'lac', 'sbi', 'gave', 'k', 'worth', 'reward', 'simpli', 'save', 'card', 'fetch', 'reward', 'point', 'everi', 'inr', 'spend', 'dine', 'partner', 'restaur', 'reward', 'scheme', 'credit', 'card', 'fairli', 'reason', 'like', 'made', 'use', 'accru', 'reward', 'point', 'reduc', 'amount', 'bill', 'simpli', 'enjoy', 'shop', 'dine', 'privileg', 'get', 'rubyx', 'card', 'start', 'use', 'hsbc', 'credit', 'card', 'mostli', 'use', 'shop', 'got', 'reward', 'point', 'st', 'month', 'gone', 'happi', 'credit', 'limit', 'free', 'card', 'mostli', 'prefer', 'zero', 'annual', 'charg', 'card', 'opt', 'get', 'movi', 'ticket', 'offer', 'use', 'hdfc', 'card', 'year', 'appli', 'via', 'onlin', 'got', 'platinum', 'card', 'credit', 'limit', 'suffici', 'l', 'cash', 'limit', 'k', 'initi', 'provid', 'limit', 'k', 'enhanc', 'limit', 'annual', 'fee', 'charg', 'applic', 'awar', 'amount', 'use', 'card', 'gener', 'onlin', 'shop', 'mani', 'purpos', 'get', 'reward', 'point', 'cash', 'back', 'custom', 'servic', 'easi', 'contact', 'overal', 'good', 'everi', 'reward', 'point', 'earn', 'card', 'use', 'cash', 'credit', 'card', 'bag', 'x', 'reward', 'point', 'travel', 'book', 'made', 'via', 'yatracom', 'everi', 'non', 'fuel', 'retail', 'purchas', 'get', 'reward', 'point', 'everi', 'inr', 'spent', 'definit', 'cherish', 'vast', 'mix', 'reward', 'benefit', 'get', 'card', 'perfect', 'comprehens', 'reward', 'programm', 'base', 'credit', 'card', 'love', 'credit', 'card', 'fetch', 'array', 'benefit', 'reward', 'movi', 'dine', 'department', 'store', 'shop', 'get', 'good', 'reward', 'point', 'use', 'icici', 'bank', 'coral', 'credit', 'card', 'maximum', 'use', 'groceri', 'shop', 'purpos', 'appli', 'card', 'channel', 'emi', 'facil', 'avail', 'rate', 'interest', 'okay', 'good', 'card', 'process', 'annual', 'charg', 'applic', 'get', 'movi', 'offer', 'fine', 'balanc', 'card', 'good', 'movi', 'shop', 'dine', 'offer', 'get', 'good', 'deal', 'shop', 'flipkart', 'duti', 'free', 'spend', 'done', 'scb', 'ultim', 'card', 'get', 'cashback', 'got', 'reward', 'worth', 'bonu', 'spend', 'lac', 'earn', 'good', 'number', 'reward', 'supermarket', 'groceri', 'acceler', 'reward', 'receiv', 'mileston', 'spend', 'lac', 'redeem', 'reward', 'point', 'accru', 'year', 'shop', 'catalogu', 'sbi', 'perfect', 'credit', 'card', 'anyon', 'need', 'save', 'shop', 'travel', 'reward', 'benefit', 'system', 'card', 'simpli', 'perfect', 'like', 'soon', 'paid', 'join', 'fee', 'sbi', 'grant', 'reward', 'point', 'use', 'payback', 'point', 'icici', 'credit', 'card', 'shop', 'becom', 'realli', 'reward', 'shop', 'supermarket', 'save', 'quit', 'lot', 'credit', 'card', 'suprem', 'impress', 'benefit', 'reward', 'point', 'sbi', 'bring', 'way', 'amaz', 'card', 'card', 'bring', 'vast', 'varieti', 'benefit', 'shop', 'dine', 'groceri', 'love', 'support', 'appreci', 'reward', 'associ', 'amex', 'card', 'prove', 'super', 'happi', 'fine', 'reward', 'come', 'way', 'sbi', 'card', 'dine', 'sbi', 'partner', 'restaur', 'fetch', 'x', 'reward', 'spend', 'valu', 'inr', 'get', 'reward', 'point', 'shop', 'department', 'store', 'fetch', 'x', 'reward', 'point', 'use', 'accru', 'reward', 'point', 'pay', 'outstand', 'credit', 'card', 'balanc', 'far', 'low', 'cost', 'reward', 'scheme', 'sbi', 'shop', 'amazingli', 'reward', 'card', 'sinc', 'everi', 'spend', 'done', 'card', 'save', 'fine', 'reward', 'base', 'card', 'multitud', 'save', 'fuel', 'cheaper', 'sinc', 'dont', 'bear', 'surcharg', 'amount', 'levi', 'fuel', 'refil', 'use', 'reward', 'get', 'statement', 'credit', 'reduc', 'bill', 'amount', 'love', 'multitud', 'dine', 'shop', 'privileg', 'get', 'credit', 'card', 'credit', 'card', 'fine', 'reward', 'program', 'love', 'almost', 'spend', 'card', 'get', 'free', 'reward', 'accru', 'card', 'point', 'year', 'use', 'recent', 'shop', 'yatracom', 'airlin', 'book', 'cheaper', 'sinc', 'book', 'reward', 'point', 'sbi', 'grant', 'bonu', 'reward', 'point', 'spent', 'inr', 'first', 'day', 'card', 'decent', 'reward', 'earn', 'rate', 'like', 'use', 'icici', 'bank', 'credit', 'card', 'offer', 'banki', 'use', 'credit', 'card', 'past', 'year', 'life', 'time', 'free', 'card', 'credit', 'limit', 'use', 'credit', 'card', 'emerg', 'purpos', 'alon', 'get', 'cash', 'back', 'offer', 'well', 'reward', 'pointsther', 'movi', 'benefit', 'well', 'fuel', 'benefit', 'use', 'get', 'reward', 'point', 'per', 'inr', 'spent', 'sbi', 'card', 'super', 'satiat', 'relianc', 'trend', 'shop', 'done', 'card', 'fetch', 'good', 'reward', 'point', 'shop', 'onlin', 'offlin', 'whatev', 'card', 'prove', 'magnific', 'reward', 'use', 'sbi', 'credit', 'card', 'year', 'conveni', 'card', 'possibl', 'increas', 'credit', 'score', 'credit', 'limit', 'rs', 'mark', 'card', 'offer', 'id', 'onlin', 'shop', 'flipkart', 'chargeabl', 'card', 'amount', 'along', 'gst', 'credit', 'card', 'bill', 'payment', 'onlin', 'happi', 'opt', 'scheme', 'card', 'amaz', 'scheme', 'fine', 'varieti', 'reward', 'renew', 'sbi', 'card', 'th', 'year', 'good', 'card', 'reward', 'amaz', 'appreci', 'sbi', 'alway', 'come', 'fascin', 'offer', 'scheme', 'reward', 'shop', 'department', 'store', 'reward', 'get', 'x', 'reward', 'everi', 'inr', 'spend', 'good', 'reward', 'rate', 'amaz', 'cashback', 'offer', 'far', 'perfect', 'sbi', 'card', 'redeem', 'reward', 'point', 'card', 'easi', 'quick', 'hassl', 'free', 'hdfc', 'bank', 'offer', 'titanium', 'time', 'credit', 'card', 'use', 'card', 'yearsther', 'annual', 'fee', 'given', 'good', 'credit', 'limit', 'use', 'shop', 'get', 'reward', 'point', 'emi', 'facil', 'avail', 'card', 'get', 'credit', 'card', 'statement', 'email', 'sbi', 'card', 'get', 'surcharg', 'waiver', 'fuel', 'cost', 'easili', 'redeem', 'reward', 'point', 'get', 'fuel', 'refil', 'bpcl', 'petrol', 'pump', 'sinc', 'year', 'use', 'credit', 'card', 'sbi', 'pay', 'rs', 'annual', 'fee', 'never', 'waiver', 'option', 'bank', 'excel', 'custom', 'servic', 'app', 'good', 'credit', 'limit', 'fine', 'got', 'rs', 'l', 'base', 'card', 'transact', 'got', 'loan', 'offer', 'use', 'card', 'fuel', 'purpos', 'buy', 'home', 'applianc', 'shop', 'reward', 'redempt', 'program', 'indian', 'oil', 'card', 'fairli', 'flexibl', 'document', 'process', 'simpl', 'sbi', 'credit', 'card', 'receiv', 'card', 'within', 'week', 'annual', 'charg', 'card', 'rs', 'spend', 'amount', 'annual', 'charg', 'bank', 'given', 'good', 'credit', 'limit', 'start', 'use', 'card', 'fuel', 'purchas', 'system', 'accessori', 'shop', 'payment', 'use', 'bonu', 'reward', 'point', 'got', 'payment', 'join', 'fee', 'fuel', 'refil', 'turbo', 'point', 'great', 'way', 'reward', 'introduc', 'citi', 'bank', 'card', 'hdfc', 'credit', 'card', 'offer', 'plethora', 'servic', 'like', 'concierg', 'servic', 'mile', 'exchang', 'offer', 'lead', 'airlin', 'reward', 'valueback', 'benefit', 'fuel', 'simpli', 'best', 'card', 'love', 'good', 'impress', 'reward', 'cycl', 'card', 'super', 'happi', 'multitud', 'cashback', 'offer', 'reward', 'get', 'sbi', 'card', 'help', 'earn', 'reward', 'point', 'host', 'transact', 'cherish', 'everi', 'bit', 'benefit', 'statement', 'credit', 'get', 'reward', 'excel', 'reward', 'benefit', 'card', 'point', 'document', 'process', 'smooth', 'sbi', 'thir', 'execut', 'came', 'collect', 'within', 'day', 'receiv', 'card', 'sbi', 'given', 'less', 'credit', 'limit', 'rs', 'k', 'anoth', 'card', 'limit', 'rs', 'k', 'annual', 'charg', 'card', 'rs', 'wavier', 'option', 'avail', 'everi', 'purchas', 'get', 'reward', 'point', 'earn', 'point', 'convert', 'cash', 'simpli', 'click', 'card', 'hold', 'simpli', 'save', 'card', 'sbi', 'use', 'almost', 'year', 'life', 'time', 'free', 'card', 'given', 'good', 'credit', 'limit', 'custom', 'servic', 'good', 'respons', 'immedi', 'use', 'travel', 'book', 'flight', 'ticket', 'book', 'shop', 'fuel', 'redeem', 'reward', 'point', 'fuel', 'lifestyl', 'dine', 'travel', 'vistara', 'silver', 'club', 'membership', 'get', 'amaz', 'airlin', 'reward', 'good', 'reward', 'base', 'card', 'phenomen', 'save', 'assur', 'everi', 'spend', 'inr', 'get', 'rs', 'reward', 'point', 'get', 'x', 'reward', 'point', 'everi', 'inr', 'spend', 'util', 'bill', 'happi', 'impress', 'reward', 'system', 'sbi', 'prime', 'card', 'sinc', 'last', 'year', 'hold', 'card', 'fetch', 'amaz', 'reward', 'airlin', 'book', 'new', 'card', 'sure', 'interest', 'rate', 'sbi', 'credit', 'card', 'credit', 'limit', 'suffici', 'need', 'increas', 'limit', 'actual', 'annual', 'charg', 'spend', 'rs', 'l', 'year', 'fee', 'get', 'waiv', 'fee', 'rs', 'total', 'use', 'card', 'rsk', 'receiv', 'statement', 'also', 'mail', 'mostli', 'buy', 'thing', 'fuel', 'purpos', 'use', 'actual', 'got', 'reward', 'point', 'sure', 'complaint', 'absolut', 'regret', 'perfect', 'card', 'pretti', 'amaz', 'reward', 'system', 'one', 'thing', 'love', 'credit', 'card', 'offer', 'choic', 'differ', 'reward', 'plan', 'perfect', 'introductori', 'offer', 'mileston', 'reward', 'reward', 'point', 'everyth', 'card', 'perfect', 'got', 'surcharg', 'waiver', 'fuel', 'sbi', 'card', 'amaz', 'credit', 'card', 'american', 'express', 'come', 'low', 'annual', 'fee', 'rs', 'offer', 'amaz', 'list', 'cashback', 'reward', 'make', 'worth', 'flight', 'hotel', 'book', 'easili', 'redeem', 'reward', 'point', 'year', 'im', 'util', 'benefit', 'icici', 'credit', 'card', 'good', 'card', 'use', 'im', 'pay', 'annual', 'fee', 'card', 'basic', 'need', 'chosen', 'card', 'get', 'free', 'movi', 'ticket', 'bonu', 'payback', 'point', 'shop', 'voucher', 'call', 'custom', 'care', 'servic', 'regard', 'statement', 'transact', 'respons', 'good', 'spend', 'done', 'big', 'basket', 'get', 'reward', 'point', 'per', 'inr', 'spend', 'sbi', 'simpli', 'save', 'card', 'get', 'worth', 'reward', 'point', 'groceri', 'shop', 'glad', 'shop', 'amex', 'membership', 'reward', 'partner', 'outlet', 'get', 'bonu', 'membership', 'reward', 'point', 'perfect', 'card', 'wherein', 'get', 'good', 'valu', 'reward', 'card', 'sbi', 'get', 'fine', 'varieti', 'offer', 'deal', 'cashback', 'along', 'valu', 'back', 'sinc', 'year', 'use', 'hdfc', 'credit', 'card', 'user', 'friendli', 'one', 'app', 'use', 'till', 'didnt', 'face', 'problem', 'hdfc', 'card', 'henc', 'contact', 'im', 'hold', 'money', 'back', 'credit', 'card', 'convert', 'reward', 'point', 'cash', 'till', 'havent', 'done', 'interest', 'rate', 'nomin', 'like', 'credit', 'card', 'life', 'time', 'free', 'credit', 'card', 'main', 'advantag', 'vivid', 'mix', 'lifestyl', 'travel', 'privileg', 'reward', 'avail', 'card', 'use', 'sbi', 'card', 'last', 'two', 'month', 'use', 'card', 'person', 'purpos', 'like', 'shoppingbil', 'payment', 'groceri', 'mani', 'got', 'reward', 'point', 'spent', 'monthli', 'basisth', 'credit', 'limit', 'card', 'goodmi', 'experi', 'card', 'good', 'possibl', 'perfect', 'scheme', 'credit', 'card', 'peopl', 'need', 'massiv', 'fuel', 'cost', 'save', 'use', 'hdfc', 'money', 'back', 'card', 'year', 'life', 'time', 'free', 'card', 'credit', 'limit', 'suffici', 'k', 'initi', 'provid', 'k', 'later', 'enhanc', 'got', 'call', 'banker', 'enhanc', 'limit', 'didnt', 'agre', 'emi', 'convers', 'applic', 'use', 'shop', 'fuel', 'book', 'bu', 'ticket', 'got', 'mani', 'discount', 'point', 'onlin', 'got', 'annual', 'fee', 'chargeabl', 'card', 'k', 'sbi', 'awar', 'waiver', 'credit', 'limit', 'low', 'k', 'expect', 'use', 'card', 'shop', 'emi', 'convers', 'applic', 'also', 'requir', 'futur', 'requir', 'rais', 'banker', 'card', 'got', 'x', 'reward', 'everi', 'inr', 'spend', 'movi', 'save', 'lot', 'sbi', 'card', 'bring', 'save', 'form', 'reward', 'cashback', 'offer', 'annual', 'spend', 'done', 'worth', 'inr', 'lac', 'enjoy', 'reward', 'worth', 'inr', 'credit', 'card', 'fetch', 'pretti', 'good', 'number', 'reward', 'spend', 'done', 'card', 'spend', 'inr', 'use', 'sbi', 'card', 'get', 'reward', 'point', 'everi', 'reward', 'point', 'sbi', 'hold', 'valu', 'inr', 'best', 'spend', 'retail', 'outlet', 'usual', 'get', 'reward', 'point', 'everi', 'inr', 'spent', 'card', 'brought', 'fine', 'rang', 'save', 'save', 'around', 'last', 'month', 'shop', 'card', 'love', 'sbi', 'card', 'bring', 'multitud', 'reward', 'cashback', 'super', 'satiat', 'excel', 'reward', 'come', 'way', 'shop', 'done', 'card', 'reward', 'voucher', 'benefit', 'card', 'worth', 'cost', 'credit', 'card', 'fetch', 'excit', 'reward', 'point', 'payment', 'done', 'fuel', 'spend', 'sbi', 'get', 'surcharg', 'waiver', 'redeem', 'reward', 'point', 'fuel', 'refil', 'bpcl', 'pump', 'spend', 'worth', 'lac', 'enjoy', 'super', 'high', 'valu', 'reward', 'got', 'great', 'discount', 'card', 'use', 'fuel', 'payment', 'hpcl', 'duti', 'free', 'shop', 'get', 'cashback', 'spend', 'done', 'fashion', 'store', 'get', 'cashback', 'accumul', 'reward', 'point', 'span', 'year', 'later', 'redeem', 'shop', 'catalogu', 'havent', 'ever', 'seen', 'card', 'provid', 'differ', 'way', 'reward', 'redempt', 'redempt', 'reward', 'easi', 'reward', 'redeem', 'differ', 'way', 'happi', 'fab', 'fuel', 'deal', 'get', 'sbi', 'card', 'card', 'sbi', 'got', 'activ', 'bonu', 'even', 'got', 'reward', 'point', 'got', 'free', 'club', 'vistara', 'silver', 'membership', 'gave', 'good', 'airlin', 'reward', 'onlin', 'shop', 'pretti', 'reward', 'reason', 'definit', 'brilliant', 'card', 'use', 'iocl', 'citi', 'bank', 'co', 'brand', 'card', 'petrol', 'bunk', 'use', 'fuel', 'sur', 'charg', 'waiver', 'reward', 'point', 'high', 'fill', 'fuel', 'redeem', 'purchas', 'fuel', 'given', 'credit', 'limit', 'rs', 'lakh', 'annual', 'fee', 'card', 'make', 'payment', 'onlin', 'redeem', 'reward', 'point', 'get', 'statement', 'credit', 'exclus', 'credit', 'card', 'perfect', 'premium', 'lifestyl', 'pay', 'small', 'reward', 'redempt', 'fee', 'could', 'redeem', 'reward', 'sbi', 'purchas', 'fuel', 'bpcl', 'outlet', 'use', 'reward', 'point', 'accru', 'card', 'super', 'happi', 'afford', 'pocket', 'friendli', 'reward', 'scheme', 'redeem', 'credit', 'point', 'shop', 'sbi', 'gift', 'catalogu', 'glad', 'team', 'citi', 'bank', 'help', 'got', 'fab', 'array', 'reward', 'sbi', 'card', 'fetch', 'amaz', 'reward', 'point', 'spend', 'done', 'retail', 'store', 'true', 'join', 'fee', 'high', 'reward', 'benefit', 'total', 'make', 'use', 'hdfc', 'card', 'year', 'appli', 'via', 'onlin', 'got', 'platinum', 'card', 'credit', 'limit', 'suffici', 'l', 'cash', 'limit', 'k', 'initi', 'provid', 'limit', 'k', 'enhanc', 'limit', 'annual', 'fee', 'charg', 'applic', 'awar', 'amount', 'use', 'card', 'gener', 'onlin', 'shop', 'mani', 'purpos', 'get', 'reward', 'point', 'cash', 'back', 'custom', 'servic', 'easi', 'contact', 'overal', 'good', 'get', 'x', 'reward', 'per', 'inr', 'spent', 'payment', 'util', 'bill', 'fuel', 'outlet', 'india', 'easi', 'conveni', 'redeem', 'reward', 'enjoy', 'x', 'reward', 'spend', 'done', 'hotel', 'bpcl', 'outlet', 'petrol', 'pump', 'easi', 'redeem', 'reward', 'point', 'truli', 'reward', 'card', 'fascin', 'lifestyl', 'privileg', 'use', 'reward', 'point', 'cash', 'bill', 'payment', 'everi', 'inr', 'spend', 'card', 'get', 'reward', 'point', 'perfect', 'credit', 'card', 'multitud', 'free', 'reward', 'voucher', 'face', 'difficulti', 'far', 'use', 'citi', 'bank', 'credit', 'card', 'use', 'card', 'much', 'one', 'transact', 'far', 'free', 'card', 'fuel', 'benefit', 'airport', 'loung', 'access', 'mostli', 'use', 'shop', 'good', 'got', 'card', 'without', 'delay', 'reward', 'rate', 'card', 'great', 'great', 'happi', 'fine', 'mix', 'benefit', 'reward', 'get', 'card', 'use', 'reward', 'point', 'accru', 'card', 'shop', 'gift', 'catalogu', 'sbi', 'use', 'icici', 'card', 'month', 'sinc', 'hold', 'account', 'got', 'pre', 'approv', 'card', 'offer', 'receiv', 'card', 'week', 'life', 'time', 'free', 'credit', 'limit', 'k', 'cash', 'limit', 'near', 'rupe', 'emi', 'convers', 'applic', 'nomin', 'charg', 'use', 'card', 'fuel', 'onlin', 'shop', 'like', 'flipkart', 'amazon', 'henc', 'get', 'good', 'point', 'discount', 'got', 'waiver', 'surcharg', 'fee', 'fuel', 'cost', 'use', 'sbi', 'credit', 'card', 'appli', 'onlin', 'credit', 'card', 'deliv', 'time', 'credit', 'limit', 'good', 'agent', 'share', 'inform', 'card', 'process', 'clearli', 'chosen', 'shop', 'purpos', 'simpli', 'click', 'card', 'submit', 'document', 'agent', 'instant', 'fuel', 'waiver', 'applic', 'hsbc', 'card', 'get', 'good', 'number', 'reward', 'transact', 'done', 'card', 'genuin', 'feel', 'found', 'perfect', 'shop', 'card', 'card', 'everi', 'time', 'spend', 'amount', 'save', 'went', 'ahead', 'reward', 'plan', 'card', 'fetch', 'well', 'healthcar', 'insur', 'benefit', 'superb', 'card', 'multitud', 'shop', 'groceri', 'dine', 'movi', 'offer', 'dont', 'credit', 'card', 'henc', 'accept', 'propos', 'get', 'sbi', 'credit', 'card', 'explain', 'offer', 'get', 'card', 'anyway', 'im', 'interest', 'reward', 'point', 'system', 'given', 'limit', 'rs', 'need', 'pay', 'annual', 'fee', 'rs', 'im', 'yet', 'receiv', 'first', 'month', 'bill', 'statement', 'pretti', 'much', 'like', 'reward', 'sbi', 'simpli', 'save', 'card', 'bag', 'amaz', 'reward', 'point', 'gave', 'birthday', 'parti', 'birthday', 'got', 'reward', 'spend', 'birthday', 'duti', 'free', 'shop', 'get', 'cashback', 'card', 'pay', 'minor', 'fee', 'inr', 'redempt', 'fee', 'reward', 'almost', 'year', 'use', 'hdfc', 'credit', 'card', 'variant', 'hdfc', 'regalia', 'card', 'sinc', 'save', 'account', 'hdfc', 'bank', 'base', 'provid', 'card', 'enhanc', 'limit', 'regular', 'basi', 'base', 'usag', 'life', 'time', 'free', 'credit', 'card', 'im', 'get', 'benefit', 'like', 'cashback', 'reward', 'point', 'use', 'onlin', 'offlin', 'well', 'groceri', 'shop', 'conveni', 'reward', 'x', 'reward', 'system', 'sbi', 'credit', 'limit', 'provid', 'icici', 'bank', 'suffici', 'use', 'one', 'year', 'hold', 'card', 'provid', 'annual', 'fee', 'chargeabl', 'k', 'given', 'option', 'wavier', 'need', 'spend', 'k', 'monthli', 'swipe', 'card', 'shop', 'fuel', 'purpos', 'got', 'reward', 'point', 'dont', 'think', 'could', 'gotten', 'perfect', 'card', 'fine', 'varieti', 'cashback', 'super', 'content', 'multitud', 'benefit', 'reward', 'come', 'way', 'card', 'get', 'valueback', 'fuel', 'purchas', 'done', 'bpcl', 'petrol', 'pump', 'particularli', 'like', 'card', 'fuel', 'save', 'bring', 'perfectli', 'reward', 'highli', 'low', 'cost', 'card', 'suprem', 'impress', 'mega', 'offer', 'reward', 'come', 'way', 'sbi', 'card', 'content', 'massiv', 'array', 'discount', 'reward', 'get', 'card', 'icici', 'bank', 'use', 'platinum', 'credit', 'card', 'year', 'life', 'time', 'free', 'card', 'given', 'good', 'credit', 'limit', 'rs', 'mostli', 'use', 'card', 'pay', 'polici', 'onlin', 'shop', 'fuel', 'base', 'salari', 'account', 'got', 'offer', 'like', 'vast', 'varieti', 'save', 'card', 'brought', 'way', 'term', 'reward', 'cashback', 'super', 'satiat', 'varieti', 'benefit', 'reward', 'get', 'card', 'recommend', 'hsbc', 'card', 'perfect', 'shop', 'eat', 'bring', 'good', 'reward', 'shop', 'done', 'department', 'store', 'groceri', 'get', 'reward', 'point', 'everi', 'inr', 'spent', 'like', 'reward', 'sbi', 'perfect', 'get', 'x', 'reward', 'dine', 'movi', 'well', 'onlin', 'shop', 'enjoy', 'discount', 'inr', 'year', 'sbi', 'salari', 'account', 'bank', 'close', 'opt', 'credit', 'card', 'even', 'saw', 'featur', 'card', 'get', 'gift', 'voucher', 'lot', 'benefit', 'avail', 'card', 'give', 'cashback', 'petrol', 'like', 'get', 'fuel', 'sur', 'charg', 'waiver', 'time', 'given', 'credit', 'limit', 'fine', 'use', 'card', 'across', 'globe', 'henc', 'use', 'peopl', 'travel', 'countri', 'reward', 'catalogu', 'sbi', 'versatil', 'like', 'shop', 'done', 'amex', 'membership', 'reward', 'partner', 'outlet', 'get', 'good', 'number', 'reward', 'point', 'like', 'abund', 'varieti', 'offer', 'reward', 'point', 'get', 'card', 'use', 'icici', 'credit', 'card', 'almost', 'last', 'year', 'im', 'get', 'good', 'reward', 'point', 'dine', 'partner', 'restaur', 'shop', 'partner', 'shop', 'im', 'get', 'cashback', 'avail', 'emi', 'convers', 'facil', 'charg', 'depend', 'tenur', 'period', 'select', 'charg', 'less', 'reward', 'redempt', 'fee', 'icici', 'card', 'pretti', 'reason', 'inr', 'happi', 'reward', 'system', 'card', 'superfin', 'get', 'x', 'reward', 'almost', 'spend', 'goibibo', 'book', 'done', 'card', 'bring', 'x', 'reward', 'taken', 'citi', 'bank', 'reward', 'credit', 'card', 'onlin', 'document', 'simpl', 'execut', 'collect', 'receiv', 'day', 'credit', 'limit', 'fine', 'annual', 'charg', 'depend', 'much', 'spend', 'come', 'free', 'card', 'mostli', 'use', 'card', 'fuel', 'purpos', 'use', 'hdfc', 'bank', 'credit', 'card', 'taken', 'bank', 'directli', 'use', 'card', 'past', 'year', 'credit', 'limit', 'good', 'shop', 'get', 'discount', 'movi', 'ticket', 'offer', 'airport', 'loung', 'access', 'also', 'avail', 'comfort', 'overal', 'servic', 'dont', 'think', 'could', 'gotten', 'reward', 'scheme', 'bank', 'spend', 'lac', 'card', 'got', 'good', 'valu', 'mileston', 'reward', 'sbi', 'got', 'addit', 'reward', 'point', 'worth', 'spend', 'lac', 'year', 'possibl', 'best', 'low', 'cost', 'reward', 'base', 'card', 'ever', 'book', 'ticket', 'sbi', 'card', 'got', 'amaz', 'save', 'form', 'reward', 'would', 'never', 'trade', 'card', 'anoth', 'one', 'amount', 'reward', 'earn', 'either', 'reward', 'point', 'jp', 'mile', 'credit', 'card', 'got', 'x', 'reward', 'everi', 'inr', 'spend', 'department', 'store', 'everi', 'inr', 'spend', 'get', 'reward', 'point', 'sbi', 'simpli', 'love', 'varieti', 'benefit', 'reward', 'offer', 'credit', 'card', 'bring', 'way', 'great', 'credit', 'card', 'full', 'multitud', 'lifestyl', 'benefit', 'shop', 'onlin', 'offlin', 'enjoy', 'mani', 'offer', 'reward', 'cashback', 'card', 'havent', 'ever', 'seen', 'reward', 'card', 'low', 'cost', 'one', 'great', 'number', 'way', 'redeem', 'accru', 'reward', 'point', 'amex', 'card', 'though', 'reward', 'fuel', 'get', 'surcharg', 'waiver', 'spend', 'except', 'fuel', 'groceri', 'get', 'reward', 'point', 'everi', 'inr', 'spent', 'inr', 'fee', 'applic', 'redempt', 'reward', 'love', 'credit', 'card', 'amaz', 'benefit', 'cashback', 'airmil', 'reward', 'use', 'citi', 'bank', 'reward', 'card', 'year', 'life', 'time', 'free', 'card', 'credit', 'limit', 'suffici', 'card', 'reward', 'benefit', 'convert', 'reward', 'cash', 'back', 'mostli', 'use', 'shop', 'travel', 'fuel', 'good', 'card', 'fine', 'mix', 'reward', 'good', 'rang', 'benefit', 'wonder', 'perfect', 'card', 'incred', 'discount', 'cashback', 'offer', 'reward', 'renew', 'card', 'got', 'reward', 'card', 'easili', 'pay', 'util', 'bill', 'redeem', 'reward', 'accru', 'card', 'sbi', 'simpli', 'click', 'good', 'card', 'onlin', 'shop', 'get', 'lot', 'reward', 'recommend', 'scb', 'card', 'reward', 'point', 'redeem', 'amazon', 'gift', 'card', 'hotel', 'book', 'air', 'mile', 'gift', 'voucher', 'like', 'incred', 'reward', 'credit', 'card', 'good', 'fuel', 'cheaper', 'lot', 'cost', 'effect', 'sinc', 'get', 'surcharg', 'waiver', 'card', 'last', 'month', 'receiv', 'sbi', 'card', 'offer', 'appli', 'via', 'bank', 'directli', 'life', 'time', 'free', 'card', 'bpcl', 'card', 'mainli', 'chosen', 'card', 'fuel', 'purpos', 'base', 'usag', 'get', 'surcharg', 'waiver', 'credit', 'limit', 'eligibil', 'l', 'got', 'k', 'receiv', 'card', 'within', 'one', 'week', 'day', 'satiat', 'incred', 'reward', 'benefit', 'get', 'sbi', 'simpli', 'save', 'card', 'glad', 'sbi', 'simpli', 'save', 'card', 'reward', 'point', 'amaz', 'save', 'massiv', 'form', 'reward', 'shop', 'groceri', 'store', 'everi', 'inr', 'spend', 'get', 'reward', 'point', 'great', 'pretti', 'much', 'like', 'reward', 'keep', 'cover', 'use', 'shop', 'later', 'definit', 'happi', 'humong', 'benefit', 'reward', 'come', 'way', 'rubyx', 'card', 'recommend', 'sbi', 'bpcl', 'card', 'mega', 'fuel', 'save', 'use', 'sbi', 'credit', 'card', 'past', 'month', 'get', 'cash', 'back', 'offer', 'well', 'reward', 'point', 'fuel', 'benefit', 'charg', 'told', 'charg', 'fuel', 'henc', 'accept', 'credit', 'limit', 'suffici', 'card', 'deliv', 'time', 'agent', 'share', 'inform', 'card', 'process', 'option', 'convert', 'emi', 'part', 'reward', 'partner', 'program', 'got', 'k', 'point', 'hdfc', 'spend', 'done', 'amex', 'card', 'earn', 'reward', 'point', 'get', 'voucher', 'deal', 'benefit', 'reward', 'card', 'also', 'fetch', 'abund', 'varieti', 'cashback', 'offer', 'got', 'car', 'charger', 'reward', 'point', 'sbi', 'catalogu', 'accru', 'reward', 'point', 'year', 'use', 'shop', 'sbi', 'catalogu', 'fuel', 'refil', 'get', 'surcharg', 'waiver', 'transact', 'best', 'card', 'super', 'card', 'superb', 'scheme', 'reward', 'love', 'paid', 'annual', 'fee', 'inr', 'got', 'excit', 'reward', 'point', 'fuel', 'refil', 'bring', 'lot', 'save', 'sinc', 'surcharg', 'amount', 'exempt', 'sbi', 'card', 'pretti', 'content', 'reward', 'point', 'get', 'everi', 'inr', 'spent', 'intern', 'transact', 'like', 'sbi', 'let', 'use', 'accru', 'reward', 'point', 'get', 'statement', 'credit', 'sbi', 'card', 'get', 'incred', 'reward', 'point', 'dine', 'movi', 'spend', 'done', 'card', 'glad', 'spend', 'guy', 'gave', 'free', 'shop', 'voucher', 'hdfc', 'credit', 'card', 'conveni', 'use', 'use', 'card', 'month', 'shop', 'groceri', 'fuel', 'surcharg', 'electr', 'bill', 'payment', 'also', 'pay', 'credit', 'card', 'bill', 'atm', 'alway', 'get', 'bill', 'time', 'card', 'suggest', 'bank', 'agent', 'month', 'use', 'sbi', 'simpli', 'save', 'card', 'cant', 'believ', 'benefit', 'cashback', 'reward', 'everyth', 'get', 'good', 'number', 'reward', 'card', 'groceri', 'dine', 'shop', 'etc', 'citi', 'bank', 'credit', 'card', 'good', 'charg', 'higher', 'interest', 'rate', 'unabl', 'redeem', 'point', 'shop', 'due', 'insuffici', 'reward', 'point', 'hold', 'citi', 'indian', 'oil', 'credit', 'card', 'benefit', 'avail', 'card', 'provid', 'credit', 'limit', 'rs', 'enhanc', 'limit', 'even', 'though', 'im', 'use', 'last', 'year', 'increas', 'valu', 'reward', 'point', 'would', 'fine', 'first', 'atm', 'withdraw', 'within', 'first', 'day', 'card', 'activ', 'receiv', 'inr', 'cashback', 'shop', 'reward', 'reward', 'point', 'per', 'inr', 'spent', 'amaz', 'card', 'easi', 'redeem', 'reward', 'airmil', 'get', 'save', 'flight', 'book', 'credit', 'card', 'let', 'make', 'choic', 'applic', 'reward', 'program', 'addit', 'fuel', 'save', 'also', 'get', 'save', 'util', 'bill', 'card', 'partner', 'program', 'hdfc', 'get', 'x', 'reward', 'movi', 'book', 'done', 'card', 'save', 'account', 'icici', 'bank', 'henc', 'use', 'card', 'last', 'year', 'card', 'benefit', 'emerg', 'purpos', 'annual', 'fee', 'card', 'get', 'good', 'reward', 'point', 'card', 'provid', 'credit', 'limit', 'rs', 'till', 'never', 'convert', 'purchas', 'emi', 'alway', 'payment', 'time', 'awar', 'late', 'fee', 'charg', 'super', 'happi', 'satiat', 'associ', 'card', 'scheme', 'sbi', 'bring', 'mani', 'travel', 'shop', 'offer', 'get', 'good', 'reward', 'benefit', 'offer', 'sbi', 'elit', 'card', 'sbi', 'earn', 'x', 'reward', 'spend', 'done', 'groceri', 'truli', 'admir', 'fine', 'reward', 'benefit', 'privileg', 'amex', 'card', 'sbi', 'good', 'app', 'excel', 'servic', 'use', 'credit', 'card', 'almost', 'year', 'sinc', 'life', 'time', 'free', 'card', 'happi', 'credit', 'limit', 'rs', 'k', 'mostli', 'use', 'travel', 'hotel', 'book', 'shop', 'actual', 'claim', 'reward', 'point', 'year', 'prime', 'card', 'redeem', 'point', 'voucher', 'prioriti', 'pass', 'airport', 'loung', 'access', 'cross', 'spend', 'limit', 'lac', 'sbi', 'got', 'bonu', 'reward', 'point', 'annual', 'spend', 'last', 'calendar', 'year', 'worth', 'lac', 'renew', 'fee', 'waiv', 'even', 'got', 'amaz', 'mileston', 'reward', 'perfect', 'card', 'peopl', 'enjoy', 'fuel', 'offer', 'primari', 'reason', 'go', 'sbi', 'other', 'magnific', 'movi', 'reward', 'cashback', 'offer', 'hsbc', 'bank', 'credit', 'card', 'give', 'mani', 'offer', 'like', 'cashback', 'reward', 'point', 'henc', 'select', 'bank', 'join', 'fee', 'annual', 'fee', 'charg', 'end', 'got', 'credit', 'limit', 'rs', 'lakh', 'receiv', 'card', 'earli', 'appli', 'add', 'card', 'also', 'till', 'get', 'statement', 'howev', 'paid', 'bill', 'use', 'purchas', 'messag', 'vivid', 'rang', 'reward', 'avail', 'card', 'especi', 'movi', 'dine', 'want', 'tell', 'last', 'month', 'south', 'america', 'shop', 'famili', 'lost', 'card', 'sbi', 'came', 'rescu', 'immedi', 'happi', 'card', 'sinc', 'low', 'cost', 'extrem', 'reward', 'recommend', 'sbi', 'card', 'anyon', 'need', 'fuel', 'save', 'perfect', 'card', 'fascin', 'offer', 'movi', 'travel', 'shop', 'etc', 'get', 'massiv', 'shop', 'discount', 'card', 'credit', 'card', 'bring', 'mega', 'save', 'also', 'good', 'varieti', 'reward', 'use', 'hdfc', 'bank', 'credit', 'card', 'taken', 'bank', 'use', 'credit', 'card', 'past', 'month', 'chargeabl', 'card', 'reward', 'point', 'use', 'movi', 'ticket', 'offer', 'discount', 'shop', 'use', 'servic', 'frequent', 'credit', 'limit', 'satisif', 'proper', 'callback', 'follow', 'bank', 'end', 'last', 'annual', 'year', 'overal', 'spend', 'spend', 'liter', 'save', 'lot', 'form', 'cashback', 'fuel', 'discount', 'movi', 'offer', 'etc', 'shop', 'onlin', 'offlin', 'card', 'reward', 'first', 'cash', 'withdraw', 'sbi', 'card', 'given', 'cashback', 'inr', 'reward', 'redempt', 'simpl', 'hassl', 'free', 'card', 'interest', 'cost', 'decent', 'reward', 'good', 'redempt', 'reward', 'credit', 'perfect', 'like', 'good', 'valu', 'card', 'brought', 'x', 'reward', 'spend', 'done', 'groceri', 'shop', 'sbi', 'card', 'everi', 'reward', 'point', 'hold', 'valu', 'rs', 'higher', 'even', 'high', 'valu', 'card', 'sbi', 'offer', 'good', 'credit', 'limit', 'credit', 'card', 'annual', 'charg', 'sure', 'document', 'simpl', 'upload', 'onin', 'receiv', 'within', 'day', 'simpli', 'save', 'simpli', 'save', 'card', 'reward', 'convert', 'cash', 'back', 'mostli', 'use', 'shop', 'fuel', 'purpos', 'reward', 'system', 'reward', 'rate', 'card', 'perfect', 'avail', 'emi', 'facil', 'icici', 'credit', 'card', 'year', 'ago', 'hold', 'card', 'actual', 'someon', 'ask', 'get', 'card', 'credit', 'limit', 'lesser', 'bank', 'credit', 'card', 'use', 'icici', 'card', 'onlin', 'shop', 'purchas', 'fuel', 'never', 'troubl', 'card', 'could', 'easili', 'redeem', 'reward', 'shop', 'catalogu', 'gift', 'save', 'reward', 'point', 'year', 'recent', 'redeem', 'get', 'statement', 'credit', 'shop', 'done', 'department', 'store', 'get', 'reward', 'point', 'everi', 'inr', 'spent', 'great', 'card', 'multitud', 'benefit', 'reward', 'cannot', 'afford', 'miss', 'got', 'bonu', 'reward', 'point', 'worth', 'within', 'day', 'post', 'activ', 'card', 'sbi', 'credit', 'card', 'use', 'recent', 'far', 'face', 'issu', 'use', 'card', 'onlin', 'shop', 'purchasesi', 'get', 'mani', 'cash', 'back', 'offer', 'reward', 'pointsth', 'credit', 'limit', 'card', 'rupe', 'wish', 'bank', 'increas', 'credit', 'limit', 'use', 'citi', 'card', 'past', 'month', 'credit', 'limit', 'less', 'face', 'drawback', 'free', 'card', 'fuel', 'benefit', 'sinc', 'indian', 'oil', 'card', 'submit', 'requir', 'document', 'agent', 'chosen', 'card', 'sinc', 'bank', 'servic', 'good', 'impress', 'fine', 'varieti', 'travel', 'offer', 'reward', 'get', 'card', 'made', 'use', 'reward', 'point', 'fuel', 'refil', 'best', 'groceri', 'shop', 'massiv', 'cheaper', 'sinc', 'first', 'get', 'discount', 'card', 'valu', 'spent', 'get', 'x', 'reward', 'want', 'gift', 'mom', 'ck', 'perfum', 'use', 'reward', 'point', 'shop', 'catalogu', 'sbi', 'sinc', 'year', 'use', 'citi', 'bank', 'reward', 'credit', 'card', 'life', 'time', 'free', 'card', 'given', 'credit', 'limit', 'rs', 'use', 'card', 'shop', 'purpos', 'get', 'credit', 'card', 'statement', 'email', 'bank', 'provid', 'good', 'servic', 'rate', 'interest', 'high', 'dine', 'one', 'partner', 'restaur', 'sbi', 'got', 'good', 'valu', 'reward', 'excit', 'spend', 'base', 'reward', 'system', 'credit', 'card', 'like', 'multitud', 'reward', 'cashback', 'come', 'way', 'card', 'fine', 'varieti', 'reward', 'benefit', 'avail', 'card', 'perfect', 'sbi', 'gave', 'reward', 'point', 'valu', 'k', 'spend', 'worth', 'lac', 'card', 'like', 'movi', 'shop', 'offer', 'sbi', 'fascin', 'sbi', 'best', 'like', 'benefit', 'discount', 'cashback', 'deal', 'voucher', 'get', 'card', 'spend', 'lac', 'icici', 'fetch', 'mileston', 'reward', 'infinit', 'varieti', 'option', 'found', 'shop', 'n', 'smile', 'catalogu', 'reward', 'redempt', 'super', 'impress', 'multitud', 'reward', 'receiv', 'card', 'peopl', 'like', 'live', 'exot', 'lifestyl', 'card', 'perfect', 'pick', 'card', 'fetch', 'x', 'reward', 'point', 'shop', 'department', 'store', 'comprehens', 'card', 'good', 'benefit', 'reward', 'redeem', 'accru', 'reward', 'point', 'shop', 'gift', 'catalogu', 'sbi', 'suprem', 'impress', 'reward', 'discount', 'deal', 'everyday', 'shop', 'done', 'card', 'shop', 'use', 'reward', 'sbi', 'catalogu', 'great', 'experi', 'pretti', 'content', 'vivid', 'varieti', 'benefit', 'reward', 'get', 'card', 'glad', 'sbi', 'divers', 'scheme', 'reward', 'benefit', 'offer', 'whenev', 'make', 'intern', 'transact', 'get', 'reward', 'point', 'everi', 'inr', 'spent', 'suprem', 'impress', 'reward', 'discount', 'deal', 'everyday', 'shop', 'done', 'card', 'super', 'happi', 'incred', 'varieti', 'offer', 'reward', 'come', 'way', 'card', 'hush', 'puppi', 'voucher', 'came', 'welcom', 'benefit', 'use', 'shop', 'appli', 'citi', 'bank', 'credit', 'card', 'appli', 'onlin', 'use', 'card', 'month', 'card', 'statement', 'get', 'email', 'given', 'low', 'credit', 'limit', 'inform', 'increas', 'limit', 'use', 'travel', 'lot', 'use', 'fuel', 'purpos', 'vehicl', 'diesel', 'annual', 'fee', 'may', 'wavier', 'use', 'card', 'k', 'year', 'need', 'pay', 'annual', 'charg', 'interest', 'rate', 'high', 'use', 'hdfc', 'bank', 'credit', 'card', 'taken', 'onlin', 'year', 'credit', 'limit', 'good', 'airport', 'loung', 'access', 'discount', 'shop', 'get', 'fuel', 'benefit', 'use', 'card', 'frequent', 'everyth', 'good', 'credit', 'card', 'want', 'book', 'travel', 'ticket', 'redeem', 'reward', 'indigo', 'sbi', 'credit', 'card', 'chargeabl', 'annual', 'first', 'activ', 'card', 'otp', 'reflect', 'automat', 'itselfi', 'dont', 'like', 'process', 'case', 'lost', 'card', 'easier', 'other', 'enter', 'otp', 'may', 'misus', 'card', 'reward', 'point', 'use', 'get', 'sever', 'call', 'bank', 'often', 'sometim', 'irat', 'till', 'get', 'opportun', 'talk', 'bank', 'happi', 'payment', 'inr', 'got', 'reward', 'worth', 'voucher', 'sbi', 'simpli', 'fab', 'love', 'sbi', 'perfect', 'reward', 'paid', 'inr', 'redeem', 'accru', 'reward', 'eas', 'save', 'form', 'cashback', 'made', 'book', 'mmt', 'use', 'reward', 'singapor', 'airlin', 'air', 'mile', 'convers', 'dine', 'partner', 'restaur', 'sbi', 'got', 'x', 'reward', 'point', 'bill', 'gener', 'purchas', 'get', 'cashback', 'sbi', 'movi', 'buff', 'sbi', 'card', 'get', 'x', 'reward', 'movi', 'spend', 'done', 'card', 'got', 'welcom', 'reward', 'worth', 'amex', 'card', 'travel', 'book', 'made', 'via', 'cleartrip', 'get', 'x', 'reward', 'card', 'telecom', 'servic', 'avail', 'card', 'get', 'reward', 'per', 'inr', 'spent', 'reward', 'benefit', 'even', 'cashback', 'deal', 'card', 'simpli', 'best', 'shop', 'done', 'department', 'store', 'get', 'reward', 'point', 'everi', 'inr', 'spent', 'impress', 'reward', 'point', 'per', 'inr', 'spend', 'scheme', 'purchas', 'icici', 'bank', 'credit', 'card', 'year', 'back', 'base', 'salari', 'account', 'given', 'card', 'actual', 'interest', 'credit', 'card', 'sinc', 'given', 'life', 'time', 'free', 'card', 'start', 'use', 'get', 'reward', 'point', 'benefit', 'end', 'month', 'pay', 'due', 'auto', 'debit', 'option', 'taken', 'sbi', 'credit', 'card', 'shop', 'purpos', 'use', 'past', 'monthth', 'agent', 'share', 'inform', 'card', 'process', 'credit', 'limit', 'good', 'chargeabl', 'card', 'need', 'pay', 'rs', 'yearli', 'basi', 'easi', 'use', 'accept', 'place', 'option', 'convert', 'emi', 'usefulther', 'cash', 'back', 'offer', 'reward', 'point', 'good', 'like', 'amazingli', 'fascin', 'card', 'get', 'x', 'reward', 'fuel', 'spend', 'use', 'icici', 'bank', 'platinum', 'credit', 'card', 'year', 'given', 'good', 'credit', 'rs', 'l', 'life', 'time', 'free', 'card', 'mostli', 'use', 'card', 'shop', 'groceri', 'fill', 'fuel', 'reward', 'point', 'convert', 'big', 'bazaar', 'card', 'emi', 'facil', 'give', 'good', 'servic', 'everi', 'inr', 'spent', 'regular', 'purchas', 'get', 'turbo', 'point', 'reward', 'last', 'month', 'use', 'citi', 'bank', 'credit', 'card', 'custom', 'servic', 'fine', 'offer', 'rs', 'k', 'suffici', 'alreadi', 'spoke', 'increas', 'limit', 'said', 'done', 'six', 'month', 'use', 'card', 'shop', 'petrol', 'bunk', 'get', 'reward', 'makemytrip', 'get', 'cashback', 'inr', 'credit', 'card', 'better', 'scheme', 'reward', 'one', 'applic', 'card', 'sbi', 'glad', 'sbi', 'alway', 'come', 'fascin', 'reward', 'offer', 'definit', 'great', 'card', 'fine', 'scheme', 'reward', 'love', 'get', 'amaz', 'reward', 'point', 'card', 'purchas', 'made', 'irctc', 'card', 'get', 'benefit', 'redempt', 'reward', 'done', 'card', 'good', 'card', 'fab', 'rang', 'reward', 'perfect', 'though', 'reward', 'fuel', 'get', 'surcharg', 'waiver', 'like', 'scheme', 'offer', 'reward', 'system', 'sbi', 'flexibl', 'citi', 'provid', 'annual', 'fee', 'chargeabl', 'plu', 'gst', 'waiver', 'option', 'k', 'within', 'year', 'credit', 'limit', 'k', 'got', 'cash', 'limit', 'k', 'mainli', 'use', 'card', 'fuel', 'purpos', 'outlet', 'indian', 'oil', 'near', 'place', 'agent', 'told', 'surcharg', 'waiver', 'fuel', 'chosen', 'card', 'reward', 'point', 'accru', 'help', 'shop', 'catalogu', 'sbi', 'surcharg', 'waiver', 'fuel', 'applic', 'card', 'like', 'perfect', 'benefit', 'card', 'brought', 'good', 'deal', 'reward', 'cashback', 'onlin', 'shop', 'pretti', 'reward', 'reason', 'definit', 'brilliant', 'card', 'mmt', 'cashback', 'payment', 'join', 'fee', 'best', 'even', 'year', 'card', 'bring', 'perfect', 'varieti', 'reward', 'good', 'valu', 'base', 'card', 'plethora', 'reward', 'base', 'spend', 'american', 'express', 'travel', 'reward', 'card', 'come', 'complimentari', 'travel', 'acceler', 'benefit', 'reward', 'life', 'sbi', 'simpli', 'click', 'good', 'card', 'onlin', 'shop', 'get', 'lot', 'reward', 'recommend', 'fuel', 'type', 'card', 'give', 'welcom', 'gift', 'inr', 'fuel', 'purchas', 'bpcl', 'get', 'valueback', 'umpteen', 'varieti', 'reward', 'benefit', 'cashback', 'applic', 'make', 'card', 'worth', 'small', 'fee', 'inr', 'charg', 'reward', 'redempt', 'one', 'reward', 'point', 'equival', 'rs', 'credit', 'card', 'impress', 'divers', 'natur', 'reward', 'made', 'avail', 'card', 'get', 'mani', 'call', 'sbi', 'unhappi', 'kind', 'servic', 'end', 'though', 'got', 'card', 'keep', 'call', 'insur', 'plan', 'refus', 'annual', 'fee', 'chargeabl', 'rupe', 'waiver', 'option', 'l', 'within', 'year', 'credit', 'limit', 'low', 'offer', 'l', 'got', 'k', 'use', 'card', 'person', 'use', 'shop', 'purpos', 'perfect', 'card', 'fetch', 'reward', 'point', 'per', 'inr', 'spent', 'telecom', 'servic', 'use', 'welcom', 'reward', 'inr', 'fuel', 'refil', 'bpcl', 'amaz', 'could', 'get', 'mani', 'reward', 'shop', 'done', 'sbi', 'simpli', 'save', 'card', 'super', 'content', 'satiat', 'incred', 'offer', 'membership', 'reward', 'card', 'shop', 'department', 'store', 'citi', 'bank', 'card', 'get', 'point', 'everi', 'inr', 'spent', 'sinc', 'massiv', 'fuel', 'expens', 'thought', 'knew', 'would', 'perfect', 'card', 'happi', 'receiv', 'mega', 'spend', 'base', 'reward', 'credit', 'card', 'great', 'card', 'bring', 'fuel', 'surcharg', 'waiver', 'delight', 'use', 'hdfc', 'bank', 'credit', 'card', 'offer', 'bank', 'use', 'credit', 'card', 'past', 'month', 'free', 'card', 'give', 'fuel', 'benefit', 'discount', 'shop', 'smooth', 'use', 'much', 'comfort', 'well', 'realli', 'satisfi', 'usag', 'card', 'spend', 'done', 'flipkart', 'get', 'x', 'reward', 'card', 'got', 'surcharg', 'waiver', 'result', 'fuel', 'cost', 'lot', 'cheaper', 'card', 'happi', 'fascin', 'multitud', 'cashback', 'reward', 'chosen', 'citi', 'bank', 'credit', 'card', 'onlin', 'avail', 'person', 'use', 'credit', 'limit', 'less', 'life', 'time', 'free', 'card', 'mostli', 'use', 'card', 'busi', 'purpos', 'cash', 'back', 'offer', 'well', 'reward', 'point', 'carri', 'card', 'last', 'month', 'duti', 'free', 'shop', 'get', 'cashback', 'card', 'purchas', 'groceri', 'get', 'x', 'reward', 'elit', 'card', 'inr', 'spent', 'card', 'get', 'reward', 'point', 'everi', 'inr', 'spend', 'card', 'given', 'reward', 'point', 'super', 'reliev', 'reward', 'point', 'redeem', 'air', 'mile', 'book', 'amount', 'got', 'cashback', 'mmt', 'dont', 'think', 'could', 'gotten', 'perfectli', 'reward', 'scheme', 'sbi', 'best', 'process', 'everyday', 'shop', 'made', 'conveni', 'hassl', 'free', 'card', 'document', 'process', 'simpl', 'sbi', 'credit', 'card', 'receiv', 'card', 'within', 'week', 'annual', 'charg', 'card', 'rs', 'spend', 'amount', 'annual', 'charg', 'bank', 'given', 'good', 'credit', 'limit', 'start', 'use', 'card', 'fuel', 'purchas', 'system', 'accessori', 'shop', 'payment', 'premium', 'card', 'benefit', 'reward', 'also', 'premium', 'use', 'accru', 'reward', 'point', 'airlin', 'ticket', 'book', 'superb', 'sbi', 'card', 'perfect', 'peopl', 'want', 'fuel', 'save', 'hold', 'icici', 'card', 'past', 'year', 'appli', 'bank', 'annual', 'fee', 'chargeabl', 'k', 'credit', 'limit', 'fine', 'k', 'still', 'havent', 'enhanc', 'yet', 'coral', 'card', 'use', 'card', 'onlin', 'shop', 'purpos', 'well', 'free', 'movi', 'ticket', 'applic', 'util', 'yet', 'onlin', 'shop', 'card', 'save', 'good', 'valu', 'use', 'sbi', 'card', 'make', 'groceri', 'purchas', 'home', 'got', 'reward', 'point', 'everi', 'inr', 'spent', 'everyth', 'avail', 'onlin', 'lack', 'point', 'provid', 'airport', 'loung', 'access', 'im', 'reward', 'card', 'get', 'lot', 'benefit', 'hold', 'card', 'last', 'month', 'get', 'waiv', 'sinc', 'salari', 'account', 'reward', 'card', 'waiv', 'petrol', 'sur', 'charg', 'waiver', 'spend', 'done', 'telecom', 'get', 'good', 'reward', 'card', 'pretti', 'content', 'reward', 'offer', 'cashback', 'benefit', 'card', 'impress', 'multitud', 'benefit', 'reward', 'card', 'bring', 'made', 'first', 'cash', 'withdraw', 'mayb', 'first', 'day', 'receipt', 'card', 'got', 'inr', 'cashback', 'everi', 'reward', 'point', 'accru', 'card', 'hold', 'valu', 'inr', 'reward', 'redempt', 'fee', 'inr', 'charg', 'perfect', 'card', 'amaz', 'reward', 'good', 'cashback', 'offer', 'get', 'use', 'accru', 'reward', 'point', 'credit', 'card', 'bill', 'glad', 'sbi', 'grant', 'valueback', 'fuel', 'refil', 'done', 'bpcl', 'got', 'welcom', 'bonu', 'membership', 'reward', 'point', 'redeem', 'travel', 'voucher', 'worth', 'inr', 'couldnt', 'ask', 'better', 'reward', 'get', 'credit', 'card', 'retail', 'spend', 'elit', 'card', 'get', 'reward', 'point', 'per', 'inr', 'spent', 'purchas', 'made', 'department', 'store', 'get', 'x', 'reward', 'card', 'good', 'valu', 'base', 'card', 'amaz', 'varieti', 'reward', 'offer', 'everyday', 'shop', 'super', 'satiat', 'fine', 'mix', 'reward', 'benefit', 'get', 'card', 'card', 'sbi', 'got', 'excit', 'reward', 'movi', 'dine', 'travel', 'smart', 'reward', 'spend', 'fine', 'benefit', 'credit', 'card', 'get', 'fuel', 'save', 'along', 'save']\n",
      "\n",
      "Most commonly occuring words and frequency\n",
      "\n"
     ]
    },
    {
     "data": {
      "text/plain": [
       "[('card', 2332),\n",
       " ('reward', 1827),\n",
       " ('credit', 788),\n",
       " ('point', 783),\n",
       " ('get', 714),\n",
       " ('use', 681),\n",
       " ('sbi', 610),\n",
       " ('shop', 568),\n",
       " ('fuel', 442),\n",
       " ('good', 370),\n",
       " ('limit', 347),\n",
       " ('inr', 344),\n",
       " ('offer', 331),\n",
       " ('got', 329),\n",
       " ('benefit', 323),\n",
       " ('spend', 306),\n",
       " ('bank', 268),\n",
       " ('year', 235),\n",
       " ('save', 223),\n",
       " ('cashback', 213)]"
      ]
     },
     "execution_count": 22,
     "metadata": {},
     "output_type": "execute_result"
    }
   ],
   "source": [
    "import itertools\n",
    "import collections\n",
    "all_words=list(itertools.chain(*bagofwords))\n",
    "print(all_words[0:9546])\n",
    "print()\n",
    "print('Most commonly occuring words and frequency\\n')\n",
    "words_freq=collections.Counter(all_words)\n",
    "words_freq.most_common(20)"
   ]
  },
  {
   "cell_type": "markdown",
   "id": "41f423d7",
   "metadata": {},
   "source": [
    "# Word Frequency"
   ]
  },
  {
   "cell_type": "code",
   "execution_count": 23,
   "id": "85be19bd",
   "metadata": {},
   "outputs": [
    {
     "data": {
      "text/html": [
       "<div>\n",
       "<style scoped>\n",
       "    .dataframe tbody tr th:only-of-type {\n",
       "        vertical-align: middle;\n",
       "    }\n",
       "\n",
       "    .dataframe tbody tr th {\n",
       "        vertical-align: top;\n",
       "    }\n",
       "\n",
       "    .dataframe thead th {\n",
       "        text-align: right;\n",
       "    }\n",
       "</style>\n",
       "<table border=\"1\" class=\"dataframe\">\n",
       "  <thead>\n",
       "    <tr style=\"text-align: right;\">\n",
       "      <th></th>\n",
       "      <th>words</th>\n",
       "      <th>Freq</th>\n",
       "    </tr>\n",
       "  </thead>\n",
       "  <tbody>\n",
       "    <tr>\n",
       "      <th>0</th>\n",
       "      <td>card</td>\n",
       "      <td>2332</td>\n",
       "    </tr>\n",
       "    <tr>\n",
       "      <th>1</th>\n",
       "      <td>reward</td>\n",
       "      <td>1827</td>\n",
       "    </tr>\n",
       "    <tr>\n",
       "      <th>2</th>\n",
       "      <td>credit</td>\n",
       "      <td>788</td>\n",
       "    </tr>\n",
       "    <tr>\n",
       "      <th>3</th>\n",
       "      <td>point</td>\n",
       "      <td>783</td>\n",
       "    </tr>\n",
       "    <tr>\n",
       "      <th>4</th>\n",
       "      <td>get</td>\n",
       "      <td>714</td>\n",
       "    </tr>\n",
       "  </tbody>\n",
       "</table>\n",
       "</div>"
      ],
      "text/plain": [
       "    words  Freq\n",
       "0    card  2332\n",
       "1  reward  1827\n",
       "2  credit   788\n",
       "3   point   783\n",
       "4     get   714"
      ]
     },
     "execution_count": 23,
     "metadata": {},
     "output_type": "execute_result"
    }
   ],
   "source": [
    "freq_word_df = pd.DataFrame(words_freq.most_common(20),columns=['words','Freq'])\n",
    "freq_word_df.head()"
   ]
  },
  {
   "cell_type": "code",
   "execution_count": 24,
   "id": "97dd0b1b",
   "metadata": {},
   "outputs": [
    {
     "data": {
      "image/png": "[encoded data removed]",
      "text/plain": [
       "<Figure size 1800x720 with 1 Axes>"
      ]
     },
     "metadata": {
      "needs_background": "light"
     },
     "output_type": "display_data"
    }
   ],
   "source": [
    "fig,ax=plt.subplots(figsize=(25,10))\n",
    "freq_word_df.sort_values(by='Freq').plot.barh(x='words',y='Freq',ax=ax,color='orange')\n",
    "plt.show();"
   ]
  },
  {
   "cell_type": "markdown",
   "id": "74245774",
   "metadata": {},
   "source": [
    "# Word Frequency"
   ]
  },
  {
   "cell_type": "code",
   "execution_count": 25,
   "id": "5a67640c",
   "metadata": {},
   "outputs": [],
   "source": [
    "# from wordcloud import WordCloud,STOPWORDS\n",
    "# import matplotlib.pyplot as plt\n",
    "# word_string=' '.join(freq_word_df.words)\n",
    "# wordcloud=WordCloud(stopwords=STOPWORDS,\n",
    "#                        background_color='black',\n",
    "#                      max_words=20\n",
    "#                       ).generate(word_string)"
   ]
  },
  {
   "cell_type": "code",
   "execution_count": 26,
   "id": "d78353c2",
   "metadata": {},
   "outputs": [],
   "source": [
    "# plt.figure(figsize=(15,10))\n",
    "# plt.clf()\n",
    "# plt.imshow(wordcloud)\n",
    "# plt.axis('off')\n",
    "# plt.show()"
   ]
  },
  {
   "cell_type": "markdown",
   "id": "122a7fe2",
   "metadata": {},
   "source": [
    "# Polarity by TextBlob"
   ]
  },
  {
   "cell_type": "code",
   "execution_count": 27,
   "id": "11e64e9e",
   "metadata": {},
   "outputs": [
    {
     "name": "stdout",
     "output_type": "stream",
     "text": [
      "0.0\n",
      "like amaz reward card sbi\n"
     ]
    }
   ],
   "source": [
    "sentiment_text = [TextBlob(Comments) for Comments in corpus]\n",
    "print(sentiment_text[10].polarity)\n",
    "print(sentiment_text[10])"
   ]
  },
  {
   "cell_type": "code",
   "execution_count": 28,
   "id": "9a3e442c",
   "metadata": {},
   "outputs": [
    {
     "data": {
      "text/html": [
       "<div>\n",
       "<style scoped>\n",
       "    .dataframe tbody tr th:only-of-type {\n",
       "        vertical-align: middle;\n",
       "    }\n",
       "\n",
       "    .dataframe tbody tr th {\n",
       "        vertical-align: top;\n",
       "    }\n",
       "\n",
       "    .dataframe thead th {\n",
       "        text-align: right;\n",
       "    }\n",
       "</style>\n",
       "<table border=\"1\" class=\"dataframe\">\n",
       "  <thead>\n",
       "    <tr style=\"text-align: right;\">\n",
       "      <th></th>\n",
       "      <th>Polarity</th>\n",
       "      <th>UserComments</th>\n",
       "    </tr>\n",
       "  </thead>\n",
       "  <tbody>\n",
       "    <tr>\n",
       "      <th>870</th>\n",
       "      <td>1.0</td>\n",
       "      <td>perfect lifestyl travel card given multitud be...</td>\n",
       "    </tr>\n",
       "    <tr>\n",
       "      <th>834</th>\n",
       "      <td>1.0</td>\n",
       "      <td>redeem reward point bpcl voucher sbi best</td>\n",
       "    </tr>\n",
       "    <tr>\n",
       "      <th>1559</th>\n",
       "      <td>1.0</td>\n",
       "      <td>happi sbi card perfect got discount onlin shop</td>\n",
       "    </tr>\n",
       "    <tr>\n",
       "      <th>276</th>\n",
       "      <td>1.0</td>\n",
       "      <td>balanc transfer flexi pay scheme reward priori...</td>\n",
       "    </tr>\n",
       "    <tr>\n",
       "      <th>1785</th>\n",
       "      <td>1.0</td>\n",
       "      <td>perfect card humong varieti shop benefit</td>\n",
       "    </tr>\n",
       "    <tr>\n",
       "      <th>...</th>\n",
       "      <td>...</td>\n",
       "      <td>...</td>\n",
       "    </tr>\n",
       "    <tr>\n",
       "      <th>4628</th>\n",
       "      <td>-1.0</td>\n",
       "      <td>worst credit card ever bank chase give stateme...</td>\n",
       "    </tr>\n",
       "    <tr>\n",
       "      <th>3357</th>\n",
       "      <td>-1.0</td>\n",
       "      <td>worst servic flipkart axi credit</td>\n",
       "    </tr>\n",
       "    <tr>\n",
       "      <th>4062</th>\n",
       "      <td>-1.0</td>\n",
       "      <td>icici bank ki credit card ki custom care ki se...</td>\n",
       "    </tr>\n",
       "    <tr>\n",
       "      <th>4027</th>\n",
       "      <td>-1.0</td>\n",
       "      <td>hdfc worst bank ever dont option updat address...</td>\n",
       "    </tr>\n",
       "    <tr>\n",
       "      <th>3408</th>\n",
       "      <td>-1.0</td>\n",
       "      <td>connect worst credit card compani india credit...</td>\n",
       "    </tr>\n",
       "  </tbody>\n",
       "</table>\n",
       "<p>5144 rows × 2 columns</p>\n",
       "</div>"
      ],
      "text/plain": [
       "      Polarity                                       UserComments\n",
       "870        1.0  perfect lifestyl travel card given multitud be...\n",
       "834        1.0          redeem reward point bpcl voucher sbi best\n",
       "1559       1.0     happi sbi card perfect got discount onlin shop\n",
       "276        1.0  balanc transfer flexi pay scheme reward priori...\n",
       "1785       1.0           perfect card humong varieti shop benefit\n",
       "...        ...                                                ...\n",
       "4628      -1.0  worst credit card ever bank chase give stateme...\n",
       "3357      -1.0                   worst servic flipkart axi credit\n",
       "4062      -1.0  icici bank ki credit card ki custom care ki se...\n",
       "4027      -1.0  hdfc worst bank ever dont option updat address...\n",
       "3408      -1.0  connect worst credit card compani india credit...\n",
       "\n",
       "[5144 rows x 2 columns]"
      ]
     },
     "execution_count": 28,
     "metadata": {},
     "output_type": "execute_result"
    }
   ],
   "source": [
    "sentiments = [[Comments.sentiment.polarity, str(Comments)] for Comments in sentiment_text]\n",
    "sentiment_df = pd.DataFrame(sentiments, columns=[\"Polarity\",\"UserComments\"])\n",
    "sentiment_df.sort_values(by='Polarity',ascending=False) "
   ]
  },
  {
   "cell_type": "code",
   "execution_count": 29,
   "id": "d39bd6f5",
   "metadata": {},
   "outputs": [
    {
     "data": {
      "text/plain": [
       "array([<AxesSubplot:title={'center':'Polarity'}>], dtype=object)"
      ]
     },
     "execution_count": 29,
     "metadata": {},
     "output_type": "execute_result"
    },
    {
     "data": {
      "text/plain": [
       "Text(0.5, 1.0, 'Sentiments Distribution on Credit Cards Data')"
      ]
     },
     "execution_count": 29,
     "metadata": {},
     "output_type": "execute_result"
    },
    {
     "data": {
      "image/png": "[encoded data removed]",
      "text/plain": [
       "<Figure size 1080x720 with 1 Axes>"
      ]
     },
     "metadata": {
      "needs_background": "light"
     },
     "output_type": "display_data"
    }
   ],
   "source": [
    "fig, ax = plt.subplots(figsize=(15,10))\n",
    "\n",
    "#Plot histogram of the polarity values\n",
    "sentiment_df.hist(bins=[-1.0, -0.75, -0.25, 0, 0.25, 0.75, 1.0], ax=ax, color=\"green\")\n",
    "plt.title(\"Sentiments Distribution on Credit Cards Data\")\n",
    "plt.show()"
   ]
  },
  {
   "cell_type": "code",
   "execution_count": 30,
   "id": "8edf1270",
   "metadata": {},
   "outputs": [
    {
     "data": {
      "text/plain": [
       "Polarity\n",
       "-1.000000     32\n",
       "-0.800000      7\n",
       "-0.750000      1\n",
       "-0.714286      1\n",
       "-0.700000     19\n",
       "            ... \n",
       " 0.800000     51\n",
       " 0.833333      1\n",
       " 0.850000     17\n",
       " 0.900000      9\n",
       " 1.000000    171\n",
       "Length: 300, dtype: int64"
      ]
     },
     "execution_count": 30,
     "metadata": {},
     "output_type": "execute_result"
    }
   ],
   "source": [
    "sentiment_df.groupby('Polarity').size()"
   ]
  },
  {
   "cell_type": "code",
   "execution_count": 31,
   "id": "97745915",
   "metadata": {},
   "outputs": [],
   "source": [
    "bins=(-1.0,0.0,1.0)\n",
    "names=['Negative','Positive']\n",
    "sentiment_df['Category']=pd.cut(sentiment_df['Polarity'],bins,labels=names)"
   ]
  },
  {
   "cell_type": "code",
   "execution_count": 32,
   "id": "4ded9e81",
   "metadata": {},
   "outputs": [
    {
     "data": {
      "text/plain": [
       "Category\n",
       "Negative    3316\n",
       "Positive    1796\n",
       "dtype: int64"
      ]
     },
     "execution_count": 32,
     "metadata": {},
     "output_type": "execute_result"
    }
   ],
   "source": [
    "sentiment_df.groupby('Category').size()"
   ]
  },
  {
   "cell_type": "code",
   "execution_count": 33,
   "id": "72b7bd55",
   "metadata": {},
   "outputs": [
    {
     "name": "stdout",
     "output_type": "stream",
     "text": [
      "<class 'pandas.core.frame.DataFrame'>\n",
      "RangeIndex: 5144 entries, 0 to 5143\n",
      "Data columns (total 3 columns):\n",
      " #   Column        Non-Null Count  Dtype   \n",
      "---  ------        --------------  -----   \n",
      " 0   Polarity      5144 non-null   float64 \n",
      " 1   UserComments  5144 non-null   object  \n",
      " 2   Category      5112 non-null   category\n",
      "dtypes: category(1), float64(1), object(1)\n",
      "memory usage: 85.6+ KB\n"
     ]
    }
   ],
   "source": [
    "sentiment_df.info()"
   ]
  },
  {
   "cell_type": "code",
   "execution_count": 34,
   "id": "4b3e2d59",
   "metadata": {},
   "outputs": [
    {
     "name": "stdout",
     "output_type": "stream",
     "text": [
      "<class 'pandas.core.frame.DataFrame'>\n",
      "RangeIndex: 5144 entries, 0 to 5143\n",
      "Data columns (total 3 columns):\n",
      " #   Column        Non-Null Count  Dtype   \n",
      "---  ------        --------------  -----   \n",
      " 0   Polarity      5144 non-null   float64 \n",
      " 1   UserComments  5144 non-null   object  \n",
      " 2   Category      5112 non-null   category\n",
      "dtypes: category(1), float64(1), object(1)\n",
      "memory usage: 85.6+ KB\n"
     ]
    }
   ],
   "source": [
    "sentiment_df.info()"
   ]
  },
  {
   "cell_type": "code",
   "execution_count": 35,
   "id": "ecdb63be",
   "metadata": {},
   "outputs": [
    {
     "data": {
      "text/html": [
       "<div>\n",
       "<style scoped>\n",
       "    .dataframe tbody tr th:only-of-type {\n",
       "        vertical-align: middle;\n",
       "    }\n",
       "\n",
       "    .dataframe tbody tr th {\n",
       "        vertical-align: top;\n",
       "    }\n",
       "\n",
       "    .dataframe thead th {\n",
       "        text-align: right;\n",
       "    }\n",
       "</style>\n",
       "<table border=\"1\" class=\"dataframe\">\n",
       "  <thead>\n",
       "    <tr style=\"text-align: right;\">\n",
       "      <th></th>\n",
       "      <th>Polarity</th>\n",
       "      <th>UserComments</th>\n",
       "      <th>Category</th>\n",
       "    </tr>\n",
       "  </thead>\n",
       "  <tbody>\n",
       "    <tr>\n",
       "      <th>0</th>\n",
       "      <td>0.250000</td>\n",
       "      <td>first stay trident group reward bonu point</td>\n",
       "      <td>Positive</td>\n",
       "    </tr>\n",
       "    <tr>\n",
       "      <th>1</th>\n",
       "      <td>0.000000</td>\n",
       "      <td>shop supermarket watch movi spend sbi card reward</td>\n",
       "      <td>Negative</td>\n",
       "    </tr>\n",
       "    <tr>\n",
       "      <th>2</th>\n",
       "      <td>0.700000</td>\n",
       "      <td>use card year benefit reward good</td>\n",
       "      <td>Positive</td>\n",
       "    </tr>\n",
       "    <tr>\n",
       "      <th>3</th>\n",
       "      <td>0.000000</td>\n",
       "      <td>card inde one offer reward fuel save benefit c...</td>\n",
       "      <td>Negative</td>\n",
       "    </tr>\n",
       "    <tr>\n",
       "      <th>4</th>\n",
       "      <td>1.000000</td>\n",
       "      <td>valueback deal fuel perfect benefit card</td>\n",
       "      <td>Positive</td>\n",
       "    </tr>\n",
       "    <tr>\n",
       "      <th>...</th>\n",
       "      <td>...</td>\n",
       "      <td>...</td>\n",
       "      <td>...</td>\n",
       "    </tr>\n",
       "    <tr>\n",
       "      <th>5139</th>\n",
       "      <td>0.000000</td>\n",
       "      <td>nation payment corpor india npci npci launch y...</td>\n",
       "      <td>Negative</td>\n",
       "    </tr>\n",
       "    <tr>\n",
       "      <th>5140</th>\n",
       "      <td>0.357143</td>\n",
       "      <td>pleas make special sale laptop also hdfc sbi c...</td>\n",
       "      <td>Positive</td>\n",
       "    </tr>\n",
       "    <tr>\n",
       "      <th>5141</th>\n",
       "      <td>0.000000</td>\n",
       "      <td>care receiv credit cardther credit limit inste...</td>\n",
       "      <td>Negative</td>\n",
       "    </tr>\n",
       "    <tr>\n",
       "      <th>5142</th>\n",
       "      <td>0.000000</td>\n",
       "      <td>support hi cred teamth amount deduct twice pay...</td>\n",
       "      <td>Negative</td>\n",
       "    </tr>\n",
       "    <tr>\n",
       "      <th>5143</th>\n",
       "      <td>0.000000</td>\n",
       "      <td>connect stop loot peopl genuin pathet experi o...</td>\n",
       "      <td>Negative</td>\n",
       "    </tr>\n",
       "  </tbody>\n",
       "</table>\n",
       "<p>5144 rows × 3 columns</p>\n",
       "</div>"
      ],
      "text/plain": [
       "      Polarity                                       UserComments  Category\n",
       "0     0.250000         first stay trident group reward bonu point  Positive\n",
       "1     0.000000  shop supermarket watch movi spend sbi card reward  Negative\n",
       "2     0.700000                  use card year benefit reward good  Positive\n",
       "3     0.000000  card inde one offer reward fuel save benefit c...  Negative\n",
       "4     1.000000           valueback deal fuel perfect benefit card  Positive\n",
       "...        ...                                                ...       ...\n",
       "5139  0.000000  nation payment corpor india npci npci launch y...  Negative\n",
       "5140  0.357143  pleas make special sale laptop also hdfc sbi c...  Positive\n",
       "5141  0.000000  care receiv credit cardther credit limit inste...  Negative\n",
       "5142  0.000000  support hi cred teamth amount deduct twice pay...  Negative\n",
       "5143  0.000000  connect stop loot peopl genuin pathet experi o...  Negative\n",
       "\n",
       "[5144 rows x 3 columns]"
      ]
     },
     "execution_count": 35,
     "metadata": {},
     "output_type": "execute_result"
    }
   ],
   "source": [
    "sentiment_df"
   ]
  },
  {
   "cell_type": "code",
   "execution_count": 36,
   "id": "0e197164",
   "metadata": {},
   "outputs": [
    {
     "data": {
      "text/plain": [
       "Index(['Polarity', 'UserComments', 'Category'], dtype='object')"
      ]
     },
     "execution_count": 36,
     "metadata": {},
     "output_type": "execute_result"
    }
   ],
   "source": [
    "sentiment_df.columns"
   ]
  },
  {
   "cell_type": "code",
   "execution_count": 37,
   "id": "94c79c66",
   "metadata": {},
   "outputs": [
    {
     "data": {
      "text/html": [
       "<div>\n",
       "<style scoped>\n",
       "    .dataframe tbody tr th:only-of-type {\n",
       "        vertical-align: middle;\n",
       "    }\n",
       "\n",
       "    .dataframe tbody tr th {\n",
       "        vertical-align: top;\n",
       "    }\n",
       "\n",
       "    .dataframe thead th {\n",
       "        text-align: right;\n",
       "    }\n",
       "</style>\n",
       "<table border=\"1\" class=\"dataframe\">\n",
       "  <thead>\n",
       "    <tr style=\"text-align: right;\">\n",
       "      <th></th>\n",
       "      <th>Polarity</th>\n",
       "      <th>UserComments</th>\n",
       "      <th>Category</th>\n",
       "    </tr>\n",
       "  </thead>\n",
       "  <tbody>\n",
       "    <tr>\n",
       "      <th>0</th>\n",
       "      <td>0.250000</td>\n",
       "      <td>first stay trident group reward bonu point</td>\n",
       "      <td>Positive</td>\n",
       "    </tr>\n",
       "    <tr>\n",
       "      <th>1</th>\n",
       "      <td>0.000000</td>\n",
       "      <td>shop supermarket watch movi spend sbi card reward</td>\n",
       "      <td>Negative</td>\n",
       "    </tr>\n",
       "    <tr>\n",
       "      <th>2</th>\n",
       "      <td>0.700000</td>\n",
       "      <td>use card year benefit reward good</td>\n",
       "      <td>Positive</td>\n",
       "    </tr>\n",
       "    <tr>\n",
       "      <th>3</th>\n",
       "      <td>0.000000</td>\n",
       "      <td>card inde one offer reward fuel save benefit c...</td>\n",
       "      <td>Negative</td>\n",
       "    </tr>\n",
       "    <tr>\n",
       "      <th>4</th>\n",
       "      <td>1.000000</td>\n",
       "      <td>valueback deal fuel perfect benefit card</td>\n",
       "      <td>Positive</td>\n",
       "    </tr>\n",
       "    <tr>\n",
       "      <th>...</th>\n",
       "      <td>...</td>\n",
       "      <td>...</td>\n",
       "      <td>...</td>\n",
       "    </tr>\n",
       "    <tr>\n",
       "      <th>5139</th>\n",
       "      <td>0.000000</td>\n",
       "      <td>nation payment corpor india npci npci launch y...</td>\n",
       "      <td>Negative</td>\n",
       "    </tr>\n",
       "    <tr>\n",
       "      <th>5140</th>\n",
       "      <td>0.357143</td>\n",
       "      <td>pleas make special sale laptop also hdfc sbi c...</td>\n",
       "      <td>Positive</td>\n",
       "    </tr>\n",
       "    <tr>\n",
       "      <th>5141</th>\n",
       "      <td>0.000000</td>\n",
       "      <td>care receiv credit cardther credit limit inste...</td>\n",
       "      <td>Negative</td>\n",
       "    </tr>\n",
       "    <tr>\n",
       "      <th>5142</th>\n",
       "      <td>0.000000</td>\n",
       "      <td>support hi cred teamth amount deduct twice pay...</td>\n",
       "      <td>Negative</td>\n",
       "    </tr>\n",
       "    <tr>\n",
       "      <th>5143</th>\n",
       "      <td>0.000000</td>\n",
       "      <td>connect stop loot peopl genuin pathet experi o...</td>\n",
       "      <td>Negative</td>\n",
       "    </tr>\n",
       "  </tbody>\n",
       "</table>\n",
       "<p>5144 rows × 3 columns</p>\n",
       "</div>"
      ],
      "text/plain": [
       "      Polarity                                       UserComments  Category\n",
       "0     0.250000         first stay trident group reward bonu point  Positive\n",
       "1     0.000000  shop supermarket watch movi spend sbi card reward  Negative\n",
       "2     0.700000                  use card year benefit reward good  Positive\n",
       "3     0.000000  card inde one offer reward fuel save benefit c...  Negative\n",
       "4     1.000000           valueback deal fuel perfect benefit card  Positive\n",
       "...        ...                                                ...       ...\n",
       "5139  0.000000  nation payment corpor india npci npci launch y...  Negative\n",
       "5140  0.357143  pleas make special sale laptop also hdfc sbi c...  Positive\n",
       "5141  0.000000  care receiv credit cardther credit limit inste...  Negative\n",
       "5142  0.000000  support hi cred teamth amount deduct twice pay...  Negative\n",
       "5143  0.000000  connect stop loot peopl genuin pathet experi o...  Negative\n",
       "\n",
       "[5144 rows x 3 columns]"
      ]
     },
     "execution_count": 37,
     "metadata": {},
     "output_type": "execute_result"
    }
   ],
   "source": [
    "dfp = pd.DataFrame(data=sentiment_df,\n",
    "                    columns=['Polarity', 'UserComments', 'Category'])\n",
    "dfp"
   ]
  },
  {
   "cell_type": "code",
   "execution_count": 38,
   "id": "1f5ae839",
   "metadata": {},
   "outputs": [
    {
     "data": {
      "text/html": [
       "<div>\n",
       "<style scoped>\n",
       "    .dataframe tbody tr th:only-of-type {\n",
       "        vertical-align: middle;\n",
       "    }\n",
       "\n",
       "    .dataframe tbody tr th {\n",
       "        vertical-align: top;\n",
       "    }\n",
       "\n",
       "    .dataframe thead th {\n",
       "        text-align: right;\n",
       "    }\n",
       "</style>\n",
       "<table border=\"1\" class=\"dataframe\">\n",
       "  <thead>\n",
       "    <tr style=\"text-align: right;\">\n",
       "      <th></th>\n",
       "      <th>Polarity</th>\n",
       "      <th>UserComments</th>\n",
       "      <th>Category</th>\n",
       "    </tr>\n",
       "  </thead>\n",
       "  <tbody>\n",
       "    <tr>\n",
       "      <th>0</th>\n",
       "      <td>False</td>\n",
       "      <td>False</td>\n",
       "      <td>False</td>\n",
       "    </tr>\n",
       "    <tr>\n",
       "      <th>1</th>\n",
       "      <td>False</td>\n",
       "      <td>False</td>\n",
       "      <td>False</td>\n",
       "    </tr>\n",
       "    <tr>\n",
       "      <th>2</th>\n",
       "      <td>False</td>\n",
       "      <td>False</td>\n",
       "      <td>False</td>\n",
       "    </tr>\n",
       "    <tr>\n",
       "      <th>3</th>\n",
       "      <td>False</td>\n",
       "      <td>False</td>\n",
       "      <td>False</td>\n",
       "    </tr>\n",
       "    <tr>\n",
       "      <th>4</th>\n",
       "      <td>False</td>\n",
       "      <td>False</td>\n",
       "      <td>False</td>\n",
       "    </tr>\n",
       "    <tr>\n",
       "      <th>...</th>\n",
       "      <td>...</td>\n",
       "      <td>...</td>\n",
       "      <td>...</td>\n",
       "    </tr>\n",
       "    <tr>\n",
       "      <th>5139</th>\n",
       "      <td>False</td>\n",
       "      <td>False</td>\n",
       "      <td>False</td>\n",
       "    </tr>\n",
       "    <tr>\n",
       "      <th>5140</th>\n",
       "      <td>False</td>\n",
       "      <td>False</td>\n",
       "      <td>False</td>\n",
       "    </tr>\n",
       "    <tr>\n",
       "      <th>5141</th>\n",
       "      <td>False</td>\n",
       "      <td>False</td>\n",
       "      <td>False</td>\n",
       "    </tr>\n",
       "    <tr>\n",
       "      <th>5142</th>\n",
       "      <td>False</td>\n",
       "      <td>False</td>\n",
       "      <td>False</td>\n",
       "    </tr>\n",
       "    <tr>\n",
       "      <th>5143</th>\n",
       "      <td>False</td>\n",
       "      <td>False</td>\n",
       "      <td>False</td>\n",
       "    </tr>\n",
       "  </tbody>\n",
       "</table>\n",
       "<p>5144 rows × 3 columns</p>\n",
       "</div>"
      ],
      "text/plain": [
       "      Polarity  UserComments  Category\n",
       "0        False         False     False\n",
       "1        False         False     False\n",
       "2        False         False     False\n",
       "3        False         False     False\n",
       "4        False         False     False\n",
       "...        ...           ...       ...\n",
       "5139     False         False     False\n",
       "5140     False         False     False\n",
       "5141     False         False     False\n",
       "5142     False         False     False\n",
       "5143     False         False     False\n",
       "\n",
       "[5144 rows x 3 columns]"
      ]
     },
     "execution_count": 38,
     "metadata": {},
     "output_type": "execute_result"
    }
   ],
   "source": [
    "pandas.isnull(dfp)"
   ]
  },
  {
   "cell_type": "code",
   "execution_count": 39,
   "id": "00d24895",
   "metadata": {},
   "outputs": [
    {
     "data": {
      "text/html": [
       "<div>\n",
       "<style scoped>\n",
       "    .dataframe tbody tr th:only-of-type {\n",
       "        vertical-align: middle;\n",
       "    }\n",
       "\n",
       "    .dataframe tbody tr th {\n",
       "        vertical-align: top;\n",
       "    }\n",
       "\n",
       "    .dataframe thead th {\n",
       "        text-align: right;\n",
       "    }\n",
       "</style>\n",
       "<table border=\"1\" class=\"dataframe\">\n",
       "  <thead>\n",
       "    <tr style=\"text-align: right;\">\n",
       "      <th></th>\n",
       "      <th>Polarity</th>\n",
       "      <th>UserComments</th>\n",
       "      <th>Category</th>\n",
       "    </tr>\n",
       "  </thead>\n",
       "  <tbody>\n",
       "    <tr>\n",
       "      <th>3116</th>\n",
       "      <td>-1.0</td>\n",
       "      <td>care bank worst credit card depart ask interes...</td>\n",
       "      <td>NaN</td>\n",
       "    </tr>\n",
       "    <tr>\n",
       "      <th>3145</th>\n",
       "      <td>-1.0</td>\n",
       "      <td>pleas dont take axi credit card worst servic f...</td>\n",
       "      <td>NaN</td>\n",
       "    </tr>\n",
       "    <tr>\n",
       "      <th>3146</th>\n",
       "      <td>-1.0</td>\n",
       "      <td>axi credit card worst peopl call centr call em...</td>\n",
       "      <td>NaN</td>\n",
       "    </tr>\n",
       "    <tr>\n",
       "      <th>3357</th>\n",
       "      <td>-1.0</td>\n",
       "      <td>worst servic flipkart axi credit</td>\n",
       "      <td>NaN</td>\n",
       "    </tr>\n",
       "    <tr>\n",
       "      <th>3366</th>\n",
       "      <td>-1.0</td>\n",
       "      <td>worst servic axi bank dear plz dont take credi...</td>\n",
       "      <td>NaN</td>\n",
       "    </tr>\n",
       "    <tr>\n",
       "      <th>3408</th>\n",
       "      <td>-1.0</td>\n",
       "      <td>connect worst credit card compani india credit...</td>\n",
       "      <td>NaN</td>\n",
       "    </tr>\n",
       "    <tr>\n",
       "      <th>3415</th>\n",
       "      <td>-1.0</td>\n",
       "      <td>connect worst servic sbi credit card depart do...</td>\n",
       "      <td>NaN</td>\n",
       "    </tr>\n",
       "    <tr>\n",
       "      <th>3444</th>\n",
       "      <td>-1.0</td>\n",
       "      <td>arvind credit card sbi close worst custom serv...</td>\n",
       "      <td>NaN</td>\n",
       "    </tr>\n",
       "    <tr>\n",
       "      <th>3625</th>\n",
       "      <td>-1.0</td>\n",
       "      <td>kindli suggest cancel axi bank credit card set...</td>\n",
       "      <td>NaN</td>\n",
       "    </tr>\n",
       "    <tr>\n",
       "      <th>3674</th>\n",
       "      <td>-1.0</td>\n",
       "      <td>care worst bank without permiss block icici cr...</td>\n",
       "      <td>NaN</td>\n",
       "    </tr>\n",
       "    <tr>\n",
       "      <th>3864</th>\n",
       "      <td>-1.0</td>\n",
       "      <td>connect never seen fraud lier custom servic wo...</td>\n",
       "      <td>NaN</td>\n",
       "    </tr>\n",
       "    <tr>\n",
       "      <th>3881</th>\n",
       "      <td>-1.0</td>\n",
       "      <td>bank worst custom servic pick call n keep hold...</td>\n",
       "      <td>NaN</td>\n",
       "    </tr>\n",
       "    <tr>\n",
       "      <th>3882</th>\n",
       "      <td>-1.0</td>\n",
       "      <td>bank worst custom servic pick call n keep hold...</td>\n",
       "      <td>NaN</td>\n",
       "    </tr>\n",
       "    <tr>\n",
       "      <th>3923</th>\n",
       "      <td>-1.0</td>\n",
       "      <td>care hdfc care get worst day dayi tri reach cu...</td>\n",
       "      <td>NaN</td>\n",
       "    </tr>\n",
       "    <tr>\n",
       "      <th>3999</th>\n",
       "      <td>-1.0</td>\n",
       "      <td>sbi credit card worst card</td>\n",
       "      <td>NaN</td>\n",
       "    </tr>\n",
       "    <tr>\n",
       "      <th>4027</th>\n",
       "      <td>-1.0</td>\n",
       "      <td>hdfc worst bank ever dont option updat address...</td>\n",
       "      <td>NaN</td>\n",
       "    </tr>\n",
       "    <tr>\n",
       "      <th>4062</th>\n",
       "      <td>-1.0</td>\n",
       "      <td>icici bank ki credit card ki custom care ki se...</td>\n",
       "      <td>NaN</td>\n",
       "    </tr>\n",
       "    <tr>\n",
       "      <th>4072</th>\n",
       "      <td>-1.0</td>\n",
       "      <td>bank dont use hdfc servic pathet abd credit ca...</td>\n",
       "      <td>NaN</td>\n",
       "    </tr>\n",
       "    <tr>\n",
       "      <th>4197</th>\n",
       "      <td>-1.0</td>\n",
       "      <td>care bank hdfc bank credit card servic worst d...</td>\n",
       "      <td>NaN</td>\n",
       "    </tr>\n",
       "    <tr>\n",
       "      <th>4349</th>\n",
       "      <td>-1.0</td>\n",
       "      <td>connect worst servic sbi card updat credit car...</td>\n",
       "      <td>NaN</td>\n",
       "    </tr>\n",
       "    <tr>\n",
       "      <th>4529</th>\n",
       "      <td>-1.0</td>\n",
       "      <td>worst credit card servic ir even bank servic i...</td>\n",
       "      <td>NaN</td>\n",
       "    </tr>\n",
       "    <tr>\n",
       "      <th>4628</th>\n",
       "      <td>-1.0</td>\n",
       "      <td>worst credit card ever bank chase give stateme...</td>\n",
       "      <td>NaN</td>\n",
       "    </tr>\n",
       "    <tr>\n",
       "      <th>4697</th>\n",
       "      <td>-1.0</td>\n",
       "      <td>connect sbi credit card worst card one respons...</td>\n",
       "      <td>NaN</td>\n",
       "    </tr>\n",
       "    <tr>\n",
       "      <th>4775</th>\n",
       "      <td>-1.0</td>\n",
       "      <td>worst custom support receiv axi magnu credit c...</td>\n",
       "      <td>NaN</td>\n",
       "    </tr>\n",
       "    <tr>\n",
       "      <th>4782</th>\n",
       "      <td>-1.0</td>\n",
       "      <td>axi bank flipkart credit card worst card ever ...</td>\n",
       "      <td>NaN</td>\n",
       "    </tr>\n",
       "    <tr>\n",
       "      <th>4783</th>\n",
       "      <td>-1.0</td>\n",
       "      <td>worst experi support team axi credit card depa...</td>\n",
       "      <td>NaN</td>\n",
       "    </tr>\n",
       "    <tr>\n",
       "      <th>4785</th>\n",
       "      <td>-1.0</td>\n",
       "      <td>worst custom care servic custom care execut na...</td>\n",
       "      <td>NaN</td>\n",
       "    </tr>\n",
       "    <tr>\n",
       "      <th>4786</th>\n",
       "      <td>-1.0</td>\n",
       "      <td>worst custom care servic custom care execut na...</td>\n",
       "      <td>NaN</td>\n",
       "    </tr>\n",
       "    <tr>\n",
       "      <th>5031</th>\n",
       "      <td>-1.0</td>\n",
       "      <td>worst custom support receiv axi magnu credit c...</td>\n",
       "      <td>NaN</td>\n",
       "    </tr>\n",
       "    <tr>\n",
       "      <th>5043</th>\n",
       "      <td>-1.0</td>\n",
       "      <td>bank care hdfc credit card custom care servic ...</td>\n",
       "      <td>NaN</td>\n",
       "    </tr>\n",
       "    <tr>\n",
       "      <th>5065</th>\n",
       "      <td>-1.0</td>\n",
       "      <td>care worst custom care servic highli disappoin...</td>\n",
       "      <td>NaN</td>\n",
       "    </tr>\n",
       "    <tr>\n",
       "      <th>5138</th>\n",
       "      <td>-1.0</td>\n",
       "      <td>connect worst credit card compani get cardlast...</td>\n",
       "      <td>NaN</td>\n",
       "    </tr>\n",
       "  </tbody>\n",
       "</table>\n",
       "</div>"
      ],
      "text/plain": [
       "      Polarity                                       UserComments Category\n",
       "3116      -1.0  care bank worst credit card depart ask interes...      NaN\n",
       "3145      -1.0  pleas dont take axi credit card worst servic f...      NaN\n",
       "3146      -1.0  axi credit card worst peopl call centr call em...      NaN\n",
       "3357      -1.0                   worst servic flipkart axi credit      NaN\n",
       "3366      -1.0  worst servic axi bank dear plz dont take credi...      NaN\n",
       "3408      -1.0  connect worst credit card compani india credit...      NaN\n",
       "3415      -1.0  connect worst servic sbi credit card depart do...      NaN\n",
       "3444      -1.0  arvind credit card sbi close worst custom serv...      NaN\n",
       "3625      -1.0  kindli suggest cancel axi bank credit card set...      NaN\n",
       "3674      -1.0  care worst bank without permiss block icici cr...      NaN\n",
       "3864      -1.0  connect never seen fraud lier custom servic wo...      NaN\n",
       "3881      -1.0  bank worst custom servic pick call n keep hold...      NaN\n",
       "3882      -1.0  bank worst custom servic pick call n keep hold...      NaN\n",
       "3923      -1.0  care hdfc care get worst day dayi tri reach cu...      NaN\n",
       "3999      -1.0                         sbi credit card worst card      NaN\n",
       "4027      -1.0  hdfc worst bank ever dont option updat address...      NaN\n",
       "4062      -1.0  icici bank ki credit card ki custom care ki se...      NaN\n",
       "4072      -1.0  bank dont use hdfc servic pathet abd credit ca...      NaN\n",
       "4197      -1.0  care bank hdfc bank credit card servic worst d...      NaN\n",
       "4349      -1.0  connect worst servic sbi card updat credit car...      NaN\n",
       "4529      -1.0  worst credit card servic ir even bank servic i...      NaN\n",
       "4628      -1.0  worst credit card ever bank chase give stateme...      NaN\n",
       "4697      -1.0  connect sbi credit card worst card one respons...      NaN\n",
       "4775      -1.0  worst custom support receiv axi magnu credit c...      NaN\n",
       "4782      -1.0  axi bank flipkart credit card worst card ever ...      NaN\n",
       "4783      -1.0  worst experi support team axi credit card depa...      NaN\n",
       "4785      -1.0  worst custom care servic custom care execut na...      NaN\n",
       "4786      -1.0  worst custom care servic custom care execut na...      NaN\n",
       "5031      -1.0  worst custom support receiv axi magnu credit c...      NaN\n",
       "5043      -1.0  bank care hdfc credit card custom care servic ...      NaN\n",
       "5065      -1.0  care worst custom care servic highli disappoin...      NaN\n",
       "5138      -1.0  connect worst credit card compani get cardlast...      NaN"
      ]
     },
     "execution_count": 39,
     "metadata": {},
     "output_type": "execute_result"
    }
   ],
   "source": [
    "# importing pandas package\n",
    "import pandas as pd\n",
    "\n",
    "# making data frame from excel file\n",
    "#dataN = pd.read_excel(\"export_User_Comments_Polarity_Category.xlsx\")\n",
    "\n",
    "# creating bool series True for NaN values\n",
    "#dataN_series = pd.isnull(dataN[\"Polarity_type\"])\n",
    "dataN_series = pd.isnull(dfp[\"Category\"])\n",
    "\n",
    "# filtering data\n",
    "# displayind data only with team = NaN\n",
    "#dataN[dataN_series]\n",
    "dfp[dataN_series]"
   ]
  },
  {
   "cell_type": "code",
   "execution_count": 40,
   "id": "f4425dfb",
   "metadata": {},
   "outputs": [
    {
     "data": {
      "text/html": [
       "<div>\n",
       "<style scoped>\n",
       "    .dataframe tbody tr th:only-of-type {\n",
       "        vertical-align: middle;\n",
       "    }\n",
       "\n",
       "    .dataframe tbody tr th {\n",
       "        vertical-align: top;\n",
       "    }\n",
       "\n",
       "    .dataframe thead th {\n",
       "        text-align: right;\n",
       "    }\n",
       "</style>\n",
       "<table border=\"1\" class=\"dataframe\">\n",
       "  <thead>\n",
       "    <tr style=\"text-align: right;\">\n",
       "      <th></th>\n",
       "      <th>Polarity</th>\n",
       "      <th>UserComments</th>\n",
       "      <th>Category</th>\n",
       "    </tr>\n",
       "  </thead>\n",
       "  <tbody>\n",
       "    <tr>\n",
       "      <th>0</th>\n",
       "      <td>0.250000</td>\n",
       "      <td>first stay trident group reward bonu point</td>\n",
       "      <td>Positive</td>\n",
       "    </tr>\n",
       "    <tr>\n",
       "      <th>1</th>\n",
       "      <td>0.000000</td>\n",
       "      <td>shop supermarket watch movi spend sbi card reward</td>\n",
       "      <td>Negative</td>\n",
       "    </tr>\n",
       "    <tr>\n",
       "      <th>2</th>\n",
       "      <td>0.700000</td>\n",
       "      <td>use card year benefit reward good</td>\n",
       "      <td>Positive</td>\n",
       "    </tr>\n",
       "    <tr>\n",
       "      <th>3</th>\n",
       "      <td>0.000000</td>\n",
       "      <td>card inde one offer reward fuel save benefit c...</td>\n",
       "      <td>Negative</td>\n",
       "    </tr>\n",
       "    <tr>\n",
       "      <th>4</th>\n",
       "      <td>1.000000</td>\n",
       "      <td>valueback deal fuel perfect benefit card</td>\n",
       "      <td>Positive</td>\n",
       "    </tr>\n",
       "    <tr>\n",
       "      <th>...</th>\n",
       "      <td>...</td>\n",
       "      <td>...</td>\n",
       "      <td>...</td>\n",
       "    </tr>\n",
       "    <tr>\n",
       "      <th>5139</th>\n",
       "      <td>0.000000</td>\n",
       "      <td>nation payment corpor india npci npci launch y...</td>\n",
       "      <td>Negative</td>\n",
       "    </tr>\n",
       "    <tr>\n",
       "      <th>5140</th>\n",
       "      <td>0.357143</td>\n",
       "      <td>pleas make special sale laptop also hdfc sbi c...</td>\n",
       "      <td>Positive</td>\n",
       "    </tr>\n",
       "    <tr>\n",
       "      <th>5141</th>\n",
       "      <td>0.000000</td>\n",
       "      <td>care receiv credit cardther credit limit inste...</td>\n",
       "      <td>Negative</td>\n",
       "    </tr>\n",
       "    <tr>\n",
       "      <th>5142</th>\n",
       "      <td>0.000000</td>\n",
       "      <td>support hi cred teamth amount deduct twice pay...</td>\n",
       "      <td>Negative</td>\n",
       "    </tr>\n",
       "    <tr>\n",
       "      <th>5143</th>\n",
       "      <td>0.000000</td>\n",
       "      <td>connect stop loot peopl genuin pathet experi o...</td>\n",
       "      <td>Negative</td>\n",
       "    </tr>\n",
       "  </tbody>\n",
       "</table>\n",
       "<p>5144 rows × 3 columns</p>\n",
       "</div>"
      ],
      "text/plain": [
       "      Polarity                                       UserComments  Category\n",
       "0     0.250000         first stay trident group reward bonu point  Positive\n",
       "1     0.000000  shop supermarket watch movi spend sbi card reward  Negative\n",
       "2     0.700000                  use card year benefit reward good  Positive\n",
       "3     0.000000  card inde one offer reward fuel save benefit c...  Negative\n",
       "4     1.000000           valueback deal fuel perfect benefit card  Positive\n",
       "...        ...                                                ...       ...\n",
       "5139  0.000000  nation payment corpor india npci npci launch y...  Negative\n",
       "5140  0.357143  pleas make special sale laptop also hdfc sbi c...  Positive\n",
       "5141  0.000000  care receiv credit cardther credit limit inste...  Negative\n",
       "5142  0.000000  support hi cred teamth amount deduct twice pay...  Negative\n",
       "5143  0.000000  connect stop loot peopl genuin pathet experi o...  Negative\n",
       "\n",
       "[5144 rows x 3 columns]"
      ]
     },
     "execution_count": 40,
     "metadata": {},
     "output_type": "execute_result"
    }
   ],
   "source": [
    "# importing pandas module \n",
    "import pandas as pd \n",
    "\n",
    "# making data frame from csv file \n",
    "#dataN2 = pd.read_excel(\"export_User_Comments_Polarity_Category.xlsx\")\n",
    "\n",
    "# replacing na values in college with No college \n",
    "#dataN2[\"Polarity_type\"].fillna(\"Negative\", inplace = True) \n",
    "dfp[\"Category\"].fillna(\"Negative\", inplace = True)\n",
    "\n",
    "dfp"
   ]
  },
  {
   "cell_type": "code",
   "execution_count": 41,
   "id": "bb95f42b",
   "metadata": {},
   "outputs": [
    {
     "name": "stdout",
     "output_type": "stream",
     "text": [
      "<class 'pandas.core.frame.DataFrame'>\n",
      "RangeIndex: 5144 entries, 0 to 5143\n",
      "Data columns (total 3 columns):\n",
      " #   Column        Non-Null Count  Dtype   \n",
      "---  ------        --------------  -----   \n",
      " 0   Polarity      5144 non-null   float64 \n",
      " 1   UserComments  5144 non-null   object  \n",
      " 2   Category      5144 non-null   category\n",
      "dtypes: category(1), float64(1), object(1)\n",
      "memory usage: 85.6+ KB\n"
     ]
    }
   ],
   "source": [
    "dfp.info()"
   ]
  },
  {
   "cell_type": "code",
   "execution_count": 42,
   "id": "b89bdea0",
   "metadata": {},
   "outputs": [],
   "source": [
    "#Export to Excel\n",
    "from pandas import ExcelWriter\n",
    "writer = ExcelWriter('C:\\\\Reva\\\\BA06\\\\2nd Year\\\\capstone_project\\\\credit card recommadation\\\\dataset\\\\export_User_Comments_Polarity_Category_TextBlob.xlsx')\n",
    "dfp.to_excel(writer,'Sheet1',index=False)\n",
    "writer.save()"
   ]
  },
  {
   "cell_type": "markdown",
   "id": "f4be8e62",
   "metadata": {},
   "source": [
    "# Prediction Models"
   ]
  },
  {
   "cell_type": "code",
   "execution_count": 43,
   "id": "8c8c609b",
   "metadata": {},
   "outputs": [
    {
     "name": "stdout",
     "output_type": "stream",
     "text": [
      "<class 'pandas.core.frame.DataFrame'>\n",
      "RangeIndex: 5144 entries, 0 to 5143\n",
      "Data columns (total 3 columns):\n",
      " #   Column        Non-Null Count  Dtype  \n",
      "---  ------        --------------  -----  \n",
      " 0   Polarity      5144 non-null   float64\n",
      " 1   UserComments  5138 non-null   object \n",
      " 2   Category      5144 non-null   object \n",
      "dtypes: float64(1), object(2)\n",
      "memory usage: 120.7+ KB\n"
     ]
    },
    {
     "data": {
      "text/plain": [
       "(5144, 3)"
      ]
     },
     "execution_count": 43,
     "metadata": {},
     "output_type": "execute_result"
    }
   ],
   "source": [
    "df_p = pd.read_excel('C:\\\\Reva\\\\BA06\\\\2nd Year\\\\capstone_project\\\\credit card recommadation\\\\dataset\\\\export_User_Comments_Polarity_Category_TextBlob.xlsx')\n",
    "df_p.info()\n",
    "df_p.shape"
   ]
  },
  {
   "cell_type": "code",
   "execution_count": 44,
   "id": "025adb5d",
   "metadata": {},
   "outputs": [
    {
     "data": {
      "text/plain": [
       "<Figure size 720x720 with 0 Axes>"
      ]
     },
     "execution_count": 44,
     "metadata": {},
     "output_type": "execute_result"
    },
    {
     "data": {
      "image/png": "[encoded data removed]",
      "text/plain": [
       "<Figure size 720x720 with 1 Axes>"
      ]
     },
     "metadata": {
      "needs_background": "light"
     },
     "output_type": "display_data"
    }
   ],
   "source": [
    "plt.figure(figsize=(10,10))\n",
    "sns.set_style(\"whitegrid\")\n",
    "ax = sns.countplot(x=\"Category\", data=df_p, \n",
    "                  palette=dict(Positive=\"Green\", Negative=\"Red\"))"
   ]
  },
  {
   "cell_type": "code",
   "execution_count": 45,
   "id": "0ee8df64",
   "metadata": {},
   "outputs": [
    {
     "data": {
      "text/plain": [
       "<AxesSubplot:ylabel='Category'>"
      ]
     },
     "execution_count": 45,
     "metadata": {},
     "output_type": "execute_result"
    },
    {
     "data": {
      "image/png": "[encoded data removed]",
      "text/plain": [
       "<Figure size 432x288 with 1 Axes>"
      ]
     },
     "metadata": {},
     "output_type": "display_data"
    }
   ],
   "source": [
    "df_p.Category.value_counts().plot(kind='pie', autopct='%1.0f%%', colors=[\"red\",\"green\"])"
   ]
  },
  {
   "cell_type": "code",
   "execution_count": 46,
   "id": "7ac803a0",
   "metadata": {},
   "outputs": [
    {
     "data": {
      "text/plain": [
       "Negative    3348\n",
       "Positive    1796\n",
       "Name: Category, dtype: int64"
      ]
     },
     "execution_count": 46,
     "metadata": {},
     "output_type": "execute_result"
    }
   ],
   "source": [
    "df_p.Category.value_counts()"
   ]
  },
  {
   "cell_type": "markdown",
   "id": "e9f7aa93",
   "metadata": {},
   "source": [
    "# Label Encoding"
   ]
  },
  {
   "cell_type": "code",
   "execution_count": 47,
   "id": "e32a6126",
   "metadata": {},
   "outputs": [],
   "source": [
    "#convert Polaty_type Negative, Positive to 0, 1\n",
    "from sklearn import preprocessing\n",
    "le = preprocessing.LabelEncoder()"
   ]
  },
  {
   "cell_type": "code",
   "execution_count": 48,
   "id": "221ea717",
   "metadata": {},
   "outputs": [
    {
     "data": {
      "text/html": [
       "<style>#sk-container-id-1 {color: black;background-color: white;}#sk-container-id-1 pre{padding: 0;}#sk-container-id-1 div.sk-toggleable {background-color: white;}#sk-container-id-1 label.sk-toggleable__label {cursor: pointer;display: block;width: 100%;margin-bottom: 0;padding: 0.3em;box-sizing: border-box;text-align: center;}#sk-container-id-1 label.sk-toggleable__label-arrow:before {content: \"▸\";float: left;margin-right: 0.25em;color: #696969;}#sk-container-id-1 label.sk-toggleable__label-arrow:hover:before {color: black;}#sk-container-id-1 div.sk-estimator:hover label.sk-toggleable__label-arrow:before {color: black;}#sk-container-id-1 div.sk-toggleable__content {max-height: 0;max-width: 0;overflow: hidden;text-align: left;background-color: #f0f8ff;}#sk-container-id-1 div.sk-toggleable__content pre {margin: 0.2em;color: black;border-radius: 0.25em;background-color: #f0f8ff;}#sk-container-id-1 input.sk-toggleable__control:checked~div.sk-toggleable__content {max-height: 200px;max-width: 100%;overflow: auto;}#sk-container-id-1 input.sk-toggleable__control:checked~label.sk-toggleable__label-arrow:before {content: \"▾\";}#sk-container-id-1 div.sk-estimator input.sk-toggleable__control:checked~label.sk-toggleable__label {background-color: #d4ebff;}#sk-container-id-1 div.sk-label input.sk-toggleable__control:checked~label.sk-toggleable__label {background-color: #d4ebff;}#sk-container-id-1 input.sk-hidden--visually {border: 0;clip: rect(1px 1px 1px 1px);clip: rect(1px, 1px, 1px, 1px);height: 1px;margin: -1px;overflow: hidden;padding: 0;position: absolute;width: 1px;}#sk-container-id-1 div.sk-estimator {font-family: monospace;background-color: #f0f8ff;border: 1px dotted black;border-radius: 0.25em;box-sizing: border-box;margin-bottom: 0.5em;}#sk-container-id-1 div.sk-estimator:hover {background-color: #d4ebff;}#sk-container-id-1 div.sk-parallel-item::after {content: \"\";width: 100%;border-bottom: 1px solid gray;flex-grow: 1;}#sk-container-id-1 div.sk-label:hover label.sk-toggleable__label {background-color: #d4ebff;}#sk-container-id-1 div.sk-serial::before {content: \"\";position: absolute;border-left: 1px solid gray;box-sizing: border-box;top: 0;bottom: 0;left: 50%;z-index: 0;}#sk-container-id-1 div.sk-serial {display: flex;flex-direction: column;align-items: center;background-color: white;padding-right: 0.2em;padding-left: 0.2em;position: relative;}#sk-container-id-1 div.sk-item {position: relative;z-index: 1;}#sk-container-id-1 div.sk-parallel {display: flex;align-items: stretch;justify-content: center;background-color: white;position: relative;}#sk-container-id-1 div.sk-item::before, #sk-container-id-1 div.sk-parallel-item::before {content: \"\";position: absolute;border-left: 1px solid gray;box-sizing: border-box;top: 0;bottom: 0;left: 50%;z-index: -1;}#sk-container-id-1 div.sk-parallel-item {display: flex;flex-direction: column;z-index: 1;position: relative;background-color: white;}#sk-container-id-1 div.sk-parallel-item:first-child::after {align-self: flex-end;width: 50%;}#sk-container-id-1 div.sk-parallel-item:last-child::after {align-self: flex-start;width: 50%;}#sk-container-id-1 div.sk-parallel-item:only-child::after {width: 0;}#sk-container-id-1 div.sk-dashed-wrapped {border: 1px dashed gray;margin: 0 0.4em 0.5em 0.4em;box-sizing: border-box;padding-bottom: 0.4em;background-color: white;}#sk-container-id-1 div.sk-label label {font-family: monospace;font-weight: bold;display: inline-block;line-height: 1.2em;}#sk-container-id-1 div.sk-label-container {text-align: center;}#sk-container-id-1 div.sk-container {/* jupyter's `normalize.less` sets `[hidden] { display: none; }` but bootstrap.min.css set `[hidden] { display: none !important; }` so we also need the `!important` here to be able to override the default hidden behavior on the sphinx rendered scikit-learn.org. See: https://github.com/scikit-learn/scikit-learn/issues/21755 */display: inline-block !important;position: relative;}#sk-container-id-1 div.sk-text-repr-fallback {display: none;}</style><div id=\"sk-container-id-1\" class=\"sk-top-container\"><div class=\"sk-text-repr-fallback\"><pre>LabelEncoder()</pre><b>In a Jupyter environment, please rerun this cell to show the HTML representation or trust the notebook. <br />On GitHub, the HTML representation is unable to render, please try loading this page with nbviewer.org.</b></div><div class=\"sk-container\" hidden><div class=\"sk-item\"><div class=\"sk-estimator sk-toggleable\"><input class=\"sk-toggleable__control sk-hidden--visually\" id=\"sk-estimator-id-1\" type=\"checkbox\" checked><label for=\"sk-estimator-id-1\" class=\"sk-toggleable__label sk-toggleable__label-arrow\">LabelEncoder</label><div class=\"sk-toggleable__content\"><pre>LabelEncoder()</pre></div></div></div></div></div>"
      ],
      "text/plain": [
       "LabelEncoder()"
      ]
     },
     "execution_count": 48,
     "metadata": {},
     "output_type": "execute_result"
    }
   ],
   "source": [
    "le.fit(df_p['Category'])"
   ]
  },
  {
   "cell_type": "code",
   "execution_count": 49,
   "id": "fbcce092",
   "metadata": {},
   "outputs": [
    {
     "data": {
      "text/plain": [
       "['Negative', 'Positive']"
      ]
     },
     "execution_count": 49,
     "metadata": {},
     "output_type": "execute_result"
    }
   ],
   "source": [
    "list(le.classes_)"
   ]
  },
  {
   "cell_type": "code",
   "execution_count": 50,
   "id": "a3499e4c",
   "metadata": {},
   "outputs": [],
   "source": [
    "dfn = le.transform(df_p['Category'])"
   ]
  },
  {
   "cell_type": "code",
   "execution_count": 51,
   "id": "9522ab3b",
   "metadata": {},
   "outputs": [
    {
     "data": {
      "text/plain": [
       "array(['Negative', 'Positive'], dtype=object)"
      ]
     },
     "execution_count": 51,
     "metadata": {},
     "output_type": "execute_result"
    }
   ],
   "source": [
    "le.inverse_transform([0,1])"
   ]
  },
  {
   "cell_type": "code",
   "execution_count": 52,
   "id": "188513ed",
   "metadata": {},
   "outputs": [
    {
     "name": "stdout",
     "output_type": "stream",
     "text": [
      "<class 'pandas.core.frame.DataFrame'>\n",
      "RangeIndex: 5144 entries, 0 to 5143\n",
      "Data columns (total 3 columns):\n",
      " #   Column        Non-Null Count  Dtype  \n",
      "---  ------        --------------  -----  \n",
      " 0   Polarity      5144 non-null   float64\n",
      " 1   UserComments  5138 non-null   object \n",
      " 2   Category      5144 non-null   int32  \n",
      "dtypes: float64(1), int32(1), object(1)\n",
      "memory usage: 100.6+ KB\n"
     ]
    },
    {
     "data": {
      "text/plain": [
       "Index(['Polarity', 'UserComments', 'Category'], dtype='object')"
      ]
     },
     "execution_count": 52,
     "metadata": {},
     "output_type": "execute_result"
    }
   ],
   "source": [
    "df_p['Category'] = dfn\n",
    "df_p.info()\n",
    "df_p.columns"
   ]
  },
  {
   "cell_type": "code",
   "execution_count": 53,
   "id": "c43bd96c",
   "metadata": {},
   "outputs": [],
   "source": [
    "def clean_comment_length(UserComments):\n",
    "    letters_only = re.sub(\"[^a-zA-Z]\", \" \",str(UserComments)) \n",
    "    words = letters_only.lower().split()                             \n",
    "    stops = set(stopwords.words(\"english\"))                  \n",
    "    meaningful_words = [w for w in words if not w in stops] \n",
    "    return(len(meaningful_words) )"
   ]
  },
  {
   "cell_type": "code",
   "execution_count": 54,
   "id": "b3e9a8a6",
   "metadata": {},
   "outputs": [],
   "source": [
    "def comment_to_words(UserComments):\n",
    "    letters_only = re.sub(\"[^a-zA-Z]\", \" \",str(UserComments))\n",
    "    words = letters_only.lower().split()                             \n",
    "    stops = set(stopwords.words(\"english\"))                  \n",
    "    meaningful_words = [w for w in words if not w in stops] \n",
    "    return( \" \".join( meaningful_words )) "
   ]
  },
  {
   "cell_type": "code",
   "execution_count": 55,
   "id": "12201f7b",
   "metadata": {},
   "outputs": [],
   "source": [
    "dflex['clean_comment']=df_p['UserComments'].apply(lambda x: comment_to_words(x))\n",
    "dflex['comment_length']=df_p['UserComments'].apply(lambda x: clean_comment_length(x))\n",
    "train,test = train_test_split(df_p,test_size=0.25,random_state=42)"
   ]
  },
  {
   "cell_type": "code",
   "execution_count": 56,
   "id": "042c55f4",
   "metadata": {},
   "outputs": [],
   "source": [
    "train_clean_comment=[]\n",
    "for comment in train['UserComments']:\n",
    "    train_clean_comment.append(str(comment))\n",
    "test_clean_comment=[]\n",
    "for comment in test['UserComments']:\n",
    "    test_clean_comment.append(str(comment))"
   ]
  },
  {
   "cell_type": "code",
   "execution_count": 57,
   "id": "6af44842",
   "metadata": {},
   "outputs": [],
   "source": [
    "from sklearn.feature_extraction.text import CountVectorizer\n",
    "v = CountVectorizer(analyzer = \"word\")\n",
    "train_features= v.fit_transform(train_clean_comment)\n",
    "test_features=v.transform(test_clean_comment)"
   ]
  },
  {
   "cell_type": "code",
   "execution_count": 58,
   "id": "cc78b34e",
   "metadata": {},
   "outputs": [],
   "source": [
    "from sklearn.linear_model import LogisticRegression\n",
    "from sklearn.neighbors import KNeighborsClassifier\n",
    "from sklearn.svm import SVC, LinearSVC, NuSVC\n",
    "from sklearn.tree import DecisionTreeClassifier\n",
    "from sklearn.ensemble import RandomForestClassifier, AdaBoostClassifier, GradientBoostingClassifier\n",
    "from sklearn.naive_bayes import GaussianNB\n",
    "from sklearn.discriminant_analysis import LinearDiscriminantAnalysis\n",
    "from sklearn.discriminant_analysis import QuadraticDiscriminantAnalysis\n",
    "from sklearn.metrics import accuracy_score"
   ]
  },
  {
   "cell_type": "code",
   "execution_count": 59,
   "id": "8b5bd4e0",
   "metadata": {},
   "outputs": [],
   "source": [
    "#Classifiers\n",
    "Classifiers = [\n",
    "    SVC(kernel=\"rbf\", C=0.03, gamma = 'scale'),\n",
    "    DecisionTreeClassifier(),\n",
    "    RandomForestClassifier(n_estimators=100),\n",
    "    GradientBoostingClassifier(),GaussianNB()]"
   ]
  },
  {
   "cell_type": "code",
   "execution_count": 60,
   "id": "73a2d340",
   "metadata": {},
   "outputs": [],
   "source": [
    "from sklearn.metrics import classification_report\n",
    "import matplotlib.pyplot as plt\n",
    "import numpy as np"
   ]
  },
  {
   "cell_type": "code",
   "execution_count": 61,
   "id": "054e4fdb",
   "metadata": {},
   "outputs": [
    {
     "name": "stdout",
     "output_type": "stream",
     "text": [
      "Accuracy of SVC is 0.6485225505443235\n",
      "              precision    recall  f1-score   support\n",
      "\n",
      "           0       1.00      0.65      0.79      1286\n",
      "           1       0.00      0.00      0.00         0\n",
      "\n",
      "    accuracy                           0.65      1286\n",
      "   macro avg       0.50      0.32      0.39      1286\n",
      "weighted avg       1.00      0.65      0.79      1286\n",
      "\n"
     ]
    },
    {
     "data": {
      "text/plain": [
       "<Figure size 432x288 with 0 Axes>"
      ]
     },
     "execution_count": 61,
     "metadata": {},
     "output_type": "execute_result"
    },
    {
     "data": {
      "text/plain": [
       "(<Figure size 432x288 with 1 Axes>,\n",
       " <AxesSubplot:xlabel='predicted label', ylabel='true label'>)"
      ]
     },
     "execution_count": 61,
     "metadata": {},
     "output_type": "execute_result"
    },
    {
     "data": {
      "text/plain": [
       "([<matplotlib.axis.XTick at 0x1ab204cd4c0>,\n",
       "  <matplotlib.axis.XTick at 0x1ab204cd490>],\n",
       " [Text(0, 0, 'Negative'), Text(1, 0, 'Positive')])"
      ]
     },
     "execution_count": 61,
     "metadata": {},
     "output_type": "execute_result"
    },
    {
     "data": {
      "text/plain": [
       "([<matplotlib.axis.YTick at 0x1ab204b7b80>,\n",
       "  <matplotlib.axis.YTick at 0x1ab204cdd00>],\n",
       " [Text(0, 0, 'Negative'), Text(0, 1, 'Positive')])"
      ]
     },
     "execution_count": 61,
     "metadata": {},
     "output_type": "execute_result"
    },
    {
     "data": {
      "text/plain": [
       "Text(0.5, 0, 'Predicted Label')"
      ]
     },
     "execution_count": 61,
     "metadata": {},
     "output_type": "execute_result"
    },
    {
     "data": {
      "text/plain": [
       "Text(0, 0.5, 'True Label')"
      ]
     },
     "execution_count": 61,
     "metadata": {},
     "output_type": "execute_result"
    },
    {
     "data": {
      "text/plain": [
       "<Figure size 432x288 with 0 Axes>"
      ]
     },
     "metadata": {},
     "output_type": "display_data"
    },
    {
     "data": {
      "image/png": "[encoded data removed]",
      "text/plain": [
       "<Figure size 432x288 with 1 Axes>"
      ]
     },
     "metadata": {},
     "output_type": "display_data"
    },
    {
     "name": "stdout",
     "output_type": "stream",
     "text": [
      "Accuracy of DecisionTreeClassifier is 0.9875583203732504\n",
      "              precision    recall  f1-score   support\n",
      "\n",
      "           0       0.99      0.99      0.99       830\n",
      "           1       0.99      0.98      0.98       456\n",
      "\n",
      "    accuracy                           0.99      1286\n",
      "   macro avg       0.99      0.99      0.99      1286\n",
      "weighted avg       0.99      0.99      0.99      1286\n",
      "\n"
     ]
    },
    {
     "data": {
      "text/plain": [
       "<Figure size 432x288 with 0 Axes>"
      ]
     },
     "execution_count": 61,
     "metadata": {},
     "output_type": "execute_result"
    },
    {
     "data": {
      "text/plain": [
       "(<Figure size 432x288 with 1 Axes>,\n",
       " <AxesSubplot:xlabel='predicted label', ylabel='true label'>)"
      ]
     },
     "execution_count": 61,
     "metadata": {},
     "output_type": "execute_result"
    },
    {
     "data": {
      "text/plain": [
       "([<matplotlib.axis.XTick at 0x1ab20507d60>,\n",
       "  <matplotlib.axis.XTick at 0x1ab20507d30>],\n",
       " [Text(0, 0, 'Negative'), Text(1, 0, 'Positive')])"
      ]
     },
     "execution_count": 61,
     "metadata": {},
     "output_type": "execute_result"
    },
    {
     "data": {
      "text/plain": [
       "([<matplotlib.axis.YTick at 0x1ab2050dd00>,\n",
       "  <matplotlib.axis.YTick at 0x1ab2050d580>],\n",
       " [Text(0, 0, 'Negative'), Text(0, 1, 'Positive')])"
      ]
     },
     "execution_count": 61,
     "metadata": {},
     "output_type": "execute_result"
    },
    {
     "data": {
      "text/plain": [
       "Text(0.5, 0, 'Predicted Label')"
      ]
     },
     "execution_count": 61,
     "metadata": {},
     "output_type": "execute_result"
    },
    {
     "data": {
      "text/plain": [
       "Text(0, 0.5, 'True Label')"
      ]
     },
     "execution_count": 61,
     "metadata": {},
     "output_type": "execute_result"
    },
    {
     "data": {
      "text/plain": [
       "<Figure size 432x288 with 0 Axes>"
      ]
     },
     "metadata": {},
     "output_type": "display_data"
    },
    {
     "data": {
      "image/png": "[encoded data removed]",
      "text/plain": [
       "<Figure size 432x288 with 1 Axes>"
      ]
     },
     "metadata": {},
     "output_type": "display_data"
    },
    {
     "name": "stdout",
     "output_type": "stream",
     "text": [
      "Accuracy of RandomForestClassifier is 0.9440124416796267\n",
      "              precision    recall  f1-score   support\n",
      "\n",
      "           0       0.97      0.95      0.96       856\n",
      "           1       0.90      0.94      0.92       430\n",
      "\n",
      "    accuracy                           0.94      1286\n",
      "   macro avg       0.93      0.94      0.94      1286\n",
      "weighted avg       0.95      0.94      0.94      1286\n",
      "\n"
     ]
    },
    {
     "data": {
      "text/plain": [
       "<Figure size 432x288 with 0 Axes>"
      ]
     },
     "execution_count": 61,
     "metadata": {},
     "output_type": "execute_result"
    },
    {
     "data": {
      "text/plain": [
       "(<Figure size 432x288 with 1 Axes>,\n",
       " <AxesSubplot:xlabel='predicted label', ylabel='true label'>)"
      ]
     },
     "execution_count": 61,
     "metadata": {},
     "output_type": "execute_result"
    },
    {
     "data": {
      "text/plain": [
       "([<matplotlib.axis.XTick at 0x1ab2055a8e0>,\n",
       "  <matplotlib.axis.XTick at 0x1ab2055a8b0>],\n",
       " [Text(0, 0, 'Negative'), Text(1, 0, 'Positive')])"
      ]
     },
     "execution_count": 61,
     "metadata": {},
     "output_type": "execute_result"
    },
    {
     "data": {
      "text/plain": [
       "([<matplotlib.axis.YTick at 0x1ab205608e0>,\n",
       "  <matplotlib.axis.YTick at 0x1ab20560160>],\n",
       " [Text(0, 0, 'Negative'), Text(0, 1, 'Positive')])"
      ]
     },
     "execution_count": 61,
     "metadata": {},
     "output_type": "execute_result"
    },
    {
     "data": {
      "text/plain": [
       "Text(0.5, 0, 'Predicted Label')"
      ]
     },
     "execution_count": 61,
     "metadata": {},
     "output_type": "execute_result"
    },
    {
     "data": {
      "text/plain": [
       "Text(0, 0.5, 'True Label')"
      ]
     },
     "execution_count": 61,
     "metadata": {},
     "output_type": "execute_result"
    },
    {
     "data": {
      "text/plain": [
       "<Figure size 432x288 with 0 Axes>"
      ]
     },
     "metadata": {},
     "output_type": "display_data"
    },
    {
     "data": {
      "image/png": "[encoded data removed]",
      "text/plain": [
       "<Figure size 432x288 with 1 Axes>"
      ]
     },
     "metadata": {},
     "output_type": "display_data"
    },
    {
     "name": "stdout",
     "output_type": "stream",
     "text": [
      "Accuracy of GradientBoostingClassifier is 0.9502332814930016\n",
      "              precision    recall  f1-score   support\n",
      "\n",
      "           0       0.99      0.94      0.96       880\n",
      "           1       0.88      0.98      0.93       406\n",
      "\n",
      "    accuracy                           0.95      1286\n",
      "   macro avg       0.93      0.96      0.94      1286\n",
      "weighted avg       0.95      0.95      0.95      1286\n",
      "\n"
     ]
    },
    {
     "data": {
      "text/plain": [
       "<Figure size 432x288 with 0 Axes>"
      ]
     },
     "execution_count": 61,
     "metadata": {},
     "output_type": "execute_result"
    },
    {
     "data": {
      "text/plain": [
       "(<Figure size 432x288 with 1 Axes>,\n",
       " <AxesSubplot:xlabel='predicted label', ylabel='true label'>)"
      ]
     },
     "execution_count": 61,
     "metadata": {},
     "output_type": "execute_result"
    },
    {
     "data": {
      "text/plain": [
       "([<matplotlib.axis.XTick at 0x1ab205a8670>,\n",
       "  <matplotlib.axis.XTick at 0x1ab205a8640>],\n",
       " [Text(0, 0, 'Negative'), Text(1, 0, 'Positive')])"
      ]
     },
     "execution_count": 61,
     "metadata": {},
     "output_type": "execute_result"
    },
    {
     "data": {
      "text/plain": [
       "([<matplotlib.axis.YTick at 0x1ab205b0610>,\n",
       "  <matplotlib.axis.YTick at 0x1ab205a8e50>],\n",
       " [Text(0, 0, 'Negative'), Text(0, 1, 'Positive')])"
      ]
     },
     "execution_count": 61,
     "metadata": {},
     "output_type": "execute_result"
    },
    {
     "data": {
      "text/plain": [
       "Text(0.5, 0, 'Predicted Label')"
      ]
     },
     "execution_count": 61,
     "metadata": {},
     "output_type": "execute_result"
    },
    {
     "data": {
      "text/plain": [
       "Text(0, 0.5, 'True Label')"
      ]
     },
     "execution_count": 61,
     "metadata": {},
     "output_type": "execute_result"
    },
    {
     "data": {
      "text/plain": [
       "<Figure size 432x288 with 0 Axes>"
      ]
     },
     "metadata": {},
     "output_type": "display_data"
    },
    {
     "data": {
      "image/png": "[encoded data removed]",
      "text/plain": [
       "<Figure size 432x288 with 1 Axes>"
      ]
     },
     "metadata": {},
     "output_type": "display_data"
    },
    {
     "name": "stdout",
     "output_type": "stream",
     "text": [
      "Accuracy of GaussianNB is 0.5606531881804043\n",
      "              precision    recall  f1-score   support\n",
      "\n",
      "           0       0.36      0.90      0.52       337\n",
      "           1       0.92      0.44      0.60       949\n",
      "\n",
      "    accuracy                           0.56      1286\n",
      "   macro avg       0.64      0.67      0.56      1286\n",
      "weighted avg       0.78      0.56      0.58      1286\n",
      "\n"
     ]
    },
    {
     "data": {
      "text/plain": [
       "<Figure size 432x288 with 0 Axes>"
      ]
     },
     "execution_count": 61,
     "metadata": {},
     "output_type": "execute_result"
    },
    {
     "data": {
      "text/plain": [
       "(<Figure size 432x288 with 1 Axes>,\n",
       " <AxesSubplot:xlabel='predicted label', ylabel='true label'>)"
      ]
     },
     "execution_count": 61,
     "metadata": {},
     "output_type": "execute_result"
    },
    {
     "data": {
      "text/plain": [
       "([<matplotlib.axis.XTick at 0x1ab205ecf40>,\n",
       "  <matplotlib.axis.XTick at 0x1ab205ecf10>],\n",
       " [Text(0, 0, 'Negative'), Text(1, 0, 'Positive')])"
      ]
     },
     "execution_count": 61,
     "metadata": {},
     "output_type": "execute_result"
    },
    {
     "data": {
      "text/plain": [
       "([<matplotlib.axis.YTick at 0x1ab205f4f40>,\n",
       "  <matplotlib.axis.YTick at 0x1ab205f47c0>],\n",
       " [Text(0, 0, 'Negative'), Text(0, 1, 'Positive')])"
      ]
     },
     "execution_count": 61,
     "metadata": {},
     "output_type": "execute_result"
    },
    {
     "data": {
      "text/plain": [
       "Text(0.5, 0, 'Predicted Label')"
      ]
     },
     "execution_count": 61,
     "metadata": {},
     "output_type": "execute_result"
    },
    {
     "data": {
      "text/plain": [
       "Text(0, 0.5, 'True Label')"
      ]
     },
     "execution_count": 61,
     "metadata": {},
     "output_type": "execute_result"
    },
    {
     "data": {
      "text/plain": [
       "<Figure size 432x288 with 0 Axes>"
      ]
     },
     "metadata": {},
     "output_type": "display_data"
    },
    {
     "data": {
      "image/png": "[encoded data removed]",
      "text/plain": [
       "<Figure size 432x288 with 1 Axes>"
      ]
     },
     "metadata": {},
     "output_type": "display_data"
    }
   ],
   "source": [
    "dense_features=train_features.toarray()\n",
    "dense_test= test_features.toarray()\n",
    "Accuracy=[]\n",
    "Model=[]\n",
    "for clf in Classifiers:\n",
    "    try:\n",
    "        fit = clf.fit(train_features,train['Category'])\n",
    "        pred = fit.predict(test_features)\n",
    "    except Exception:\n",
    "        fit = clf.fit(dense_features,train['Category'])\n",
    "        pred = fit.predict(dense_test)\n",
    "    accuracy = accuracy_score(pred,test['Category'])\n",
    "    Accuracy.append(accuracy)\n",
    "    Model.append(clf.__class__.__name__)\n",
    "    print('Accuracy of '+clf.__class__.__name__+' is '+str(accuracy)) \n",
    "    print(classification_report(pred,test['Category']))\n",
    "    \n",
    "    #Confusion Matrix\n",
    "    cm = confusion_matrix(pred,test['Category'])\n",
    "    plt.figure()\n",
    "    plot_confusion_matrix(cm,cmap=plt.cm.Blues)\n",
    "    plt.xticks(range(2), ['Negative','Positive'],color='black')\n",
    "    plt.yticks(range(2), ['Negative','Positive'])\n",
    "    plt.xlabel('Predicted Label')\n",
    "    plt.ylabel('True Label')\n",
    "    plt.show()"
   ]
  },
  {
   "cell_type": "code",
   "execution_count": 62,
   "id": "47fcc368",
   "metadata": {},
   "outputs": [
    {
     "data": {
      "text/plain": [
       "<BarContainer object of 5 artists>"
      ]
     },
     "execution_count": 62,
     "metadata": {},
     "output_type": "execute_result"
    },
    {
     "data": {
      "text/plain": [
       "([<matplotlib.axis.XTick at 0x1ab205916d0>,\n",
       "  <matplotlib.axis.XTick at 0x1ab20591ca0>,\n",
       "  <matplotlib.axis.XTick at 0x1ab205b0790>,\n",
       "  <matplotlib.axis.XTick at 0x1ab2ad14b80>,\n",
       "  <matplotlib.axis.XTick at 0x1ab2ad1b310>],\n",
       " [Text(0, 0, 'SVC'),\n",
       "  Text(1, 0, 'DecisionTreeClassifier'),\n",
       "  Text(2, 0, 'RandomForestClassifier'),\n",
       "  Text(3, 0, 'GradientBoostingClassifier'),\n",
       "  Text(4, 0, 'GaussianNB')])"
      ]
     },
     "execution_count": 62,
     "metadata": {},
     "output_type": "execute_result"
    },
    {
     "data": {
      "text/plain": [
       "Text(0, 0.5, 'Accuracy')"
      ]
     },
     "execution_count": 62,
     "metadata": {},
     "output_type": "execute_result"
    },
    {
     "data": {
      "text/plain": [
       "Text(0.5, 0, 'Model')"
      ]
     },
     "execution_count": 62,
     "metadata": {},
     "output_type": "execute_result"
    },
    {
     "data": {
      "text/plain": [
       "Text(0.5, 1.0, 'Classifier Accuracies')"
      ]
     },
     "execution_count": 62,
     "metadata": {},
     "output_type": "execute_result"
    },
    {
     "data": {
      "image/png": "[encoded data removed]",
      "text/plain": [
       "<Figure size 432x288 with 1 Axes>"
      ]
     },
     "metadata": {},
     "output_type": "display_data"
    }
   ],
   "source": [
    "index=list(range(len(Classifiers)))\n",
    "plt.bar(index,Accuracy)\n",
    "plt.xticks(index,Model,rotation=90)\n",
    "plt.ylabel('Accuracy')\n",
    "plt.xlabel('Model')\n",
    "plt.title('Classifier Accuracies')"
   ]
  },
  {
   "cell_type": "code",
   "execution_count": null,
   "id": "edb462eb",
   "metadata": {},
   "outputs": [],
   "source": []
  },
  {
   "cell_type": "code",
   "execution_count": null,
   "id": "847f58ca",
   "metadata": {},
   "outputs": [],
   "source": []
  }
 ],
 "metadata": {
  "kernelspec": {
   "display_name": "Python 3 (ipykernel)",
   "language": "python",
   "name": "python3"
  },
  "language_info": {
   "codemirror_mode": {
    "name": "ipython",
    "version": 3
   },
   "file_extension": ".py",
   "mimetype": "text/x-python",
   "name": "python",
   "nbconvert_exporter": "python",
   "pygments_lexer": "ipython3",
   "version": "3.9.7"
  }
 },
 "nbformat": 4,
 "nbformat_minor": 5
}
